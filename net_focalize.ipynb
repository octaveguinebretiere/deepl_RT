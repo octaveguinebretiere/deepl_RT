{
 "cells": [
  {
   "cell_type": "code",
   "execution_count": 1,
   "id": "mediterranean-designation",
   "metadata": {},
   "outputs": [],
   "source": [
    "\"\"\"\n",
    "Created on Mon Feb 1 11:31:21 2021\n",
    "\n",
    "@author: Octave Guinebretiere\n",
    "\n",
    "\n",
    "\"\"\"\n",
    "\n",
    "import torch\n",
    "from torch import nn\n",
    "from torch.nn import functional as F\n",
    "from torch.utils.data import DataLoader, TensorDataset\n",
    "from torch.utils.data import random_split\n",
    "from torchvision import transforms\n",
    "import pytorch_lightning as pl\n",
    "from pytorch_lightning import loggers as pl_loggers\n",
    "from pytorch_lightning.metrics.functional import accuracy\n",
    "from pytorch_lightning.callbacks import ModelCheckpoint\n",
    "from pytorch_lightning.callbacks.early_stopping import EarlyStopping\n",
    "\n",
    "import numpy as np\n",
    "import matplotlib.pyplot as plt\n",
    "\n",
    "import sys\n",
    "sys.path.append('./complexPyTorch')\n",
    "\n",
    "from complexLayers import (\n",
    "    ComplexConv2d,\n",
    "    ComplexLinear,\n",
    "    NaiveComplexBatchNorm2d,\n",
    "    ComplexMaxPool2d,\n",
    "    ComplexBatchNorm2d,\n",
    "    ComplexDropout2d,\n",
    ")\n",
    "from complexLayers import ComplexReLU\n",
    "from complexFunctions import complex_relu , complex_matmul , complex_avg_pool2d , complex_normalize"
   ]
  },
  {
   "cell_type": "markdown",
   "id": "pretty-conditioning",
   "metadata": {},
   "source": [
    "## Simulation description\n",
    "\n",
    "## Description of the simulation \n",
    "\n",
    "* Illumination of a thin multiply scattering medium  \n",
    "* SLM used for wavefront manipulation\n",
    "* CCD camera for detecting the speckle \n",
    "* The SLM and the detector are located very close to the scattering sample  \n",
    "* Total internal reflexion inside the waveguide is assumed\n",
    "\n",
    "<img src='https://www.dropbox.com/s/yd0vdfme95zi4y4/dessin.png?dl=0&raw=1' width=700>"
   ]
  },
  {
   "cell_type": "code",
   "execution_count": 2,
   "id": "sought-blood",
   "metadata": {},
   "outputs": [
    {
     "name": "stdout",
     "output_type": "stream",
     "text": [
      "torch.Size([192, 1999, 1999])\n"
     ]
    }
   ],
   "source": [
    "def bin2arr(path, Nmodes, Nconf):\n",
    "    return torch.from_numpy(\n",
    "        np.fromfile(path, dtype=np.float64).reshape(Nconf, Nmodes, Nmodes)\n",
    "    ).type(torch.float32)\n",
    "\n",
    "N_confs = 192\n",
    "N_modes = 387\n",
    "\n",
    "data_folder = '../RGF_deep/'\n",
    "t_re = bin2arr(data_folder + 't_re.res', N_modes, N_confs)  \n",
    "t_im = bin2arr(data_folder + 't_im.res', N_modes, N_confs)\n",
    "r_re = bin2arr(data_folder + 'r_re.res', N_modes, N_confs)\n",
    "r_im = bin2arr(data_folder + 'r_im.res', N_modes, N_confs) \n",
    "\n",
    "# combine real and imaginary part to get complex tensors\n",
    "# + send them to the GPU\n",
    "pt_r_modes = (r_re +1j*r_im)\n",
    "pt_t_modes = (t_re +1j*t_im)\n",
    "# print(pt_r_modes.shape)\n",
    "\n",
    "# change of basis matrix from mode to space\n",
    "M0 = torch.from_numpy(np.loadtxt('../RGF/ModeToSpace_Nmodes=387_Nspace=1999.dat')).type(torch.complex64)\n",
    "# change of basis matrix from space to mode\n",
    "M1 = torch.from_numpy(np.loadtxt('../RGF/SpaceToMode_Nmodes=387_Nspace=1999.dat')).type(torch.complex64)\n",
    "\n",
    "# convert matrices to pixel basis\n",
    "pt_r_space = M0@pt_r_modes@M1\n",
    "pt_t_space = M0@pt_t_modes@M1\n",
    "\n",
    "print(pt_r_space.shape)"
   ]
  },
  {
   "cell_type": "markdown",
   "id": "rolled-tampa",
   "metadata": {},
   "source": [
    "#### Average pooling is performed on the transmission and reception matrices in space "
   ]
  },
  {
   "cell_type": "code",
   "execution_count": 3,
   "id": "mathematical-university",
   "metadata": {},
   "outputs": [
    {
     "name": "stdout",
     "output_type": "stream",
     "text": [
      "torch.Size([192, 399, 399])\n"
     ]
    }
   ],
   "source": [
    "T_space_av = complex_avg_pool2d(pt_t_space, kernel_size=5, stride=5)\n",
    "R_space_av = complex_avg_pool2d(pt_r_space, kernel_size=5, stride=5)\n",
    "\n",
    "# T_space_av = complex_normalize(T_space_av)\n",
    "# R_space_av = complex_normalize(R_space_av)\n",
    "print(T_space_av.shape)"
   ]
  },
  {
   "cell_type": "code",
   "execution_count": 4,
   "id": "attractive-italian",
   "metadata": {},
   "outputs": [
    {
     "name": "stdout",
     "output_type": "stream",
     "text": [
      "399\n"
     ]
    }
   ],
   "source": [
    "# parameters\n",
    "PARAMS = {\n",
    "    'batch_size':16,\n",
    "    'learning_rate': 1e-3,\n",
    "    'max_epochs':120,\n",
    "    'mat_size':R_space_av.shape[-1],\n",
    "    'amp_reg':1e-3,\n",
    "    'std_reg':5,\n",
    "}\n",
    "print(PARAMS['mat_size'])"
   ]
  },
  {
   "cell_type": "code",
   "execution_count": 5,
   "id": "adopted-georgia",
   "metadata": {},
   "outputs": [
    {
     "name": "stdout",
     "output_type": "stream",
     "text": [
      "6\n"
     ]
    }
   ],
   "source": [
    "def size_after_conv(N, kernel_size, stride, num_conv_layer):\n",
    "    \"\"\"\n",
    "        function returning the size of H,W after a \n",
    "        convolutional layer with kernel_size and stride\n",
    "    \"\"\"\n",
    "    \n",
    "    for i in range(num_conv_layer):\n",
    "        N = int((N-(kernel_size-1)-1)/stride)+1\n",
    "        \n",
    "    return N\n",
    "\n",
    "print(\n",
    "    size_after_conv(N=PARAMS[\"mat_size\"], kernel_size=2, stride=2, num_conv_layer=6)\n",
    ")"
   ]
  },
  {
   "cell_type": "markdown",
   "id": "norwegian-decline",
   "metadata": {},
   "source": [
    "## Creating a focal spot from scattered light (R and T matrices)\n",
    "\n",
    "\n",
    "\n",
    "### Objective : finding the correct wave phase pattern to apply to the beam incident on the sample to do single-point focusing on the detector \n",
    "\n",
    "To do it : optimizing the shape of the wavefront incident. We want to find the wavefront which creates a focal spot from scattered light at the **middle pixel**. An SLM is used for wavefront manipulation (see Figure above)\n",
    "\n"
   ]
  },
  {
   "cell_type": "markdown",
   "id": "three-kazakhstan",
   "metadata": {},
   "source": [
    "Since the propagation in the medium is assumed to be linear, the field observed at the p-th pixel (behind the scattering medium) is the linear superposition of contributions emitted from individual source elements (SLM pixels) :\n",
    "\n",
    "\\begin{equation*}\n",
    "E_{p}^{out} = \\sum_{n=1}^{N_{SLM}} t_{pn}E_{n}^{in}\n",
    "\\label{eq:light_prop} \\tag{1}\n",
    "\\end{equation*}\n",
    "\n",
    "where $n$ is a pixel on the SLM while m is the camera pixel index.\n",
    "\n",
    "$t_{pn}$ is the medium's complex-valued transmission matrix at the $p$-th row and $n$-th column, it describes the linear relation between the incident and scattered field. \n",
    "\n",
    "Then, adopting a matrix formulation of $\\eqref{eq:light_prop}$, we get : $\\textbf{E}^{out}=T.\\textbf{E}^{in}$, with $T$ the complex-valued transmission matrix.\n",
    "\n",
    "The input and output fields are respectiviley expressed at the SLM plane and the camera plane.\n",
    "\n",
    "\n",
    "We want to find the incident fields that focuses the light at the middle of the detector only from the reflection matrix. Hence, our model $f$ outputs the incident field $E^{in}$ from the reflection matrix $R$ only : \n",
    "$$\\hat{E}^{in} = f(R)$$ \n",
    "\n",
    "\n",
    "In terms of pixels it means that we want to maximise the intensity at the pixel $p_t$ in the middle : $\\underset{w}{\\arg\\max} |E_{p_t}^{out}|^2$ with $w$ the wieghts of the trained model. $E^{out}$ is obtained thanks to the transmission matrix\n",
    "\n",
    "\n",
    "During each epoch of the training, we compute the loss function $loss = \\frac{<I^{in}>}{I_{p_t}^{out}}$ and update the weights of the model so that the function is minimized.\n",
    "\n",
    "During each epoch, the model is also passed on validation data (unseen data) to detect overfitting.\n",
    "\n"
   ]
  },
  {
   "cell_type": "markdown",
   "id": "atlantic-angle",
   "metadata": {},
   "source": [
    "## Scalable model\n",
    "\n",
    "Here we do not intend to learn the incident light field to focus on a single point on the detector of a single scattering meidum. INSTEAD, we build a model to learn the incident light field of **any** scattering medium. To do so, we learn the latter mapping by training on multiple scattering media (192) with different microstructures while having the same macroscopic parameter. This is done to have a scalable model."
   ]
  },
  {
   "cell_type": "markdown",
   "id": "plain-diabetes",
   "metadata": {},
   "source": [
    "## Network Architecture\n",
    "<figure class=\"image\">\n",
    "<img src='https://www.dropbox.com/s/7v86vpk7m3vghy4/nn.png?dl=0&raw=1' width=1000>\n",
    "</figure>"
   ]
  },
  {
   "cell_type": "code",
   "execution_count": 83,
   "id": "british-information",
   "metadata": {},
   "outputs": [],
   "source": [
    "class Lit_net_1(pl.LightningModule):\n",
    "    def __init__(self, mat_size):\n",
    "        super().__init__()\n",
    "        \n",
    "        ## Convolutional layers\n",
    "        self.conv1 = ComplexConv2d( in_channels = 1, \n",
    "                                   out_channels = 20, \n",
    "                                   kernel_size = 3, \n",
    "                                   padding = 1,\n",
    "                                   )\n",
    "        \n",
    "        self.conv2 = ComplexConv2d( in_channels = 20, \n",
    "                                   out_channels = 50, \n",
    "                                   kernel_size = 3, \n",
    "                                   padding = 1,\n",
    "                                   )\n",
    "        \n",
    "        self.conv3 = ComplexConv2d( in_channels = 50, \n",
    "                                   out_channels = 100, \n",
    "                                   kernel_size = 3, \n",
    "                                   padding = 1,\n",
    "                                   )\n",
    "        \n",
    "        self.conv4 = ComplexConv2d( in_channels = 100, \n",
    "                                   out_channels = 150, \n",
    "                                   kernel_size = 3, \n",
    "                                   padding = 1,\n",
    "                                   )\n",
    "        \n",
    "        self.conv5 = ComplexConv2d( in_channels = 150, \n",
    "                                   out_channels = 150, \n",
    "                                   kernel_size = 3, \n",
    "                                   padding = 1,\n",
    "                                   )\n",
    "        \n",
    "        \n",
    "        # batch normalization\n",
    "        self.bn  = ComplexBatchNorm2d(50)\n",
    "        # pool layers\n",
    "        self.pool = ComplexMaxPool2d(kernel_size=2, stride=2)\n",
    "        # non linearity\n",
    "        self.activfunc_a = ComplexReLU()\n",
    "        # fully connected layers - at the end\n",
    "        flattened_dim = (\n",
    "            150 * size_after_conv(\n",
    "                    N=PARAMS[\"mat_size\"], kernel_size=2, stride=2, num_conv_layer=6\n",
    "            ) ** 2\n",
    "        )\n",
    "        \n",
    "        self.fc1 = ComplexLinear(flattened_dim, 1024)    \n",
    "        self.dropout = ComplexDropout2d(p=0.3)\n",
    "        self.fc2 = ComplexLinear(1024, mat_size)\n",
    "\n",
    "    def forward(self, x):\n",
    "        \n",
    "        x = self.activfunc_a(self.conv1(x))\n",
    "        x = self.pool(x)\n",
    "        x = self.activfunc_a(self.conv2(x))\n",
    "        x = self.pool(x)\n",
    "        x = self.bn(x)\n",
    "        x = self.activfunc_a(self.conv3(x)) \n",
    "        x = self.pool(x) \n",
    "        x = self.dropout(x)\n",
    "        x = self.activfunc_a(self.conv4(x)) \n",
    "        x = self.pool(x) \n",
    "        \n",
    "        x = self.activfunc_a(self.conv5(x)) \n",
    "        x = self.pool(x)\n",
    "        x = self.activfunc_a(self.conv5(x)) \n",
    "        x = self.pool(x)\n",
    "        \n",
    "        x = x.view(x.size(0), -1)\n",
    "        \n",
    "        x = self.fc1(x)\n",
    "        x = self.dropout(x)\n",
    "        x = self.fc2(x)\n",
    "         \n",
    "#         return x\n",
    "        return torch.complex( torch.cos(torch.atan2(x.imag, x.real)) ,\n",
    "                                torch.sin(torch.atan2(x.imag, x.real) )) \n",
    "\n",
    "    def configure_optimizers(self):\n",
    "        optimizer = torch.optim.Adam(self.parameters(), lr=PARAMS['learning_rate'])\n",
    "        return optimizer\n",
    "\n",
    "    def training_step(self, train_batch, batch_idx):\n",
    "        r, t = train_batch\n",
    "        r = r.type(torch.complex64)\n",
    "        self.input_shape = r.shape    \n",
    "        x_hat = self.forward(r)\n",
    "        \n",
    "        # incident field with amplitude constrained to 1\n",
    "#         x_hat = torch.complex( torch.cos(torch.atan2(x_hat.imag, x_hat.real)) ,\n",
    "#                                 torch.sin(torch.atan2(x_hat.imag, x_hat.real) ))\n",
    "        x_hat = torch.unsqueeze(x_hat,dim=2)\n",
    "        t = torch.squeeze(t) \n",
    "        y = complex_matmul(t,x_hat)\n",
    "    \n",
    "        loss = (\n",
    "             ((x_hat.abs()) ** 2).mean(dim=1) \n",
    "            / ((y[:, y.shape[1] // 2].abs()) ** 2)\n",
    "        ).mean() \n",
    "        \n",
    "        cuda = torch.device('cuda')\n",
    "\n",
    "        amp_reg = torch.norm(\n",
    "            (\n",
    "                torch.ones((x_hat.shape[0], PARAMS[\"mat_size\"]), device=cuda)\n",
    "                - torch.abs(x_hat).squeeze()\n",
    "            ), dim=1\n",
    "        ).mean()\n",
    "\n",
    "        loss = (\n",
    "            loss\n",
    "#             + PARAMS[\"amp_reg\"] * amp_reg\n",
    "#             + PARAMS[\"std_reg\"] * torch.std(torch.abs(x_hat), dim=1).mean()\n",
    "        )\n",
    "        \n",
    "        self.log('train_loss', loss)\n",
    "        \n",
    "        return {'loss':loss}\n",
    "\n",
    "    def validation_step(self, val_batch, batch_idx):   \n",
    "        return self.training_step(val_batch, batch_idx)\n",
    "    \n",
    "    def validation_epoch_end(self, outputs): \n",
    "        #  the function is called after every epoch is completed \n",
    "        if(self.current_epoch==1):\n",
    "            sample_input=torch.rand(self.input_shape).type(torch.complex64)\n",
    "        # calculating average loss \n",
    "        avg_val_loss = torch.stack([x['loss'] for x in outputs]).mean()\n",
    "        \n",
    "        \n",
    "        self.log('avg_val_loss', avg_val_loss)\n",
    "        \n",
    "        return {'val_loss': avg_val_loss} # for early stopping \n",
    "    \n",
    "    def training_epoch_end(self,outputs):\n",
    "        #  the function is called after every epoch is completed\n",
    "        if(self.current_epoch==1):\n",
    "            sample_input=torch.rand(self.input_shape).type(torch.complex64)\n",
    "\n",
    "        # calculating average loss \n",
    "        avg_train_loss = torch.stack([x['loss'] for x in outputs]).mean()\n",
    "        \n",
    "        self.log('avg_train_loss', avg_train_loss)\n",
    "\n"
   ]
  },
  {
   "cell_type": "markdown",
   "id": "sporting-constraint",
   "metadata": {},
   "source": [
    "## Data Loading"
   ]
  },
  {
   "cell_type": "code",
   "execution_count": 84,
   "id": "educated-activation",
   "metadata": {},
   "outputs": [],
   "source": [
    "# pt_r = pt_r_modes[:,None,...]\n",
    "# pt_t = pt_t_modes[:,None,...]\n",
    "pt_r = R_space_av[:,None,...]\n",
    "pt_t = T_space_av[:,None,...]\n",
    "\n",
    "N_tot = pt_r.shape[0]\n",
    "test_fraction = 0.8\n",
    "N_train = int(0.8 * N_tot)\n",
    "N_val = N_tot - N_train\n",
    "\n",
    "\n",
    "\n",
    "r_dataset = TensorDataset(pt_r,pt_t)\n",
    "\n",
    "\n",
    "rt_train, rt_val = random_split(r_dataset, [N_train, N_val])\n",
    "train_loader = DataLoader(rt_train, \n",
    "                          batch_size=PARAMS['batch_size'], \n",
    "                          num_workers=8)\n",
    "val_loader = DataLoader(rt_val, \n",
    "                        batch_size=PARAMS['batch_size'],\n",
    "                        num_workers=8)"
   ]
  },
  {
   "cell_type": "markdown",
   "id": "thorough-address",
   "metadata": {},
   "source": [
    "## Training"
   ]
  },
  {
   "cell_type": "code",
   "execution_count": 85,
   "id": "widespread-yorkshire",
   "metadata": {},
   "outputs": [
    {
     "name": "stderr",
     "output_type": "stream",
     "text": [
      "NeptuneLogger will work in online mode\n",
      "/opt/miniconda/py3/envs/py38/lib/python3.8/site-packages/pytorch_lightning/utilities/distributed.py:50: UserWarning: Checkpoint directory ../check_p/ exists and is not empty.\n",
      "  warnings.warn(*args, **kwargs)\n",
      "GPU available: True, used: True\n",
      "TPU available: None, using: 0 TPU cores\n",
      "LOCAL_RANK: 0 - CUDA_VISIBLE_DEVICES: [0,1,2,3]\n",
      "\n",
      "   | Name        | Type               | Params\n",
      "----------------------------------------------------\n",
      "0  | conv1       | ComplexConv2d      | 400   \n",
      "1  | conv2       | ComplexConv2d      | 18.1 K\n",
      "2  | conv3       | ComplexConv2d      | 90.2 K\n",
      "3  | conv4       | ComplexConv2d      | 270 K \n",
      "4  | conv5       | ComplexConv2d      | 405 K \n",
      "5  | bn          | ComplexBatchNorm2d | 250   \n",
      "6  | pool        | ComplexMaxPool2d   | 0     \n",
      "7  | activfunc_a | ComplexReLU        | 0     \n",
      "8  | fc1         | ComplexLinear      | 11.1 M\n",
      "9  | dropout     | ComplexDropout2d   | 0     \n",
      "10 | fc2         | ComplexLinear      | 817 K \n",
      "----------------------------------------------------\n",
      "12.7 M    Trainable params\n",
      "0         Non-trainable params\n",
      "12.7 M    Total params\n"
     ]
    },
    {
     "data": {
      "application/vnd.jupyter.widget-view+json": {
       "model_id": "2216e5c83ee546478c20091abfdf8f9b",
       "version_major": 2,
       "version_minor": 0
      },
      "text/plain": [
       "Validation sanity check: 0it [00:00, ?it/s]"
      ]
     },
     "metadata": {},
     "output_type": "display_data"
    },
    {
     "name": "stderr",
     "output_type": "stream",
     "text": [
      "/opt/miniconda/py3/envs/py38/lib/python3.8/site-packages/pytorch_lightning/utilities/distributed.py:50: UserWarning: The validation_epoch_end should not return anything as of 9.1. To log, use self.log(...) or self.write(...) directly in the LightningModule\n",
      "  warnings.warn(*args, **kwargs)\n",
      "psutil is not installed. You will not be able to abort this experiment from the UI.\n",
      "psutil is not installed. Hardware metrics will not be collected.\n"
     ]
    },
    {
     "name": "stdout",
     "output_type": "stream",
     "text": [
      "https://ui.neptune.ai/octaveg5/testRT/e/TES-378\n"
     ]
    },
    {
     "data": {
      "application/vnd.jupyter.widget-view+json": {
       "model_id": "49d86244286147f9a1e01d3d5f7fae9d",
       "version_major": 2,
       "version_minor": 0
      },
      "text/plain": [
       "Training: 0it [00:00, ?it/s]"
      ]
     },
     "metadata": {},
     "output_type": "display_data"
    },
    {
     "data": {
      "application/vnd.jupyter.widget-view+json": {
       "model_id": "",
       "version_major": 2,
       "version_minor": 0
      },
      "text/plain": [
       "Validating: 0it [00:00, ?it/s]"
      ]
     },
     "metadata": {},
     "output_type": "display_data"
    },
    {
     "data": {
      "application/vnd.jupyter.widget-view+json": {
       "model_id": "",
       "version_major": 2,
       "version_minor": 0
      },
      "text/plain": [
       "Validating: 0it [00:00, ?it/s]"
      ]
     },
     "metadata": {},
     "output_type": "display_data"
    },
    {
     "data": {
      "application/vnd.jupyter.widget-view+json": {
       "model_id": "",
       "version_major": 2,
       "version_minor": 0
      },
      "text/plain": [
       "Validating: 0it [00:00, ?it/s]"
      ]
     },
     "metadata": {},
     "output_type": "display_data"
    },
    {
     "data": {
      "application/vnd.jupyter.widget-view+json": {
       "model_id": "",
       "version_major": 2,
       "version_minor": 0
      },
      "text/plain": [
       "Validating: 0it [00:00, ?it/s]"
      ]
     },
     "metadata": {},
     "output_type": "display_data"
    },
    {
     "data": {
      "application/vnd.jupyter.widget-view+json": {
       "model_id": "",
       "version_major": 2,
       "version_minor": 0
      },
      "text/plain": [
       "Validating: 0it [00:00, ?it/s]"
      ]
     },
     "metadata": {},
     "output_type": "display_data"
    },
    {
     "data": {
      "application/vnd.jupyter.widget-view+json": {
       "model_id": "",
       "version_major": 2,
       "version_minor": 0
      },
      "text/plain": [
       "Validating: 0it [00:00, ?it/s]"
      ]
     },
     "metadata": {},
     "output_type": "display_data"
    },
    {
     "data": {
      "application/vnd.jupyter.widget-view+json": {
       "model_id": "",
       "version_major": 2,
       "version_minor": 0
      },
      "text/plain": [
       "Validating: 0it [00:00, ?it/s]"
      ]
     },
     "metadata": {},
     "output_type": "display_data"
    },
    {
     "data": {
      "application/vnd.jupyter.widget-view+json": {
       "model_id": "",
       "version_major": 2,
       "version_minor": 0
      },
      "text/plain": [
       "Validating: 0it [00:00, ?it/s]"
      ]
     },
     "metadata": {},
     "output_type": "display_data"
    },
    {
     "data": {
      "application/vnd.jupyter.widget-view+json": {
       "model_id": "",
       "version_major": 2,
       "version_minor": 0
      },
      "text/plain": [
       "Validating: 0it [00:00, ?it/s]"
      ]
     },
     "metadata": {},
     "output_type": "display_data"
    },
    {
     "data": {
      "application/vnd.jupyter.widget-view+json": {
       "model_id": "",
       "version_major": 2,
       "version_minor": 0
      },
      "text/plain": [
       "Validating: 0it [00:00, ?it/s]"
      ]
     },
     "metadata": {},
     "output_type": "display_data"
    },
    {
     "data": {
      "application/vnd.jupyter.widget-view+json": {
       "model_id": "",
       "version_major": 2,
       "version_minor": 0
      },
      "text/plain": [
       "Validating: 0it [00:00, ?it/s]"
      ]
     },
     "metadata": {},
     "output_type": "display_data"
    },
    {
     "data": {
      "application/vnd.jupyter.widget-view+json": {
       "model_id": "",
       "version_major": 2,
       "version_minor": 0
      },
      "text/plain": [
       "Validating: 0it [00:00, ?it/s]"
      ]
     },
     "metadata": {},
     "output_type": "display_data"
    },
    {
     "data": {
      "application/vnd.jupyter.widget-view+json": {
       "model_id": "",
       "version_major": 2,
       "version_minor": 0
      },
      "text/plain": [
       "Validating: 0it [00:00, ?it/s]"
      ]
     },
     "metadata": {},
     "output_type": "display_data"
    },
    {
     "data": {
      "application/vnd.jupyter.widget-view+json": {
       "model_id": "",
       "version_major": 2,
       "version_minor": 0
      },
      "text/plain": [
       "Validating: 0it [00:00, ?it/s]"
      ]
     },
     "metadata": {},
     "output_type": "display_data"
    },
    {
     "data": {
      "application/vnd.jupyter.widget-view+json": {
       "model_id": "",
       "version_major": 2,
       "version_minor": 0
      },
      "text/plain": [
       "Validating: 0it [00:00, ?it/s]"
      ]
     },
     "metadata": {},
     "output_type": "display_data"
    },
    {
     "data": {
      "application/vnd.jupyter.widget-view+json": {
       "model_id": "",
       "version_major": 2,
       "version_minor": 0
      },
      "text/plain": [
       "Validating: 0it [00:00, ?it/s]"
      ]
     },
     "metadata": {},
     "output_type": "display_data"
    },
    {
     "data": {
      "application/vnd.jupyter.widget-view+json": {
       "model_id": "",
       "version_major": 2,
       "version_minor": 0
      },
      "text/plain": [
       "Validating: 0it [00:00, ?it/s]"
      ]
     },
     "metadata": {},
     "output_type": "display_data"
    },
    {
     "data": {
      "application/vnd.jupyter.widget-view+json": {
       "model_id": "",
       "version_major": 2,
       "version_minor": 0
      },
      "text/plain": [
       "Validating: 0it [00:00, ?it/s]"
      ]
     },
     "metadata": {},
     "output_type": "display_data"
    },
    {
     "data": {
      "application/vnd.jupyter.widget-view+json": {
       "model_id": "",
       "version_major": 2,
       "version_minor": 0
      },
      "text/plain": [
       "Validating: 0it [00:00, ?it/s]"
      ]
     },
     "metadata": {},
     "output_type": "display_data"
    },
    {
     "data": {
      "application/vnd.jupyter.widget-view+json": {
       "model_id": "",
       "version_major": 2,
       "version_minor": 0
      },
      "text/plain": [
       "Validating: 0it [00:00, ?it/s]"
      ]
     },
     "metadata": {},
     "output_type": "display_data"
    },
    {
     "data": {
      "application/vnd.jupyter.widget-view+json": {
       "model_id": "",
       "version_major": 2,
       "version_minor": 0
      },
      "text/plain": [
       "Validating: 0it [00:00, ?it/s]"
      ]
     },
     "metadata": {},
     "output_type": "display_data"
    },
    {
     "data": {
      "application/vnd.jupyter.widget-view+json": {
       "model_id": "",
       "version_major": 2,
       "version_minor": 0
      },
      "text/plain": [
       "Validating: 0it [00:00, ?it/s]"
      ]
     },
     "metadata": {},
     "output_type": "display_data"
    },
    {
     "data": {
      "application/vnd.jupyter.widget-view+json": {
       "model_id": "",
       "version_major": 2,
       "version_minor": 0
      },
      "text/plain": [
       "Validating: 0it [00:00, ?it/s]"
      ]
     },
     "metadata": {},
     "output_type": "display_data"
    },
    {
     "data": {
      "application/vnd.jupyter.widget-view+json": {
       "model_id": "",
       "version_major": 2,
       "version_minor": 0
      },
      "text/plain": [
       "Validating: 0it [00:00, ?it/s]"
      ]
     },
     "metadata": {},
     "output_type": "display_data"
    },
    {
     "data": {
      "application/vnd.jupyter.widget-view+json": {
       "model_id": "",
       "version_major": 2,
       "version_minor": 0
      },
      "text/plain": [
       "Validating: 0it [00:00, ?it/s]"
      ]
     },
     "metadata": {},
     "output_type": "display_data"
    },
    {
     "data": {
      "application/vnd.jupyter.widget-view+json": {
       "model_id": "",
       "version_major": 2,
       "version_minor": 0
      },
      "text/plain": [
       "Validating: 0it [00:00, ?it/s]"
      ]
     },
     "metadata": {},
     "output_type": "display_data"
    },
    {
     "data": {
      "application/vnd.jupyter.widget-view+json": {
       "model_id": "",
       "version_major": 2,
       "version_minor": 0
      },
      "text/plain": [
       "Validating: 0it [00:00, ?it/s]"
      ]
     },
     "metadata": {},
     "output_type": "display_data"
    },
    {
     "data": {
      "application/vnd.jupyter.widget-view+json": {
       "model_id": "",
       "version_major": 2,
       "version_minor": 0
      },
      "text/plain": [
       "Validating: 0it [00:00, ?it/s]"
      ]
     },
     "metadata": {},
     "output_type": "display_data"
    },
    {
     "data": {
      "application/vnd.jupyter.widget-view+json": {
       "model_id": "",
       "version_major": 2,
       "version_minor": 0
      },
      "text/plain": [
       "Validating: 0it [00:00, ?it/s]"
      ]
     },
     "metadata": {},
     "output_type": "display_data"
    },
    {
     "data": {
      "application/vnd.jupyter.widget-view+json": {
       "model_id": "",
       "version_major": 2,
       "version_minor": 0
      },
      "text/plain": [
       "Validating: 0it [00:00, ?it/s]"
      ]
     },
     "metadata": {},
     "output_type": "display_data"
    },
    {
     "data": {
      "application/vnd.jupyter.widget-view+json": {
       "model_id": "",
       "version_major": 2,
       "version_minor": 0
      },
      "text/plain": [
       "Validating: 0it [00:00, ?it/s]"
      ]
     },
     "metadata": {},
     "output_type": "display_data"
    },
    {
     "data": {
      "application/vnd.jupyter.widget-view+json": {
       "model_id": "",
       "version_major": 2,
       "version_minor": 0
      },
      "text/plain": [
       "Validating: 0it [00:00, ?it/s]"
      ]
     },
     "metadata": {},
     "output_type": "display_data"
    },
    {
     "data": {
      "application/vnd.jupyter.widget-view+json": {
       "model_id": "",
       "version_major": 2,
       "version_minor": 0
      },
      "text/plain": [
       "Validating: 0it [00:00, ?it/s]"
      ]
     },
     "metadata": {},
     "output_type": "display_data"
    },
    {
     "data": {
      "application/vnd.jupyter.widget-view+json": {
       "model_id": "",
       "version_major": 2,
       "version_minor": 0
      },
      "text/plain": [
       "Validating: 0it [00:00, ?it/s]"
      ]
     },
     "metadata": {},
     "output_type": "display_data"
    },
    {
     "data": {
      "application/vnd.jupyter.widget-view+json": {
       "model_id": "",
       "version_major": 2,
       "version_minor": 0
      },
      "text/plain": [
       "Validating: 0it [00:00, ?it/s]"
      ]
     },
     "metadata": {},
     "output_type": "display_data"
    },
    {
     "data": {
      "application/vnd.jupyter.widget-view+json": {
       "model_id": "",
       "version_major": 2,
       "version_minor": 0
      },
      "text/plain": [
       "Validating: 0it [00:00, ?it/s]"
      ]
     },
     "metadata": {},
     "output_type": "display_data"
    },
    {
     "data": {
      "application/vnd.jupyter.widget-view+json": {
       "model_id": "",
       "version_major": 2,
       "version_minor": 0
      },
      "text/plain": [
       "Validating: 0it [00:00, ?it/s]"
      ]
     },
     "metadata": {},
     "output_type": "display_data"
    },
    {
     "data": {
      "application/vnd.jupyter.widget-view+json": {
       "model_id": "",
       "version_major": 2,
       "version_minor": 0
      },
      "text/plain": [
       "Validating: 0it [00:00, ?it/s]"
      ]
     },
     "metadata": {},
     "output_type": "display_data"
    },
    {
     "data": {
      "application/vnd.jupyter.widget-view+json": {
       "model_id": "",
       "version_major": 2,
       "version_minor": 0
      },
      "text/plain": [
       "Validating: 0it [00:00, ?it/s]"
      ]
     },
     "metadata": {},
     "output_type": "display_data"
    },
    {
     "data": {
      "application/vnd.jupyter.widget-view+json": {
       "model_id": "",
       "version_major": 2,
       "version_minor": 0
      },
      "text/plain": [
       "Validating: 0it [00:00, ?it/s]"
      ]
     },
     "metadata": {},
     "output_type": "display_data"
    },
    {
     "data": {
      "application/vnd.jupyter.widget-view+json": {
       "model_id": "",
       "version_major": 2,
       "version_minor": 0
      },
      "text/plain": [
       "Validating: 0it [00:00, ?it/s]"
      ]
     },
     "metadata": {},
     "output_type": "display_data"
    },
    {
     "data": {
      "application/vnd.jupyter.widget-view+json": {
       "model_id": "",
       "version_major": 2,
       "version_minor": 0
      },
      "text/plain": [
       "Validating: 0it [00:00, ?it/s]"
      ]
     },
     "metadata": {},
     "output_type": "display_data"
    },
    {
     "data": {
      "application/vnd.jupyter.widget-view+json": {
       "model_id": "",
       "version_major": 2,
       "version_minor": 0
      },
      "text/plain": [
       "Validating: 0it [00:00, ?it/s]"
      ]
     },
     "metadata": {},
     "output_type": "display_data"
    },
    {
     "data": {
      "application/vnd.jupyter.widget-view+json": {
       "model_id": "",
       "version_major": 2,
       "version_minor": 0
      },
      "text/plain": [
       "Validating: 0it [00:00, ?it/s]"
      ]
     },
     "metadata": {},
     "output_type": "display_data"
    },
    {
     "data": {
      "application/vnd.jupyter.widget-view+json": {
       "model_id": "",
       "version_major": 2,
       "version_minor": 0
      },
      "text/plain": [
       "Validating: 0it [00:00, ?it/s]"
      ]
     },
     "metadata": {},
     "output_type": "display_data"
    },
    {
     "data": {
      "application/vnd.jupyter.widget-view+json": {
       "model_id": "",
       "version_major": 2,
       "version_minor": 0
      },
      "text/plain": [
       "Validating: 0it [00:00, ?it/s]"
      ]
     },
     "metadata": {},
     "output_type": "display_data"
    },
    {
     "data": {
      "application/vnd.jupyter.widget-view+json": {
       "model_id": "",
       "version_major": 2,
       "version_minor": 0
      },
      "text/plain": [
       "Validating: 0it [00:00, ?it/s]"
      ]
     },
     "metadata": {},
     "output_type": "display_data"
    },
    {
     "data": {
      "application/vnd.jupyter.widget-view+json": {
       "model_id": "",
       "version_major": 2,
       "version_minor": 0
      },
      "text/plain": [
       "Validating: 0it [00:00, ?it/s]"
      ]
     },
     "metadata": {},
     "output_type": "display_data"
    },
    {
     "data": {
      "application/vnd.jupyter.widget-view+json": {
       "model_id": "",
       "version_major": 2,
       "version_minor": 0
      },
      "text/plain": [
       "Validating: 0it [00:00, ?it/s]"
      ]
     },
     "metadata": {},
     "output_type": "display_data"
    },
    {
     "data": {
      "application/vnd.jupyter.widget-view+json": {
       "model_id": "",
       "version_major": 2,
       "version_minor": 0
      },
      "text/plain": [
       "Validating: 0it [00:00, ?it/s]"
      ]
     },
     "metadata": {},
     "output_type": "display_data"
    },
    {
     "data": {
      "application/vnd.jupyter.widget-view+json": {
       "model_id": "",
       "version_major": 2,
       "version_minor": 0
      },
      "text/plain": [
       "Validating: 0it [00:00, ?it/s]"
      ]
     },
     "metadata": {},
     "output_type": "display_data"
    },
    {
     "data": {
      "application/vnd.jupyter.widget-view+json": {
       "model_id": "",
       "version_major": 2,
       "version_minor": 0
      },
      "text/plain": [
       "Validating: 0it [00:00, ?it/s]"
      ]
     },
     "metadata": {},
     "output_type": "display_data"
    },
    {
     "data": {
      "application/vnd.jupyter.widget-view+json": {
       "model_id": "",
       "version_major": 2,
       "version_minor": 0
      },
      "text/plain": [
       "Validating: 0it [00:00, ?it/s]"
      ]
     },
     "metadata": {},
     "output_type": "display_data"
    },
    {
     "data": {
      "application/vnd.jupyter.widget-view+json": {
       "model_id": "",
       "version_major": 2,
       "version_minor": 0
      },
      "text/plain": [
       "Validating: 0it [00:00, ?it/s]"
      ]
     },
     "metadata": {},
     "output_type": "display_data"
    },
    {
     "data": {
      "application/vnd.jupyter.widget-view+json": {
       "model_id": "",
       "version_major": 2,
       "version_minor": 0
      },
      "text/plain": [
       "Validating: 0it [00:00, ?it/s]"
      ]
     },
     "metadata": {},
     "output_type": "display_data"
    },
    {
     "data": {
      "application/vnd.jupyter.widget-view+json": {
       "model_id": "",
       "version_major": 2,
       "version_minor": 0
      },
      "text/plain": [
       "Validating: 0it [00:00, ?it/s]"
      ]
     },
     "metadata": {},
     "output_type": "display_data"
    },
    {
     "data": {
      "application/vnd.jupyter.widget-view+json": {
       "model_id": "",
       "version_major": 2,
       "version_minor": 0
      },
      "text/plain": [
       "Validating: 0it [00:00, ?it/s]"
      ]
     },
     "metadata": {},
     "output_type": "display_data"
    },
    {
     "data": {
      "application/vnd.jupyter.widget-view+json": {
       "model_id": "",
       "version_major": 2,
       "version_minor": 0
      },
      "text/plain": [
       "Validating: 0it [00:00, ?it/s]"
      ]
     },
     "metadata": {},
     "output_type": "display_data"
    },
    {
     "data": {
      "application/vnd.jupyter.widget-view+json": {
       "model_id": "",
       "version_major": 2,
       "version_minor": 0
      },
      "text/plain": [
       "Validating: 0it [00:00, ?it/s]"
      ]
     },
     "metadata": {},
     "output_type": "display_data"
    },
    {
     "data": {
      "application/vnd.jupyter.widget-view+json": {
       "model_id": "",
       "version_major": 2,
       "version_minor": 0
      },
      "text/plain": [
       "Validating: 0it [00:00, ?it/s]"
      ]
     },
     "metadata": {},
     "output_type": "display_data"
    },
    {
     "data": {
      "application/vnd.jupyter.widget-view+json": {
       "model_id": "",
       "version_major": 2,
       "version_minor": 0
      },
      "text/plain": [
       "Validating: 0it [00:00, ?it/s]"
      ]
     },
     "metadata": {},
     "output_type": "display_data"
    },
    {
     "data": {
      "application/vnd.jupyter.widget-view+json": {
       "model_id": "",
       "version_major": 2,
       "version_minor": 0
      },
      "text/plain": [
       "Validating: 0it [00:00, ?it/s]"
      ]
     },
     "metadata": {},
     "output_type": "display_data"
    },
    {
     "data": {
      "application/vnd.jupyter.widget-view+json": {
       "model_id": "",
       "version_major": 2,
       "version_minor": 0
      },
      "text/plain": [
       "Validating: 0it [00:00, ?it/s]"
      ]
     },
     "metadata": {},
     "output_type": "display_data"
    },
    {
     "data": {
      "application/vnd.jupyter.widget-view+json": {
       "model_id": "",
       "version_major": 2,
       "version_minor": 0
      },
      "text/plain": [
       "Validating: 0it [00:00, ?it/s]"
      ]
     },
     "metadata": {},
     "output_type": "display_data"
    },
    {
     "data": {
      "application/vnd.jupyter.widget-view+json": {
       "model_id": "",
       "version_major": 2,
       "version_minor": 0
      },
      "text/plain": [
       "Validating: 0it [00:00, ?it/s]"
      ]
     },
     "metadata": {},
     "output_type": "display_data"
    },
    {
     "data": {
      "application/vnd.jupyter.widget-view+json": {
       "model_id": "",
       "version_major": 2,
       "version_minor": 0
      },
      "text/plain": [
       "Validating: 0it [00:00, ?it/s]"
      ]
     },
     "metadata": {},
     "output_type": "display_data"
    },
    {
     "data": {
      "application/vnd.jupyter.widget-view+json": {
       "model_id": "",
       "version_major": 2,
       "version_minor": 0
      },
      "text/plain": [
       "Validating: 0it [00:00, ?it/s]"
      ]
     },
     "metadata": {},
     "output_type": "display_data"
    },
    {
     "data": {
      "application/vnd.jupyter.widget-view+json": {
       "model_id": "",
       "version_major": 2,
       "version_minor": 0
      },
      "text/plain": [
       "Validating: 0it [00:00, ?it/s]"
      ]
     },
     "metadata": {},
     "output_type": "display_data"
    },
    {
     "data": {
      "application/vnd.jupyter.widget-view+json": {
       "model_id": "",
       "version_major": 2,
       "version_minor": 0
      },
      "text/plain": [
       "Validating: 0it [00:00, ?it/s]"
      ]
     },
     "metadata": {},
     "output_type": "display_data"
    },
    {
     "data": {
      "application/vnd.jupyter.widget-view+json": {
       "model_id": "",
       "version_major": 2,
       "version_minor": 0
      },
      "text/plain": [
       "Validating: 0it [00:00, ?it/s]"
      ]
     },
     "metadata": {},
     "output_type": "display_data"
    },
    {
     "data": {
      "application/vnd.jupyter.widget-view+json": {
       "model_id": "",
       "version_major": 2,
       "version_minor": 0
      },
      "text/plain": [
       "Validating: 0it [00:00, ?it/s]"
      ]
     },
     "metadata": {},
     "output_type": "display_data"
    },
    {
     "data": {
      "application/vnd.jupyter.widget-view+json": {
       "model_id": "",
       "version_major": 2,
       "version_minor": 0
      },
      "text/plain": [
       "Validating: 0it [00:00, ?it/s]"
      ]
     },
     "metadata": {},
     "output_type": "display_data"
    },
    {
     "data": {
      "application/vnd.jupyter.widget-view+json": {
       "model_id": "",
       "version_major": 2,
       "version_minor": 0
      },
      "text/plain": [
       "Validating: 0it [00:00, ?it/s]"
      ]
     },
     "metadata": {},
     "output_type": "display_data"
    },
    {
     "data": {
      "application/vnd.jupyter.widget-view+json": {
       "model_id": "",
       "version_major": 2,
       "version_minor": 0
      },
      "text/plain": [
       "Validating: 0it [00:00, ?it/s]"
      ]
     },
     "metadata": {},
     "output_type": "display_data"
    },
    {
     "data": {
      "application/vnd.jupyter.widget-view+json": {
       "model_id": "",
       "version_major": 2,
       "version_minor": 0
      },
      "text/plain": [
       "Validating: 0it [00:00, ?it/s]"
      ]
     },
     "metadata": {},
     "output_type": "display_data"
    },
    {
     "data": {
      "application/vnd.jupyter.widget-view+json": {
       "model_id": "",
       "version_major": 2,
       "version_minor": 0
      },
      "text/plain": [
       "Validating: 0it [00:00, ?it/s]"
      ]
     },
     "metadata": {},
     "output_type": "display_data"
    },
    {
     "data": {
      "application/vnd.jupyter.widget-view+json": {
       "model_id": "",
       "version_major": 2,
       "version_minor": 0
      },
      "text/plain": [
       "Validating: 0it [00:00, ?it/s]"
      ]
     },
     "metadata": {},
     "output_type": "display_data"
    },
    {
     "data": {
      "application/vnd.jupyter.widget-view+json": {
       "model_id": "",
       "version_major": 2,
       "version_minor": 0
      },
      "text/plain": [
       "Validating: 0it [00:00, ?it/s]"
      ]
     },
     "metadata": {},
     "output_type": "display_data"
    },
    {
     "data": {
      "application/vnd.jupyter.widget-view+json": {
       "model_id": "",
       "version_major": 2,
       "version_minor": 0
      },
      "text/plain": [
       "Validating: 0it [00:00, ?it/s]"
      ]
     },
     "metadata": {},
     "output_type": "display_data"
    },
    {
     "data": {
      "application/vnd.jupyter.widget-view+json": {
       "model_id": "",
       "version_major": 2,
       "version_minor": 0
      },
      "text/plain": [
       "Validating: 0it [00:00, ?it/s]"
      ]
     },
     "metadata": {},
     "output_type": "display_data"
    },
    {
     "data": {
      "application/vnd.jupyter.widget-view+json": {
       "model_id": "",
       "version_major": 2,
       "version_minor": 0
      },
      "text/plain": [
       "Validating: 0it [00:00, ?it/s]"
      ]
     },
     "metadata": {},
     "output_type": "display_data"
    },
    {
     "data": {
      "application/vnd.jupyter.widget-view+json": {
       "model_id": "",
       "version_major": 2,
       "version_minor": 0
      },
      "text/plain": [
       "Validating: 0it [00:00, ?it/s]"
      ]
     },
     "metadata": {},
     "output_type": "display_data"
    },
    {
     "data": {
      "application/vnd.jupyter.widget-view+json": {
       "model_id": "",
       "version_major": 2,
       "version_minor": 0
      },
      "text/plain": [
       "Validating: 0it [00:00, ?it/s]"
      ]
     },
     "metadata": {},
     "output_type": "display_data"
    },
    {
     "data": {
      "application/vnd.jupyter.widget-view+json": {
       "model_id": "",
       "version_major": 2,
       "version_minor": 0
      },
      "text/plain": [
       "Validating: 0it [00:00, ?it/s]"
      ]
     },
     "metadata": {},
     "output_type": "display_data"
    },
    {
     "data": {
      "application/vnd.jupyter.widget-view+json": {
       "model_id": "",
       "version_major": 2,
       "version_minor": 0
      },
      "text/plain": [
       "Validating: 0it [00:00, ?it/s]"
      ]
     },
     "metadata": {},
     "output_type": "display_data"
    },
    {
     "data": {
      "application/vnd.jupyter.widget-view+json": {
       "model_id": "",
       "version_major": 2,
       "version_minor": 0
      },
      "text/plain": [
       "Validating: 0it [00:00, ?it/s]"
      ]
     },
     "metadata": {},
     "output_type": "display_data"
    },
    {
     "data": {
      "application/vnd.jupyter.widget-view+json": {
       "model_id": "",
       "version_major": 2,
       "version_minor": 0
      },
      "text/plain": [
       "Validating: 0it [00:00, ?it/s]"
      ]
     },
     "metadata": {},
     "output_type": "display_data"
    },
    {
     "data": {
      "application/vnd.jupyter.widget-view+json": {
       "model_id": "",
       "version_major": 2,
       "version_minor": 0
      },
      "text/plain": [
       "Validating: 0it [00:00, ?it/s]"
      ]
     },
     "metadata": {},
     "output_type": "display_data"
    },
    {
     "data": {
      "application/vnd.jupyter.widget-view+json": {
       "model_id": "",
       "version_major": 2,
       "version_minor": 0
      },
      "text/plain": [
       "Validating: 0it [00:00, ?it/s]"
      ]
     },
     "metadata": {},
     "output_type": "display_data"
    },
    {
     "data": {
      "application/vnd.jupyter.widget-view+json": {
       "model_id": "",
       "version_major": 2,
       "version_minor": 0
      },
      "text/plain": [
       "Validating: 0it [00:00, ?it/s]"
      ]
     },
     "metadata": {},
     "output_type": "display_data"
    },
    {
     "data": {
      "application/vnd.jupyter.widget-view+json": {
       "model_id": "",
       "version_major": 2,
       "version_minor": 0
      },
      "text/plain": [
       "Validating: 0it [00:00, ?it/s]"
      ]
     },
     "metadata": {},
     "output_type": "display_data"
    },
    {
     "data": {
      "application/vnd.jupyter.widget-view+json": {
       "model_id": "",
       "version_major": 2,
       "version_minor": 0
      },
      "text/plain": [
       "Validating: 0it [00:00, ?it/s]"
      ]
     },
     "metadata": {},
     "output_type": "display_data"
    },
    {
     "data": {
      "application/vnd.jupyter.widget-view+json": {
       "model_id": "",
       "version_major": 2,
       "version_minor": 0
      },
      "text/plain": [
       "Validating: 0it [00:00, ?it/s]"
      ]
     },
     "metadata": {},
     "output_type": "display_data"
    },
    {
     "data": {
      "application/vnd.jupyter.widget-view+json": {
       "model_id": "",
       "version_major": 2,
       "version_minor": 0
      },
      "text/plain": [
       "Validating: 0it [00:00, ?it/s]"
      ]
     },
     "metadata": {},
     "output_type": "display_data"
    },
    {
     "data": {
      "application/vnd.jupyter.widget-view+json": {
       "model_id": "",
       "version_major": 2,
       "version_minor": 0
      },
      "text/plain": [
       "Validating: 0it [00:00, ?it/s]"
      ]
     },
     "metadata": {},
     "output_type": "display_data"
    },
    {
     "data": {
      "application/vnd.jupyter.widget-view+json": {
       "model_id": "",
       "version_major": 2,
       "version_minor": 0
      },
      "text/plain": [
       "Validating: 0it [00:00, ?it/s]"
      ]
     },
     "metadata": {},
     "output_type": "display_data"
    },
    {
     "data": {
      "application/vnd.jupyter.widget-view+json": {
       "model_id": "",
       "version_major": 2,
       "version_minor": 0
      },
      "text/plain": [
       "Validating: 0it [00:00, ?it/s]"
      ]
     },
     "metadata": {},
     "output_type": "display_data"
    },
    {
     "name": "stdout",
     "output_type": "stream",
     "text": [
      "FINISHED TRAINING\n"
     ]
    }
   ],
   "source": [
    "\n",
    "\n",
    "# model\n",
    "model = Lit_net_1(mat_size=PARAMS['mat_size'])\n",
    "\n",
    "tb_logger = pl_loggers.TensorBoardLogger('logs/')\n",
    "\n",
    "neptune_logger = pl_loggers.neptune.NeptuneLogger(\n",
    "    api_key=\"eyJhcGlfYWRkcmVzcyI6Imh0dHBzOi8vdWkubmVwdHVuZS5haSIsImFwaV91cmwiOiJodHRwczovL3VpLm5lcHR1bmUuYWkiLCJhcGlfa2V5IjoiNGE0ODg3N2ItN2EwMi00OTk5LWExMTYtNWE2NjVhNjhmNzY5In0=\",\n",
    "    project_name=\"octaveg5/testRT\",\n",
    "    params=PARAMS # save relevant paramters\n",
    ")\n",
    "\n",
    "checkpoint_callback = ModelCheckpoint(\n",
    "    monitor='val_loss',\n",
    "    dirpath='../check_p/',\n",
    "    filename='conjugate-focalize-archi-{epoch:02d}-{val_loss:.1f}',\n",
    "    save_top_k=1,\n",
    "    mode='min',\n",
    ")\n",
    "\n",
    "early_stop_callback = EarlyStopping(\n",
    "   monitor='val_loss',\n",
    "   min_delta=0.0005,\n",
    "   patience=4,\n",
    "   verbose=True,\n",
    "   mode='min'\n",
    ")\n",
    "\n",
    "# training\n",
    "trainer = pl.Trainer(\n",
    "    gpus=[2],\n",
    "    progress_bar_refresh_rate=80,\n",
    "    max_epochs=PARAMS['max_epochs'],\n",
    "    logger = neptune_logger,\n",
    "#     logger=False,\n",
    "    callbacks=[checkpoint_callback,early_stop_callback],\n",
    "#     callbacks=False,\n",
    ")\n",
    "trainer.fit(model, train_loader, val_loader)\n",
    "\n",
    "print(\"FINISHED TRAINING\")"
   ]
  },
  {
   "cell_type": "code",
   "execution_count": 68,
   "id": "recreational-nirvana",
   "metadata": {
    "scrolled": true
   },
   "outputs": [
    {
     "data": {
      "text/plain": [
       "<All keys matched successfully>"
      ]
     },
     "execution_count": 68,
     "metadata": {},
     "output_type": "execute_result"
    }
   ],
   "source": [
    "model = Lit_net_1(mat_size = PARAMS['mat_size'])\n",
    "# load the checkpoint of the best model\n",
    "checkpoint = torch.load(checkpoint_callback.best_model_path)\n",
    "# checkpoint = torch.load('/automount/nfs/curie/bme/oguinebr/DL_RT/check_p/conjugate-focalize-archi-epoch=33-val_loss=0.1.ckpt' )\n",
    "model.load_state_dict(checkpoint['state_dict'])"
   ]
  },
  {
   "cell_type": "code",
   "execution_count": 69,
   "id": "delayed-conclusion",
   "metadata": {},
   "outputs": [
    {
     "data": {
      "text/plain": [
       "'/automount/nfs/curie/bme/oguinebr/DL_RT/check_p/conjugate-focalize-archi-epoch=19-val_loss=0.1.ckpt'"
      ]
     },
     "execution_count": 69,
     "metadata": {},
     "output_type": "execute_result"
    }
   ],
   "source": [
    "checkpoint_callback.best_model_path"
   ]
  },
  {
   "cell_type": "code",
   "execution_count": 70,
   "id": "unsigned-arrow",
   "metadata": {},
   "outputs": [],
   "source": [
    "ind = 0\n",
    "R_space_val, T_space_val = rt_val.__getitem__(ind)\n",
    "R_space_train, T_space_train = rt_train.__getitem__(ind)\n",
    "\n",
    "x_hat_v = model(R_space_val[:, None, ...]).squeeze().cpu().detach().numpy()\n",
    "x_hat_t = model(R_space_train[:, None, ...]).squeeze().cpu().detach().numpy()"
   ]
  },
  {
   "cell_type": "markdown",
   "id": "deluxe-spirituality",
   "metadata": {},
   "source": [
    "## Model performance\n",
    "\n",
    "In order to evaluate the model's performance we apply our model to unseen data and compare it to the ground-truth incident field which is derived as follow :\n",
    "\n",
    "We want to find $E^{in}$ so that $E^{out}$ is maximized at the middle pixel $p_t$. \n",
    "\n",
    "From equation (1), $$E_p^{out} = \\sum_{n=1}^{N_{SLM}} t_{pn}E_{n}^{in} = \\sum_{n=1}^{N_{SLM}} |t_{pn}|e^{\\textit{j}arg(t_{pn})}|E_{n}^{in}|e^{\\textit{j}arg(E_{n}^{in})}$$\n",
    "\n",
    "in order to maximize this quantity at output pixel $p_t$ we need : $arg({t_{p_tn}})=-arg(E_{n}^{in})$. And for an arbitrarily chosen output pixel $p \\neq p_t$, the output field is a sum of random phasors (see Figure (a) above). Therefore, the ground-truth incident field is $E_n^{in} = (t_{p_tn})^{*}$ the complex-conjugate of the $p_t$-th transmission matrix row.\n",
    "\n",
    "$$E_p^{out} = \\sum_{n=1}^{N_{SLM}} |t_{pn}||E_{n}^{in}|e^{\\textit{j}(arg(t_{pn})-arg(t_{p_tn}))}$$\n",
    "\n",
    "$$E_{p_t}^{out} = \\sum_{n=1}^{N_{SLM}} |t_{pn}||E_{n}^{in}|$$\n",
    "\n",
    "See Figure for an illustration."
   ]
  },
  {
   "cell_type": "markdown",
   "id": "immune-custody",
   "metadata": {},
   "source": [
    "### Vectorial representation in the complex plane of the output electric field at a pixel different to the focus (left) and at the focus pixel (right). This electric field is a vectorial sum of all incident channels multiplied by the corresponding transmission matrix element.\n",
    "\n",
    "\n",
    "<figure class=\"image\">\n",
    "<img src='https://www.dropbox.com/s/4tq0okfm5gizhnf/dessin3.png?dl=0&raw=1' width=500>\n",
    "</figure>"
   ]
  },
  {
   "cell_type": "markdown",
   "id": "industrial-chapel",
   "metadata": {},
   "source": [
    "$$E^{out}_1 = t_{p1}E^{in}_1$$"
   ]
  },
  {
   "cell_type": "code",
   "execution_count": 106,
   "id": "romantic-blink",
   "metadata": {},
   "outputs": [
    {
     "name": "stdout",
     "output_type": "stream",
     "text": [
      "[-0.9099345 -0.41475192j  0.79690534+0.6041042j  -0.7214297 +0.69248766j\n",
      "  0.8464704 +0.5324358j  -0.9857524 -0.16820285j -0.0796221 +0.9968251j\n",
      " -0.22532001-0.9742848j   0.7128682 +0.701298j   -0.38188675-0.9242091j\n",
      "  0.9774976 -0.21094659j -0.8431268 -0.5377148j  -0.7086208 +0.70558953j\n",
      "  0.18097052-0.9834885j  -0.09559143-0.99542063j -0.804454  +0.59401494j\n",
      "  0.70935595+0.70485044j -0.6803424 +0.7328944j  -0.8845239 -0.4664948j\n",
      "  0.6362904 +0.7714497j  -0.879846  -0.4752589j   0.74589473+0.66606385j\n",
      " -0.7616203 -0.64802355j  0.8108392 +0.58526903j -0.7589762 -0.65111834j\n",
      "  0.9661531 +0.25796935j -0.91245127-0.40918544j  0.9340845 -0.35705215j\n",
      " -0.9645567 +0.2638756j   0.9841483 -0.17734721j -0.9626795 -0.2706439j\n",
      "  0.9792252 +0.20277578j -0.7389734 +0.67373466j  0.98868424-0.1500117j\n",
      " -0.9534714 -0.30148345j  0.6208028 -0.7839668j   0.46200934+0.8868751j\n",
      " -0.9982572 +0.05901259j  0.23829077+0.97119385j -0.9765635 +0.21522939j\n",
      "  0.20114124+0.9795622j  -0.9591643 -0.28284946j  0.99985254+0.01717287j\n",
      " -0.75786716-0.6524089j   0.97675884+0.21434127j -0.9999149 +0.01304628j\n",
      "  0.9705645 -0.24084142j -0.9978343 -0.06577761j  0.53414047-0.84539574j\n",
      " -0.88377035+0.46792084j  0.71709096-0.6969796j  -0.8723061 +0.48896018j\n",
      "  0.48838952-0.8726257j  -0.5412259 +0.84087723j  0.5844137 -0.81145585j\n",
      "  0.7069522 +0.7072613j   0.5165409 -0.8562625j   0.29039085+0.9569081j\n",
      " -0.8326436 -0.55380917j  0.8238785 +0.56676644j -0.96849006-0.24905221j\n",
      "  0.9873771 -0.15838695j -0.9627499 -0.2703935j   0.9893311 -0.14568424j\n",
      " -0.8963038 +0.44344062j  0.9249437 -0.38010415j -0.91333795+0.40720242j\n",
      "  0.5086245 -0.86098844j -0.63381565+0.7734841j   0.03575191-0.9993607j\n",
      "  0.02445152+0.999701j    0.00218756-0.9999976j   0.5930265 +0.80518293j\n",
      "  0.6092765 -0.7929579j   0.7744839 +0.6325936j  -0.94730794-0.3203244j\n",
      "  0.9727208 +0.23197888j -0.9977699 -0.06674727j  0.96987563+0.24360073j\n",
      " -0.34396136+0.9389838j   0.8152336 -0.5791323j  -0.75859296+0.65156484j\n",
      "  0.28842875-0.95750135j -0.5287101 +0.84880245j  0.17686705-0.98423475j\n",
      "  0.21067563+0.97755605j -0.23517632-0.97195274j  0.6123756 +0.790567j\n",
      " -0.6969009 -0.71716744j  0.9731723 +0.23007758j -0.9918682 -0.12726927j\n",
      "  0.9832472 -0.18227689j -0.997516  +0.07044023j  0.8825775 -0.47016698j\n",
      " -0.73152626+0.6818133j   0.6455143 -0.76374817j -0.3164924 +0.94859505j\n",
      " -0.09433483-0.9955405j   0.10203379+0.99478096j -0.67129576-0.7411896j\n",
      "  0.63833153+0.76976156j -0.83523047-0.54990005j  0.9620517 +0.27286738j\n",
      " -0.98229355+0.18734828j  0.83488727-0.55042094j -0.8945122 +0.44704354j\n",
      "  0.5618351 -0.8272492j  -0.23149765+0.9728355j   0.06701184-0.9977522j\n",
      "  0.2879966 +0.9576314j  -0.7304083 -0.68301076j  0.8153161 +0.57901615j\n",
      " -0.8959062 -0.44424328j  0.9968244 -0.0796314j  -0.7784144 +0.62775075j\n",
      "  0.58664846-0.8098417j  -0.54453665+0.8387371j  -0.01004707-0.9999495j\n",
      "  0.41964358+0.907689j   -0.44244346-0.8967964j   0.89044166+0.4550974j\n",
      " -0.954272  -0.29893973j  0.9979602 -0.06383891j -0.40218168+0.9155599j\n",
      "  0.32345697-0.94624287j -0.19375189+0.98105055j -0.76481736-0.6442472j\n",
      "  0.6975546 +0.71653163j -0.9920679 -0.12570336j  0.9690191 -0.24698563j\n",
      " -0.57498217+0.81816596j  0.67844886-0.73464763j  0.1698094 +0.9854769j\n",
      " -0.47554478-0.87969154j  0.9554579 +0.29512736j -0.98328286+0.18208462j\n",
      "  0.735755  -0.6772478j  -0.066021  +0.99781823j -0.09013934-0.9959292j\n",
      "  0.41971585+0.90765554j -0.87577385-0.48272166j  0.9063113 -0.4226108j\n",
      " -0.7553639 +0.6553056j   0.32331663-0.94629085j  0.45739144+0.8892655j\n",
      " -0.9385128 -0.34524438j  0.9954344 -0.09544837j -0.48881003+0.8723903j\n",
      " -0.09629473-0.99535286j  0.8153998 +0.5788982j  -0.967704  +0.25208923j\n",
      "  0.8358692 -0.5489287j  -0.04033203+0.99918634j -0.77083325-0.637037j\n",
      "  0.995808  -0.09146784j -0.3009495 +0.95364004j -0.3746222 -0.92717755j\n",
      "  0.97827274+0.20732197j -0.82319325+0.5677613j  -0.0163683 -0.999866j\n",
      "  0.75031483+0.66108066j -0.86026084+0.50985414j  0.16320066-0.9865929j\n",
      "  0.7127682 +0.7013997j  -0.9535929 +0.301099j    0.41525304-0.90970594j\n",
      "  0.79546875+0.60599464j -0.9198062 +0.392373j   -0.15690859-0.98761314j\n",
      "  0.98283106+0.18450783j -0.4012469 +0.91596997j -0.7785974 -0.6275237j\n",
      "  0.7806106 -0.62501764j  0.36389038+0.9314418j  -0.93861216+0.34497428j\n",
      " -0.31799984-0.9480908j   0.9273184 -0.37427345j  0.39541072+0.9185044j\n",
      " -0.8874837 +0.46083906j -0.5725347 -0.81988055j  0.7550349 -0.65568453j\n",
      "  0.8021424 +0.5971328j  -0.29624045+0.9551134j  -0.99865973+0.05175629j\n",
      " -0.51951414-0.85446185j  0.5954725 -0.80337566j  0.99484897+0.10136822j\n",
      "  0.4864744 +0.87369484j -0.36182442+0.93224627j -0.9235285 +0.38352984j\n",
      " -0.95470136-0.29756567j -0.59054905-0.8070017j   0.08842475-0.99608284j\n",
      "  0.6248194 -0.7807693j   0.9013867 -0.4330151j   0.99985766-0.01687272j\n",
      "  0.9460527 +0.32401288j  0.91609335+0.40096506j  0.8651498 +0.50151354j\n",
      "  0.7440742 +0.66809696j  0.6943559 +0.71963173j  0.7443313 +0.6678105j\n",
      "  0.80309504+0.59585094j  0.79225856+0.6101855j   0.88357395+0.46829167j\n",
      "  0.99987   +0.01612291j  0.93051493-0.366254j    0.53596914-0.84423757j\n",
      " -0.13089614-0.99139607j -0.67454344-0.7382351j  -0.93674666-0.3500082j\n",
      " -0.9757141 +0.21904802j -0.47658536+0.8791282j   0.4456172 +0.8952236j\n",
      "  0.99095964+0.13416012j  0.6969908 -0.7170801j  -0.15309218-0.9882119j\n",
      " -0.99828017-0.05862297j -0.47008088+0.8826233j   0.76143295+0.6482437j\n",
      "  0.74767625-0.6640634j  -0.4689189 -0.88324124j -0.9916773 +0.1287483j\n",
      " -0.02399612+0.99971205j  0.9856238 +0.16895494j  0.21929395-0.97565883j\n",
      " -0.9742993 -0.22525728j -0.05865988+0.998278j    0.9781834 -0.20774312j\n",
      " -0.43950567-0.89823985j -0.75937843+0.6506492j   0.84487844+0.53495836j\n",
      "  0.30409577-0.9526415j  -0.98701495+0.1606284j   0.5508492 +0.8346048j\n",
      "  0.6195501 -0.7849571j  -0.9708036 -0.23987561j  0.3361166 +0.9418204j\n",
      "  0.64950323-0.7603588j  -0.99885416+0.04785727j  0.61269754+0.7903175j\n",
      "  0.07617652-0.99709433j -0.66317725+0.7484624j   0.9448443 +0.32751986j\n",
      " -0.22154191-0.9751508j  -0.37944078+0.925216j    0.9771773 -0.2124252j\n",
      " -0.6647593 -0.7470576j  -0.11720353+0.9931079j   0.6613954 -0.7500375j\n",
      " -0.9967803 +0.08018141j  0.870926  +0.49141416j -0.21761435-0.9760348j\n",
      " -0.46260262+0.88656574j  0.9826101 -0.18568075j -0.8899118 -0.4561327j\n",
      "  0.47220138+0.8814907j  -0.04533755-0.9989717j  -0.6234629 +0.7818529j\n",
      "  0.9450652 -0.32688186j -0.77015847-0.6378526j   0.47929358+0.8776546j\n",
      "  0.29496408-0.95550835j -0.4169809 +0.9089153j   0.94001895-0.3411222j\n",
      " -0.98708576-0.16019279j  0.77671254+0.6298552j  -0.73080474-0.6825866j\n",
      " -0.00302044+0.9999954j   0.4266621 -0.90441114j -0.7801361 +0.6256099j\n",
      "  0.97275186-0.23184869j -0.89082056-0.4543553j   0.8566627 +0.515877j\n",
      " -0.57883143-0.8154472j   0.17058152+0.9853436j  -0.25522628-0.96688133j\n",
      "  0.10906529+0.9940346j   0.7142495 -0.6998912j  -0.98555857+0.16933484j\n",
      "  0.97593135+0.21807796j -0.97102803-0.23896565j  0.4363022 +0.8998002j\n",
      " -0.07323716-0.9973146j   0.09837043+0.99514985j  0.84660256-0.53222567j\n",
      " -0.98459303+0.1748616j   0.7787314 -0.6273575j  -0.8256466 -0.5641877j\n",
      "  0.83632994+0.5482265j  -0.6519981 -0.7582206j   0.56633574+0.82417464j\n",
      " -0.1727782 -0.98496073j -0.56599283+0.82441014j  0.796986  -0.60399777j\n",
      " -0.46210286+0.88682634j  0.99987715+0.01567291j -0.9407061 -0.3392227j\n",
      "  0.40825492+0.91286796j -0.35473   -0.93496877j  0.27582568+0.9612077j\n",
      "  0.2166439 -0.9762507j  -0.15994698+0.98712564j  0.26064506-0.9654347j\n",
      " -0.54639065+0.83753043j  0.7449104 -0.66716444j -0.9337371 +0.35795945j\n",
      "  0.85843533-0.51292175j -0.99998885-0.0047182j   0.69472224+0.71927816j\n",
      " -0.85372937-0.52071697j  0.81689924+0.57678044j  0.59420186-0.8043159j\n",
      " -0.62927586+0.77718204j  0.8401811 -0.54230595j -0.5815041 -0.81354344j\n",
      "  0.576207  -0.81730384j -0.88645476+0.46281525j  0.92862344-0.3710236j\n",
      " -0.9753843 +0.22051194j  0.9930305 -0.11785766j -0.9907851 -0.13544303j\n",
      "  0.9847582 +0.17392907j -0.96040905-0.27859366j  0.9627677 +0.27032995j\n",
      " -0.5775295 -0.81636983j  0.96049   +0.2783145j  -0.9821488 +0.18810561j\n",
      "  0.92304564+0.3846904j   0.18203695-0.9832917j   0.53041387+0.84773886j\n",
      "  0.7609347 -0.64882845j -0.8062151 +0.59162253j  0.9914833 -0.13023409j\n",
      " -0.8829085 +0.46954504j  0.9822168 +0.18775053j -0.99693376+0.07825012j\n",
      "  0.8162395 +0.5777137j  -0.95001304-0.31221017j  0.6351895 +0.7723564j\n",
      " -0.8960559 -0.44394124j  0.79916877+0.6011067j  -0.75484866-0.655899j\n",
      "  0.29262963+0.9562259j  -0.4579293 -0.8889886j   0.21863408+0.9758069j\n",
      " -0.18034181-0.983604j   -0.81001127+0.5864143j   0.97206825-0.23469834j\n",
      " -0.09599916+0.9953814j   0.6972978 -0.71678156j -0.59202117-0.80592245j\n",
      "  0.7619628 +0.64762086j -0.99841464-0.05628724j  0.95190054+0.30640727j\n",
      " -0.60018814-0.79985887j  0.37097356+0.9286434j  -0.9144556 -0.4046862j\n",
      "  0.44244432+0.896796j   -0.15636452-0.9876994j   0.32434773+0.94593793j\n",
      " -0.4819485 -0.87619954j  0.39433664+0.91896605j  0.17527875-0.9845188j\n",
      "  0.49352154+0.8697336j   0.93287027-0.36021253j  0.16417158+0.9864318j\n",
      "  0.9301333 -0.3672221j  -0.03030651+0.9995406j   0.4363729 -0.8997659j\n",
      " -0.8427453 -0.5383125j   0.8608643 +0.5088346j   0.13980334-0.9901793j\n",
      "  0.6297755 +0.7767772j  -0.99868083-0.05134818j  0.57239044+0.8199812j\n",
      "  0.03142383-0.9995062j   0.06906272+0.9976123j   0.29004484-0.9570131j\n",
      "  0.30686626+0.95175266j  0.53587455-0.8442976j   0.11749016+0.99307406j\n",
      "  0.47749364-0.8786352j  -0.24648403+0.96914685j  0.24885044-0.9685419j\n",
      "  0.52763665+0.84947014j  0.3027384 -0.9530737j  -0.7628192 +0.64661187j\n",
      "  0.98852944+0.15102819j -0.3810775 +0.9245431j   0.17756465-0.98410916j\n",
      "  0.9868178 -0.16183525j  0.44426852-0.8958937j   0.5464616 -0.8374842j\n",
      "  0.11894308+0.9929011j   0.9881842 -0.15327103j  0.01735012+0.9998495j\n",
      "  0.64895964-0.76082283j  0.01814488+0.9998354j   0.4654729 -0.88506216j]\n"
     ]
    }
   ],
   "source": [
    "x_cp_po_v = np.exp(1j * np.arctan2(x_cp_v.imag, x_cp_v.real))\n",
    "x_cp_po_t = np.exp(1j * np.arctan2(x_cp_t.imag, x_cp_t.real))\n",
    "\n",
    "# x_cp_po_v = x_cp_v / np.linalg.norm(x_cp_v)\n",
    "# x_cp_po_t = x_cp_t / np.linalg.norm(x_cp_t)\n",
    "\n",
    "print(x_cp_po_v)"
   ]
  },
  {
   "cell_type": "code",
   "execution_count": 107,
   "id": "emotional-nothing",
   "metadata": {
    "scrolled": true
   },
   "outputs": [
    {
     "data": {
      "image/png": "[encoded data removed]",
      "text/plain": [
       "<Figure size 576x576 with 4 Axes>"
      ]
     },
     "metadata": {
      "needs_background": "light"
     },
     "output_type": "display_data"
    }
   ],
   "source": [
    "T_v = T_space_val.numpy().squeeze()\n",
    "T_t = T_space_train.numpy().squeeze()\n",
    "\n",
    "T_dag_v = T_space_val.transpose(2,1).conj().numpy().squeeze()\n",
    "T_dag_t = T_space_train.transpose(2,1).conj().numpy().squeeze()\n",
    "\n",
    "x_cp_v = T_dag_v[... , T_dag_v.shape[-1]//2]\n",
    "x_cp_t = T_dag_t[... , T_dag_t.shape[-1]//2]\n",
    "\n",
    "\n",
    "x_cp_po_v = np.exp(1j * np.arctan2(x_cp_v.imag, x_cp_v.real))\n",
    "x_cp_po_t = np.exp(1j * np.arctan2(x_cp_t.imag, x_cp_t.real))\n",
    "\n",
    "# x_cp_po_v = x_cp_v / np.linalg.norm(x_cp_v)\n",
    "# x_cp_po_t = x_cp_t / np.linalg.norm(x_cp_t)\n",
    "\n",
    "abs_lim = (160,240)\n",
    "\n",
    "%matplotlib inline\n",
    "plt.figure(figsize=(8,8))\n",
    "plt.subplot(221)\n",
    "# plt.plot(np.angle(x_hat_t_np)-np.angle(x_cp_t), \n",
    "#           label = 'x_hat-x_cp')\n",
    "plt.plot(np.angle(x_hat_t), \n",
    "          label = 'x_hat')\n",
    "plt.plot(np.angle(x_cp_t), '--', \n",
    "          label = 'x_cp')\n",
    "plt.legend(loc=1)\n",
    "plt.ylabel('angle')\n",
    "plt.xlabel('pixels')\n",
    "plt.xlim(abs_lim)\n",
    "plt.title(f\"Phase of Incident field training\")\n",
    "plt.subplot(222)\n",
    "# plt.plot(np.angle(x_hat_v)-np.angle(x_cp_v), \n",
    "#           label = 'x_hat-x_cp')\n",
    "plt.plot(np.angle(x_hat_v), \n",
    "          label = 'x_hat')\n",
    "plt.plot(np.angle(x_cp_v), '--', \n",
    "          label = 'x_cp')\n",
    "plt.legend(loc=1)\n",
    "plt.title(f\"Phase of Incident field validation\")\n",
    "plt.ylabel('angle')\n",
    "plt.xlabel('pixels')\n",
    "plt.xlim(abs_lim)\n",
    "plt.subplot(223)\n",
    "plt.title(f\"Amplitude of Incident field training\")\n",
    "plt.plot(np.abs(x_hat_t)/np.linalg.norm(x_hat_t), \n",
    "          label = 'x_hat')\n",
    "plt.plot(np.abs(x_cp_t)/np.linalg.norm(x_cp_t), '--', \n",
    "          label = 'x_cp')\n",
    "plt.legend()\n",
    "# plt.xlim(abs_lim)\n",
    "plt.subplot(224)\n",
    "plt.title(f\"Amplitude Incident field validation\")\n",
    "plt.plot(np.abs(x_hat_v)/np.linalg.norm(x_hat_v),\n",
    "         label = 'x_hat')\n",
    "plt.plot(np.abs(x_cp_v)/np.linalg.norm(x_cp_v), '--',\n",
    "         label = 'x_cp')\n",
    "plt.legend()\n",
    "# plt.xlim(abs_lim)\n",
    "plt.suptitle(f\"Phase and amplitude of the predicted incident field. Far config. For index {ind}\", fontweight='bold')\n",
    "plt.tight_layout()\n",
    "plt.show()\n",
    "# plt.savefig('figures/'+'field_phase_only'+'.png')\n",
    "\n",
    "# 'amp_'+str(PARAMS['amp_reg'])+'std_'+str(PARAMS['std_reg'])+"
   ]
  },
  {
   "cell_type": "code",
   "execution_count": 108,
   "id": "regulation-george",
   "metadata": {
    "scrolled": true
   },
   "outputs": [
    {
     "data": {
      "application/javascript": [
       "/* Put everything inside the global mpl namespace */\n",
       "/* global mpl */\n",
       "window.mpl = {};\n",
       "\n",
       "mpl.get_websocket_type = function () {\n",
       "    if (typeof WebSocket !== 'undefined') {\n",
       "        return WebSocket;\n",
       "    } else if (typeof MozWebSocket !== 'undefined') {\n",
       "        return MozWebSocket;\n",
       "    } else {\n",
       "        alert(\n",
       "            'Your browser does not have WebSocket support. ' +\n",
       "                'Please try Chrome, Safari or Firefox ≥ 6. ' +\n",
       "                'Firefox 4 and 5 are also supported but you ' +\n",
       "                'have to enable WebSockets in about:config.'\n",
       "        );\n",
       "    }\n",
       "};\n",
       "\n",
       "mpl.figure = function (figure_id, websocket, ondownload, parent_element) {\n",
       "    this.id = figure_id;\n",
       "\n",
       "    this.ws = websocket;\n",
       "\n",
       "    this.supports_binary = this.ws.binaryType !== undefined;\n",
       "\n",
       "    if (!this.supports_binary) {\n",
       "        var warnings = document.getElementById('mpl-warnings');\n",
       "        if (warnings) {\n",
       "            warnings.style.display = 'block';\n",
       "            warnings.textContent =\n",
       "                'This browser does not support binary websocket messages. ' +\n",
       "                'Performance may be slow.';\n",
       "        }\n",
       "    }\n",
       "\n",
       "    this.imageObj = new Image();\n",
       "\n",
       "    this.context = undefined;\n",
       "    this.message = undefined;\n",
       "    this.canvas = undefined;\n",
       "    this.rubberband_canvas = undefined;\n",
       "    this.rubberband_context = undefined;\n",
       "    this.format_dropdown = undefined;\n",
       "\n",
       "    this.image_mode = 'full';\n",
       "\n",
       "    this.root = document.createElement('div');\n",
       "    this.root.setAttribute('style', 'display: inline-block');\n",
       "    this._root_extra_style(this.root);\n",
       "\n",
       "    parent_element.appendChild(this.root);\n",
       "\n",
       "    this._init_header(this);\n",
       "    this._init_canvas(this);\n",
       "    this._init_toolbar(this);\n",
       "\n",
       "    var fig = this;\n",
       "\n",
       "    this.waiting = false;\n",
       "\n",
       "    this.ws.onopen = function () {\n",
       "        fig.send_message('supports_binary', { value: fig.supports_binary });\n",
       "        fig.send_message('send_image_mode', {});\n",
       "        if (fig.ratio !== 1) {\n",
       "            fig.send_message('set_dpi_ratio', { dpi_ratio: fig.ratio });\n",
       "        }\n",
       "        fig.send_message('refresh', {});\n",
       "    };\n",
       "\n",
       "    this.imageObj.onload = function () {\n",
       "        if (fig.image_mode === 'full') {\n",
       "            // Full images could contain transparency (where diff images\n",
       "            // almost always do), so we need to clear the canvas so that\n",
       "            // there is no ghosting.\n",
       "            fig.context.clearRect(0, 0, fig.canvas.width, fig.canvas.height);\n",
       "        }\n",
       "        fig.context.drawImage(fig.imageObj, 0, 0);\n",
       "    };\n",
       "\n",
       "    this.imageObj.onunload = function () {\n",
       "        fig.ws.close();\n",
       "    };\n",
       "\n",
       "    this.ws.onmessage = this._make_on_message_function(this);\n",
       "\n",
       "    this.ondownload = ondownload;\n",
       "};\n",
       "\n",
       "mpl.figure.prototype._init_header = function () {\n",
       "    var titlebar = document.createElement('div');\n",
       "    titlebar.classList =\n",
       "        'ui-dialog-titlebar ui-widget-header ui-corner-all ui-helper-clearfix';\n",
       "    var titletext = document.createElement('div');\n",
       "    titletext.classList = 'ui-dialog-title';\n",
       "    titletext.setAttribute(\n",
       "        'style',\n",
       "        'width: 100%; text-align: center; padding: 3px;'\n",
       "    );\n",
       "    titlebar.appendChild(titletext);\n",
       "    this.root.appendChild(titlebar);\n",
       "    this.header = titletext;\n",
       "};\n",
       "\n",
       "mpl.figure.prototype._canvas_extra_style = function (_canvas_div) {};\n",
       "\n",
       "mpl.figure.prototype._root_extra_style = function (_canvas_div) {};\n",
       "\n",
       "mpl.figure.prototype._init_canvas = function () {\n",
       "    var fig = this;\n",
       "\n",
       "    var canvas_div = (this.canvas_div = document.createElement('div'));\n",
       "    canvas_div.setAttribute(\n",
       "        'style',\n",
       "        'border: 1px solid #ddd;' +\n",
       "            'box-sizing: content-box;' +\n",
       "            'clear: both;' +\n",
       "            'min-height: 1px;' +\n",
       "            'min-width: 1px;' +\n",
       "            'outline: 0;' +\n",
       "            'overflow: hidden;' +\n",
       "            'position: relative;' +\n",
       "            'resize: both;'\n",
       "    );\n",
       "\n",
       "    function on_keyboard_event_closure(name) {\n",
       "        return function (event) {\n",
       "            return fig.key_event(event, name);\n",
       "        };\n",
       "    }\n",
       "\n",
       "    canvas_div.addEventListener(\n",
       "        'keydown',\n",
       "        on_keyboard_event_closure('key_press')\n",
       "    );\n",
       "    canvas_div.addEventListener(\n",
       "        'keyup',\n",
       "        on_keyboard_event_closure('key_release')\n",
       "    );\n",
       "\n",
       "    this._canvas_extra_style(canvas_div);\n",
       "    this.root.appendChild(canvas_div);\n",
       "\n",
       "    var canvas = (this.canvas = document.createElement('canvas'));\n",
       "    canvas.classList.add('mpl-canvas');\n",
       "    canvas.setAttribute('style', 'box-sizing: content-box;');\n",
       "\n",
       "    this.context = canvas.getContext('2d');\n",
       "\n",
       "    var backingStore =\n",
       "        this.context.backingStorePixelRatio ||\n",
       "        this.context.webkitBackingStorePixelRatio ||\n",
       "        this.context.mozBackingStorePixelRatio ||\n",
       "        this.context.msBackingStorePixelRatio ||\n",
       "        this.context.oBackingStorePixelRatio ||\n",
       "        this.context.backingStorePixelRatio ||\n",
       "        1;\n",
       "\n",
       "    this.ratio = (window.devicePixelRatio || 1) / backingStore;\n",
       "    if (this.ratio !== 1) {\n",
       "        fig.send_message('set_dpi_ratio', { dpi_ratio: this.ratio });\n",
       "    }\n",
       "\n",
       "    var rubberband_canvas = (this.rubberband_canvas = document.createElement(\n",
       "        'canvas'\n",
       "    ));\n",
       "    rubberband_canvas.setAttribute(\n",
       "        'style',\n",
       "        'box-sizing: content-box; position: absolute; left: 0; top: 0; z-index: 1;'\n",
       "    );\n",
       "\n",
       "    var resizeObserver = new ResizeObserver(function (entries) {\n",
       "        var nentries = entries.length;\n",
       "        for (var i = 0; i < nentries; i++) {\n",
       "            var entry = entries[i];\n",
       "            var width, height;\n",
       "            if (entry.contentBoxSize) {\n",
       "                if (entry.contentBoxSize instanceof Array) {\n",
       "                    // Chrome 84 implements new version of spec.\n",
       "                    width = entry.contentBoxSize[0].inlineSize;\n",
       "                    height = entry.contentBoxSize[0].blockSize;\n",
       "                } else {\n",
       "                    // Firefox implements old version of spec.\n",
       "                    width = entry.contentBoxSize.inlineSize;\n",
       "                    height = entry.contentBoxSize.blockSize;\n",
       "                }\n",
       "            } else {\n",
       "                // Chrome <84 implements even older version of spec.\n",
       "                width = entry.contentRect.width;\n",
       "                height = entry.contentRect.height;\n",
       "            }\n",
       "\n",
       "            // Keep the size of the canvas and rubber band canvas in sync with\n",
       "            // the canvas container.\n",
       "            if (entry.devicePixelContentBoxSize) {\n",
       "                // Chrome 84 implements new version of spec.\n",
       "                canvas.setAttribute(\n",
       "                    'width',\n",
       "                    entry.devicePixelContentBoxSize[0].inlineSize\n",
       "                );\n",
       "                canvas.setAttribute(\n",
       "                    'height',\n",
       "                    entry.devicePixelContentBoxSize[0].blockSize\n",
       "                );\n",
       "            } else {\n",
       "                canvas.setAttribute('width', width * fig.ratio);\n",
       "                canvas.setAttribute('height', height * fig.ratio);\n",
       "            }\n",
       "            canvas.setAttribute(\n",
       "                'style',\n",
       "                'width: ' + width + 'px; height: ' + height + 'px;'\n",
       "            );\n",
       "\n",
       "            rubberband_canvas.setAttribute('width', width);\n",
       "            rubberband_canvas.setAttribute('height', height);\n",
       "\n",
       "            // And update the size in Python. We ignore the initial 0/0 size\n",
       "            // that occurs as the element is placed into the DOM, which should\n",
       "            // otherwise not happen due to the minimum size styling.\n",
       "            if (width != 0 && height != 0) {\n",
       "                fig.request_resize(width, height);\n",
       "            }\n",
       "        }\n",
       "    });\n",
       "    resizeObserver.observe(canvas_div);\n",
       "\n",
       "    function on_mouse_event_closure(name) {\n",
       "        return function (event) {\n",
       "            return fig.mouse_event(event, name);\n",
       "        };\n",
       "    }\n",
       "\n",
       "    rubberband_canvas.addEventListener(\n",
       "        'mousedown',\n",
       "        on_mouse_event_closure('button_press')\n",
       "    );\n",
       "    rubberband_canvas.addEventListener(\n",
       "        'mouseup',\n",
       "        on_mouse_event_closure('button_release')\n",
       "    );\n",
       "    // Throttle sequential mouse events to 1 every 20ms.\n",
       "    rubberband_canvas.addEventListener(\n",
       "        'mousemove',\n",
       "        on_mouse_event_closure('motion_notify')\n",
       "    );\n",
       "\n",
       "    rubberband_canvas.addEventListener(\n",
       "        'mouseenter',\n",
       "        on_mouse_event_closure('figure_enter')\n",
       "    );\n",
       "    rubberband_canvas.addEventListener(\n",
       "        'mouseleave',\n",
       "        on_mouse_event_closure('figure_leave')\n",
       "    );\n",
       "\n",
       "    canvas_div.addEventListener('wheel', function (event) {\n",
       "        if (event.deltaY < 0) {\n",
       "            event.step = 1;\n",
       "        } else {\n",
       "            event.step = -1;\n",
       "        }\n",
       "        on_mouse_event_closure('scroll')(event);\n",
       "    });\n",
       "\n",
       "    canvas_div.appendChild(canvas);\n",
       "    canvas_div.appendChild(rubberband_canvas);\n",
       "\n",
       "    this.rubberband_context = rubberband_canvas.getContext('2d');\n",
       "    this.rubberband_context.strokeStyle = '#000000';\n",
       "\n",
       "    this._resize_canvas = function (width, height, forward) {\n",
       "        if (forward) {\n",
       "            canvas_div.style.width = width + 'px';\n",
       "            canvas_div.style.height = height + 'px';\n",
       "        }\n",
       "    };\n",
       "\n",
       "    // Disable right mouse context menu.\n",
       "    this.rubberband_canvas.addEventListener('contextmenu', function (_e) {\n",
       "        event.preventDefault();\n",
       "        return false;\n",
       "    });\n",
       "\n",
       "    function set_focus() {\n",
       "        canvas.focus();\n",
       "        canvas_div.focus();\n",
       "    }\n",
       "\n",
       "    window.setTimeout(set_focus, 100);\n",
       "};\n",
       "\n",
       "mpl.figure.prototype._init_toolbar = function () {\n",
       "    var fig = this;\n",
       "\n",
       "    var toolbar = document.createElement('div');\n",
       "    toolbar.classList = 'mpl-toolbar';\n",
       "    this.root.appendChild(toolbar);\n",
       "\n",
       "    function on_click_closure(name) {\n",
       "        return function (_event) {\n",
       "            return fig.toolbar_button_onclick(name);\n",
       "        };\n",
       "    }\n",
       "\n",
       "    function on_mouseover_closure(tooltip) {\n",
       "        return function (event) {\n",
       "            if (!event.currentTarget.disabled) {\n",
       "                return fig.toolbar_button_onmouseover(tooltip);\n",
       "            }\n",
       "        };\n",
       "    }\n",
       "\n",
       "    fig.buttons = {};\n",
       "    var buttonGroup = document.createElement('div');\n",
       "    buttonGroup.classList = 'mpl-button-group';\n",
       "    for (var toolbar_ind in mpl.toolbar_items) {\n",
       "        var name = mpl.toolbar_items[toolbar_ind][0];\n",
       "        var tooltip = mpl.toolbar_items[toolbar_ind][1];\n",
       "        var image = mpl.toolbar_items[toolbar_ind][2];\n",
       "        var method_name = mpl.toolbar_items[toolbar_ind][3];\n",
       "\n",
       "        if (!name) {\n",
       "            /* Instead of a spacer, we start a new button group. */\n",
       "            if (buttonGroup.hasChildNodes()) {\n",
       "                toolbar.appendChild(buttonGroup);\n",
       "            }\n",
       "            buttonGroup = document.createElement('div');\n",
       "            buttonGroup.classList = 'mpl-button-group';\n",
       "            continue;\n",
       "        }\n",
       "\n",
       "        var button = (fig.buttons[name] = document.createElement('button'));\n",
       "        button.classList = 'mpl-widget';\n",
       "        button.setAttribute('role', 'button');\n",
       "        button.setAttribute('aria-disabled', 'false');\n",
       "        button.addEventListener('click', on_click_closure(method_name));\n",
       "        button.addEventListener('mouseover', on_mouseover_closure(tooltip));\n",
       "\n",
       "        var icon_img = document.createElement('img');\n",
       "        icon_img.src = '_images/' + image + '.png';\n",
       "        icon_img.srcset = '_images/' + image + '_large.png 2x';\n",
       "        icon_img.alt = tooltip;\n",
       "        button.appendChild(icon_img);\n",
       "\n",
       "        buttonGroup.appendChild(button);\n",
       "    }\n",
       "\n",
       "    if (buttonGroup.hasChildNodes()) {\n",
       "        toolbar.appendChild(buttonGroup);\n",
       "    }\n",
       "\n",
       "    var fmt_picker = document.createElement('select');\n",
       "    fmt_picker.classList = 'mpl-widget';\n",
       "    toolbar.appendChild(fmt_picker);\n",
       "    this.format_dropdown = fmt_picker;\n",
       "\n",
       "    for (var ind in mpl.extensions) {\n",
       "        var fmt = mpl.extensions[ind];\n",
       "        var option = document.createElement('option');\n",
       "        option.selected = fmt === mpl.default_extension;\n",
       "        option.innerHTML = fmt;\n",
       "        fmt_picker.appendChild(option);\n",
       "    }\n",
       "\n",
       "    var status_bar = document.createElement('span');\n",
       "    status_bar.classList = 'mpl-message';\n",
       "    toolbar.appendChild(status_bar);\n",
       "    this.message = status_bar;\n",
       "};\n",
       "\n",
       "mpl.figure.prototype.request_resize = function (x_pixels, y_pixels) {\n",
       "    // Request matplotlib to resize the figure. Matplotlib will then trigger a resize in the client,\n",
       "    // which will in turn request a refresh of the image.\n",
       "    this.send_message('resize', { width: x_pixels, height: y_pixels });\n",
       "};\n",
       "\n",
       "mpl.figure.prototype.send_message = function (type, properties) {\n",
       "    properties['type'] = type;\n",
       "    properties['figure_id'] = this.id;\n",
       "    this.ws.send(JSON.stringify(properties));\n",
       "};\n",
       "\n",
       "mpl.figure.prototype.send_draw_message = function () {\n",
       "    if (!this.waiting) {\n",
       "        this.waiting = true;\n",
       "        this.ws.send(JSON.stringify({ type: 'draw', figure_id: this.id }));\n",
       "    }\n",
       "};\n",
       "\n",
       "mpl.figure.prototype.handle_save = function (fig, _msg) {\n",
       "    var format_dropdown = fig.format_dropdown;\n",
       "    var format = format_dropdown.options[format_dropdown.selectedIndex].value;\n",
       "    fig.ondownload(fig, format);\n",
       "};\n",
       "\n",
       "mpl.figure.prototype.handle_resize = function (fig, msg) {\n",
       "    var size = msg['size'];\n",
       "    if (size[0] !== fig.canvas.width || size[1] !== fig.canvas.height) {\n",
       "        fig._resize_canvas(size[0], size[1], msg['forward']);\n",
       "        fig.send_message('refresh', {});\n",
       "    }\n",
       "};\n",
       "\n",
       "mpl.figure.prototype.handle_rubberband = function (fig, msg) {\n",
       "    var x0 = msg['x0'] / fig.ratio;\n",
       "    var y0 = (fig.canvas.height - msg['y0']) / fig.ratio;\n",
       "    var x1 = msg['x1'] / fig.ratio;\n",
       "    var y1 = (fig.canvas.height - msg['y1']) / fig.ratio;\n",
       "    x0 = Math.floor(x0) + 0.5;\n",
       "    y0 = Math.floor(y0) + 0.5;\n",
       "    x1 = Math.floor(x1) + 0.5;\n",
       "    y1 = Math.floor(y1) + 0.5;\n",
       "    var min_x = Math.min(x0, x1);\n",
       "    var min_y = Math.min(y0, y1);\n",
       "    var width = Math.abs(x1 - x0);\n",
       "    var height = Math.abs(y1 - y0);\n",
       "\n",
       "    fig.rubberband_context.clearRect(\n",
       "        0,\n",
       "        0,\n",
       "        fig.canvas.width / fig.ratio,\n",
       "        fig.canvas.height / fig.ratio\n",
       "    );\n",
       "\n",
       "    fig.rubberband_context.strokeRect(min_x, min_y, width, height);\n",
       "};\n",
       "\n",
       "mpl.figure.prototype.handle_figure_label = function (fig, msg) {\n",
       "    // Updates the figure title.\n",
       "    fig.header.textContent = msg['label'];\n",
       "};\n",
       "\n",
       "mpl.figure.prototype.handle_cursor = function (fig, msg) {\n",
       "    var cursor = msg['cursor'];\n",
       "    switch (cursor) {\n",
       "        case 0:\n",
       "            cursor = 'pointer';\n",
       "            break;\n",
       "        case 1:\n",
       "            cursor = 'default';\n",
       "            break;\n",
       "        case 2:\n",
       "            cursor = 'crosshair';\n",
       "            break;\n",
       "        case 3:\n",
       "            cursor = 'move';\n",
       "            break;\n",
       "    }\n",
       "    fig.rubberband_canvas.style.cursor = cursor;\n",
       "};\n",
       "\n",
       "mpl.figure.prototype.handle_message = function (fig, msg) {\n",
       "    fig.message.textContent = msg['message'];\n",
       "};\n",
       "\n",
       "mpl.figure.prototype.handle_draw = function (fig, _msg) {\n",
       "    // Request the server to send over a new figure.\n",
       "    fig.send_draw_message();\n",
       "};\n",
       "\n",
       "mpl.figure.prototype.handle_image_mode = function (fig, msg) {\n",
       "    fig.image_mode = msg['mode'];\n",
       "};\n",
       "\n",
       "mpl.figure.prototype.handle_history_buttons = function (fig, msg) {\n",
       "    for (var key in msg) {\n",
       "        if (!(key in fig.buttons)) {\n",
       "            continue;\n",
       "        }\n",
       "        fig.buttons[key].disabled = !msg[key];\n",
       "        fig.buttons[key].setAttribute('aria-disabled', !msg[key]);\n",
       "    }\n",
       "};\n",
       "\n",
       "mpl.figure.prototype.handle_navigate_mode = function (fig, msg) {\n",
       "    if (msg['mode'] === 'PAN') {\n",
       "        fig.buttons['Pan'].classList.add('active');\n",
       "        fig.buttons['Zoom'].classList.remove('active');\n",
       "    } else if (msg['mode'] === 'ZOOM') {\n",
       "        fig.buttons['Pan'].classList.remove('active');\n",
       "        fig.buttons['Zoom'].classList.add('active');\n",
       "    } else {\n",
       "        fig.buttons['Pan'].classList.remove('active');\n",
       "        fig.buttons['Zoom'].classList.remove('active');\n",
       "    }\n",
       "};\n",
       "\n",
       "mpl.figure.prototype.updated_canvas_event = function () {\n",
       "    // Called whenever the canvas gets updated.\n",
       "    this.send_message('ack', {});\n",
       "};\n",
       "\n",
       "// A function to construct a web socket function for onmessage handling.\n",
       "// Called in the figure constructor.\n",
       "mpl.figure.prototype._make_on_message_function = function (fig) {\n",
       "    return function socket_on_message(evt) {\n",
       "        if (evt.data instanceof Blob) {\n",
       "            /* FIXME: We get \"Resource interpreted as Image but\n",
       "             * transferred with MIME type text/plain:\" errors on\n",
       "             * Chrome.  But how to set the MIME type?  It doesn't seem\n",
       "             * to be part of the websocket stream */\n",
       "            evt.data.type = 'image/png';\n",
       "\n",
       "            /* Free the memory for the previous frames */\n",
       "            if (fig.imageObj.src) {\n",
       "                (window.URL || window.webkitURL).revokeObjectURL(\n",
       "                    fig.imageObj.src\n",
       "                );\n",
       "            }\n",
       "\n",
       "            fig.imageObj.src = (window.URL || window.webkitURL).createObjectURL(\n",
       "                evt.data\n",
       "            );\n",
       "            fig.updated_canvas_event();\n",
       "            fig.waiting = false;\n",
       "            return;\n",
       "        } else if (\n",
       "            typeof evt.data === 'string' &&\n",
       "            evt.data.slice(0, 21) === 'data:image/png;base64'\n",
       "        ) {\n",
       "            fig.imageObj.src = evt.data;\n",
       "            fig.updated_canvas_event();\n",
       "            fig.waiting = false;\n",
       "            return;\n",
       "        }\n",
       "\n",
       "        var msg = JSON.parse(evt.data);\n",
       "        var msg_type = msg['type'];\n",
       "\n",
       "        // Call the  \"handle_{type}\" callback, which takes\n",
       "        // the figure and JSON message as its only arguments.\n",
       "        try {\n",
       "            var callback = fig['handle_' + msg_type];\n",
       "        } catch (e) {\n",
       "            console.log(\n",
       "                \"No handler for the '\" + msg_type + \"' message type: \",\n",
       "                msg\n",
       "            );\n",
       "            return;\n",
       "        }\n",
       "\n",
       "        if (callback) {\n",
       "            try {\n",
       "                // console.log(\"Handling '\" + msg_type + \"' message: \", msg);\n",
       "                callback(fig, msg);\n",
       "            } catch (e) {\n",
       "                console.log(\n",
       "                    \"Exception inside the 'handler_\" + msg_type + \"' callback:\",\n",
       "                    e,\n",
       "                    e.stack,\n",
       "                    msg\n",
       "                );\n",
       "            }\n",
       "        }\n",
       "    };\n",
       "};\n",
       "\n",
       "// from http://stackoverflow.com/questions/1114465/getting-mouse-location-in-canvas\n",
       "mpl.findpos = function (e) {\n",
       "    //this section is from http://www.quirksmode.org/js/events_properties.html\n",
       "    var targ;\n",
       "    if (!e) {\n",
       "        e = window.event;\n",
       "    }\n",
       "    if (e.target) {\n",
       "        targ = e.target;\n",
       "    } else if (e.srcElement) {\n",
       "        targ = e.srcElement;\n",
       "    }\n",
       "    if (targ.nodeType === 3) {\n",
       "        // defeat Safari bug\n",
       "        targ = targ.parentNode;\n",
       "    }\n",
       "\n",
       "    // pageX,Y are the mouse positions relative to the document\n",
       "    var boundingRect = targ.getBoundingClientRect();\n",
       "    var x = e.pageX - (boundingRect.left + document.body.scrollLeft);\n",
       "    var y = e.pageY - (boundingRect.top + document.body.scrollTop);\n",
       "\n",
       "    return { x: x, y: y };\n",
       "};\n",
       "\n",
       "/*\n",
       " * return a copy of an object with only non-object keys\n",
       " * we need this to avoid circular references\n",
       " * http://stackoverflow.com/a/24161582/3208463\n",
       " */\n",
       "function simpleKeys(original) {\n",
       "    return Object.keys(original).reduce(function (obj, key) {\n",
       "        if (typeof original[key] !== 'object') {\n",
       "            obj[key] = original[key];\n",
       "        }\n",
       "        return obj;\n",
       "    }, {});\n",
       "}\n",
       "\n",
       "mpl.figure.prototype.mouse_event = function (event, name) {\n",
       "    var canvas_pos = mpl.findpos(event);\n",
       "\n",
       "    if (name === 'button_press') {\n",
       "        this.canvas.focus();\n",
       "        this.canvas_div.focus();\n",
       "    }\n",
       "\n",
       "    var x = canvas_pos.x * this.ratio;\n",
       "    var y = canvas_pos.y * this.ratio;\n",
       "\n",
       "    this.send_message(name, {\n",
       "        x: x,\n",
       "        y: y,\n",
       "        button: event.button,\n",
       "        step: event.step,\n",
       "        guiEvent: simpleKeys(event),\n",
       "    });\n",
       "\n",
       "    /* This prevents the web browser from automatically changing to\n",
       "     * the text insertion cursor when the button is pressed.  We want\n",
       "     * to control all of the cursor setting manually through the\n",
       "     * 'cursor' event from matplotlib */\n",
       "    event.preventDefault();\n",
       "    return false;\n",
       "};\n",
       "\n",
       "mpl.figure.prototype._key_event_extra = function (_event, _name) {\n",
       "    // Handle any extra behaviour associated with a key event\n",
       "};\n",
       "\n",
       "mpl.figure.prototype.key_event = function (event, name) {\n",
       "    // Prevent repeat events\n",
       "    if (name === 'key_press') {\n",
       "        if (event.which === this._key) {\n",
       "            return;\n",
       "        } else {\n",
       "            this._key = event.which;\n",
       "        }\n",
       "    }\n",
       "    if (name === 'key_release') {\n",
       "        this._key = null;\n",
       "    }\n",
       "\n",
       "    var value = '';\n",
       "    if (event.ctrlKey && event.which !== 17) {\n",
       "        value += 'ctrl+';\n",
       "    }\n",
       "    if (event.altKey && event.which !== 18) {\n",
       "        value += 'alt+';\n",
       "    }\n",
       "    if (event.shiftKey && event.which !== 16) {\n",
       "        value += 'shift+';\n",
       "    }\n",
       "\n",
       "    value += 'k';\n",
       "    value += event.which.toString();\n",
       "\n",
       "    this._key_event_extra(event, name);\n",
       "\n",
       "    this.send_message(name, { key: value, guiEvent: simpleKeys(event) });\n",
       "    return false;\n",
       "};\n",
       "\n",
       "mpl.figure.prototype.toolbar_button_onclick = function (name) {\n",
       "    if (name === 'download') {\n",
       "        this.handle_save(this, null);\n",
       "    } else {\n",
       "        this.send_message('toolbar_button', { name: name });\n",
       "    }\n",
       "};\n",
       "\n",
       "mpl.figure.prototype.toolbar_button_onmouseover = function (tooltip) {\n",
       "    this.message.textContent = tooltip;\n",
       "};\n",
       "mpl.toolbar_items = [[\"Home\", \"Reset original view\", \"fa fa-home icon-home\", \"home\"], [\"Back\", \"Back to previous view\", \"fa fa-arrow-left icon-arrow-left\", \"back\"], [\"Forward\", \"Forward to next view\", \"fa fa-arrow-right icon-arrow-right\", \"forward\"], [\"\", \"\", \"\", \"\"], [\"Pan\", \"Left button pans, Right button zooms\\nx/y fixes axis, CTRL fixes aspect\", \"fa fa-arrows icon-move\", \"pan\"], [\"Zoom\", \"Zoom to rectangle\\nx/y fixes axis, CTRL fixes aspect\", \"fa fa-square-o icon-check-empty\", \"zoom\"], [\"\", \"\", \"\", \"\"], [\"Download\", \"Download plot\", \"fa fa-floppy-o icon-save\", \"download\"]];\n",
       "\n",
       "mpl.extensions = [\"eps\", \"jpeg\", \"pdf\", \"png\", \"ps\", \"raw\", \"svg\", \"tif\"];\n",
       "\n",
       "mpl.default_extension = \"png\";/* global mpl */\n",
       "\n",
       "var comm_websocket_adapter = function (comm) {\n",
       "    // Create a \"websocket\"-like object which calls the given IPython comm\n",
       "    // object with the appropriate methods. Currently this is a non binary\n",
       "    // socket, so there is still some room for performance tuning.\n",
       "    var ws = {};\n",
       "\n",
       "    ws.close = function () {\n",
       "        comm.close();\n",
       "    };\n",
       "    ws.send = function (m) {\n",
       "        //console.log('sending', m);\n",
       "        comm.send(m);\n",
       "    };\n",
       "    // Register the callback with on_msg.\n",
       "    comm.on_msg(function (msg) {\n",
       "        //console.log('receiving', msg['content']['data'], msg);\n",
       "        // Pass the mpl event to the overridden (by mpl) onmessage function.\n",
       "        ws.onmessage(msg['content']['data']);\n",
       "    });\n",
       "    return ws;\n",
       "};\n",
       "\n",
       "mpl.mpl_figure_comm = function (comm, msg) {\n",
       "    // This is the function which gets called when the mpl process\n",
       "    // starts-up an IPython Comm through the \"matplotlib\" channel.\n",
       "\n",
       "    var id = msg.content.data.id;\n",
       "    // Get hold of the div created by the display call when the Comm\n",
       "    // socket was opened in Python.\n",
       "    var element = document.getElementById(id);\n",
       "    var ws_proxy = comm_websocket_adapter(comm);\n",
       "\n",
       "    function ondownload(figure, _format) {\n",
       "        window.open(figure.canvas.toDataURL());\n",
       "    }\n",
       "\n",
       "    var fig = new mpl.figure(id, ws_proxy, ondownload, element);\n",
       "\n",
       "    // Call onopen now - mpl needs it, as it is assuming we've passed it a real\n",
       "    // web socket which is closed, not our websocket->open comm proxy.\n",
       "    ws_proxy.onopen();\n",
       "\n",
       "    fig.parent_element = element;\n",
       "    fig.cell_info = mpl.find_output_cell(\"<div id='\" + id + \"'></div>\");\n",
       "    if (!fig.cell_info) {\n",
       "        console.error('Failed to find cell for figure', id, fig);\n",
       "        return;\n",
       "    }\n",
       "    fig.cell_info[0].output_area.element.one(\n",
       "        'cleared',\n",
       "        { fig: fig },\n",
       "        fig._remove_fig_handler\n",
       "    );\n",
       "};\n",
       "\n",
       "mpl.figure.prototype.handle_close = function (fig, msg) {\n",
       "    var width = fig.canvas.width / fig.ratio;\n",
       "    fig.cell_info[0].output_area.element.off(\n",
       "        'cleared',\n",
       "        fig._remove_fig_handler\n",
       "    );\n",
       "\n",
       "    // Update the output cell to use the data from the current canvas.\n",
       "    fig.push_to_output();\n",
       "    var dataURL = fig.canvas.toDataURL();\n",
       "    // Re-enable the keyboard manager in IPython - without this line, in FF,\n",
       "    // the notebook keyboard shortcuts fail.\n",
       "    IPython.keyboard_manager.enable();\n",
       "    fig.parent_element.innerHTML =\n",
       "        '<img src=\"' + dataURL + '\" width=\"' + width + '\">';\n",
       "    fig.close_ws(fig, msg);\n",
       "};\n",
       "\n",
       "mpl.figure.prototype.close_ws = function (fig, msg) {\n",
       "    fig.send_message('closing', msg);\n",
       "    // fig.ws.close()\n",
       "};\n",
       "\n",
       "mpl.figure.prototype.push_to_output = function (_remove_interactive) {\n",
       "    // Turn the data on the canvas into data in the output cell.\n",
       "    var width = this.canvas.width / this.ratio;\n",
       "    var dataURL = this.canvas.toDataURL();\n",
       "    this.cell_info[1]['text/html'] =\n",
       "        '<img src=\"' + dataURL + '\" width=\"' + width + '\">';\n",
       "};\n",
       "\n",
       "mpl.figure.prototype.updated_canvas_event = function () {\n",
       "    // Tell IPython that the notebook contents must change.\n",
       "    IPython.notebook.set_dirty(true);\n",
       "    this.send_message('ack', {});\n",
       "    var fig = this;\n",
       "    // Wait a second, then push the new image to the DOM so\n",
       "    // that it is saved nicely (might be nice to debounce this).\n",
       "    setTimeout(function () {\n",
       "        fig.push_to_output();\n",
       "    }, 1000);\n",
       "};\n",
       "\n",
       "mpl.figure.prototype._init_toolbar = function () {\n",
       "    var fig = this;\n",
       "\n",
       "    var toolbar = document.createElement('div');\n",
       "    toolbar.classList = 'btn-toolbar';\n",
       "    this.root.appendChild(toolbar);\n",
       "\n",
       "    function on_click_closure(name) {\n",
       "        return function (_event) {\n",
       "            return fig.toolbar_button_onclick(name);\n",
       "        };\n",
       "    }\n",
       "\n",
       "    function on_mouseover_closure(tooltip) {\n",
       "        return function (event) {\n",
       "            if (!event.currentTarget.disabled) {\n",
       "                return fig.toolbar_button_onmouseover(tooltip);\n",
       "            }\n",
       "        };\n",
       "    }\n",
       "\n",
       "    fig.buttons = {};\n",
       "    var buttonGroup = document.createElement('div');\n",
       "    buttonGroup.classList = 'btn-group';\n",
       "    var button;\n",
       "    for (var toolbar_ind in mpl.toolbar_items) {\n",
       "        var name = mpl.toolbar_items[toolbar_ind][0];\n",
       "        var tooltip = mpl.toolbar_items[toolbar_ind][1];\n",
       "        var image = mpl.toolbar_items[toolbar_ind][2];\n",
       "        var method_name = mpl.toolbar_items[toolbar_ind][3];\n",
       "\n",
       "        if (!name) {\n",
       "            /* Instead of a spacer, we start a new button group. */\n",
       "            if (buttonGroup.hasChildNodes()) {\n",
       "                toolbar.appendChild(buttonGroup);\n",
       "            }\n",
       "            buttonGroup = document.createElement('div');\n",
       "            buttonGroup.classList = 'btn-group';\n",
       "            continue;\n",
       "        }\n",
       "\n",
       "        button = fig.buttons[name] = document.createElement('button');\n",
       "        button.classList = 'btn btn-default';\n",
       "        button.href = '#';\n",
       "        button.title = name;\n",
       "        button.innerHTML = '<i class=\"fa ' + image + ' fa-lg\"></i>';\n",
       "        button.addEventListener('click', on_click_closure(method_name));\n",
       "        button.addEventListener('mouseover', on_mouseover_closure(tooltip));\n",
       "        buttonGroup.appendChild(button);\n",
       "    }\n",
       "\n",
       "    if (buttonGroup.hasChildNodes()) {\n",
       "        toolbar.appendChild(buttonGroup);\n",
       "    }\n",
       "\n",
       "    // Add the status bar.\n",
       "    var status_bar = document.createElement('span');\n",
       "    status_bar.classList = 'mpl-message pull-right';\n",
       "    toolbar.appendChild(status_bar);\n",
       "    this.message = status_bar;\n",
       "\n",
       "    // Add the close button to the window.\n",
       "    var buttongrp = document.createElement('div');\n",
       "    buttongrp.classList = 'btn-group inline pull-right';\n",
       "    button = document.createElement('button');\n",
       "    button.classList = 'btn btn-mini btn-primary';\n",
       "    button.href = '#';\n",
       "    button.title = 'Stop Interaction';\n",
       "    button.innerHTML = '<i class=\"fa fa-power-off icon-remove icon-large\"></i>';\n",
       "    button.addEventListener('click', function (_evt) {\n",
       "        fig.handle_close(fig, {});\n",
       "    });\n",
       "    button.addEventListener(\n",
       "        'mouseover',\n",
       "        on_mouseover_closure('Stop Interaction')\n",
       "    );\n",
       "    buttongrp.appendChild(button);\n",
       "    var titlebar = this.root.querySelector('.ui-dialog-titlebar');\n",
       "    titlebar.insertBefore(buttongrp, titlebar.firstChild);\n",
       "};\n",
       "\n",
       "mpl.figure.prototype._remove_fig_handler = function (event) {\n",
       "    var fig = event.data.fig;\n",
       "    fig.close_ws(fig, {});\n",
       "};\n",
       "\n",
       "mpl.figure.prototype._root_extra_style = function (el) {\n",
       "    el.style.boxSizing = 'content-box'; // override notebook setting of border-box.\n",
       "};\n",
       "\n",
       "mpl.figure.prototype._canvas_extra_style = function (el) {\n",
       "    // this is important to make the div 'focusable\n",
       "    el.setAttribute('tabindex', 0);\n",
       "    // reach out to IPython and tell the keyboard manager to turn it's self\n",
       "    // off when our div gets focus\n",
       "\n",
       "    // location in version 3\n",
       "    if (IPython.notebook.keyboard_manager) {\n",
       "        IPython.notebook.keyboard_manager.register_events(el);\n",
       "    } else {\n",
       "        // location in version 2\n",
       "        IPython.keyboard_manager.register_events(el);\n",
       "    }\n",
       "};\n",
       "\n",
       "mpl.figure.prototype._key_event_extra = function (event, _name) {\n",
       "    var manager = IPython.notebook.keyboard_manager;\n",
       "    if (!manager) {\n",
       "        manager = IPython.keyboard_manager;\n",
       "    }\n",
       "\n",
       "    // Check for shift+enter\n",
       "    if (event.shiftKey && event.which === 13) {\n",
       "        this.canvas_div.blur();\n",
       "        // select the cell after this one\n",
       "        var index = IPython.notebook.find_cell_index(this.cell_info[0]);\n",
       "        IPython.notebook.select(index + 1);\n",
       "    }\n",
       "};\n",
       "\n",
       "mpl.figure.prototype.handle_save = function (fig, _msg) {\n",
       "    fig.ondownload(fig, null);\n",
       "};\n",
       "\n",
       "mpl.find_output_cell = function (html_output) {\n",
       "    // Return the cell and output element which can be found *uniquely* in the notebook.\n",
       "    // Note - this is a bit hacky, but it is done because the \"notebook_saving.Notebook\"\n",
       "    // IPython event is triggered only after the cells have been serialised, which for\n",
       "    // our purposes (turning an active figure into a static one), is too late.\n",
       "    var cells = IPython.notebook.get_cells();\n",
       "    var ncells = cells.length;\n",
       "    for (var i = 0; i < ncells; i++) {\n",
       "        var cell = cells[i];\n",
       "        if (cell.cell_type === 'code') {\n",
       "            for (var j = 0; j < cell.output_area.outputs.length; j++) {\n",
       "                var data = cell.output_area.outputs[j];\n",
       "                if (data.data) {\n",
       "                    // IPython >= 3 moved mimebundle to data attribute of output\n",
       "                    data = data.data;\n",
       "                }\n",
       "                if (data['text/html'] === html_output) {\n",
       "                    return [cell, data, j];\n",
       "                }\n",
       "            }\n",
       "        }\n",
       "    }\n",
       "};\n",
       "\n",
       "// Register the function which deals with the matplotlib target/channel.\n",
       "// The kernel may be null if the page has been refreshed.\n",
       "if (IPython.notebook.kernel !== null) {\n",
       "    IPython.notebook.kernel.comm_manager.register_target(\n",
       "        'matplotlib',\n",
       "        mpl.mpl_figure_comm\n",
       "    );\n",
       "}\n"
      ],
      "text/plain": [
       "<IPython.core.display.Javascript object>"
      ]
     },
     "metadata": {},
     "output_type": "display_data"
    },
    {
     "data": {
      "text/html": [
       "<img src=\"data:image/png;base64,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\" width=\"632.7272590132787\">"
      ],
      "text/plain": [
       "<IPython.core.display.HTML object>"
      ]
     },
     "metadata": {},
     "output_type": "display_data"
    }
   ],
   "source": [
    "from matplotlib.font_manager import FontProperties\n",
    "\n",
    "\n",
    "y_hat_v_r = np.abs((T_v@x_hat_v))\n",
    "y_hat_t_r = np.abs((T_t@x_hat_t))\n",
    " \n",
    "y_hat_v = y_hat_v_r / np.linalg.norm(y_hat_v_r)\n",
    "y_hat_t = y_hat_t_r / np.linalg.norm(y_hat_t_r)\n",
    "\n",
    "y_cp_v_r = np.abs(T_v@x_cp_v)\n",
    "y_cp_t_r = np.abs(T_t@x_cp_v)\n",
    "\n",
    "y_cp_po_v_r = np.abs(T_v@x_cp_po_v)\n",
    "y_cp_po_t_r = np.abs(T_t@x_cp_po_v)\n",
    "\n",
    "y_cp_v = y_cp_v_r / np.linalg.norm(y_cp_v_r)\n",
    "y_cp_t = y_cp_t_r / np.linalg.norm(y_cp_t_r)\n",
    "\n",
    "y_cp_po_v = y_cp_po_v_r / np.linalg.norm(y_cp_po_v_r)\n",
    "y_cp_po_t = y_cp_po_t_r / np.linalg.norm(y_cp_po_t_r)\n",
    "\n",
    "\n",
    "x_exp = np.array(\n",
    "    [1 if i == T_dag_v.shape[-1] // 2 else 0 for i in range(T_dag_v.shape[-1])]\n",
    ")\n",
    "y_exp = np.abs(T_v@x_exp)\n",
    "y_exp_n = y_exp/np.linalg.norm(y_exp)\n",
    "\n",
    "abs_lim = (180,220)\n",
    "%matplotlib notebook\n",
    "plt.figure(figsize=(8,4))\n",
    "fontP = FontProperties()\n",
    "fontP.set_size('small')\n",
    "plt.subplot(121)\n",
    "plt.plot(y_hat_t , label = 'y_hat')\n",
    "plt.plot(y_cp_t, '--' , label = 'y_cp')\n",
    "# plt.plot(y_exp_n, '--', label = 'y_exp')\n",
    "# plt.xlim(abs_lim)\n",
    "plt.ylim((-0.05, max(np.max(y_hat_t), np.max(y_cp_t), \\\n",
    "                     np.max(y_hat_v), np.max(y_cp_v))))\n",
    "plt.legend(prop=fontP)\n",
    "plt.title(f\"Train plot for index {ind}\")\n",
    "plt.subplot(122)\n",
    "plt.plot( y_hat_v , label = 'y_hat')\n",
    "plt.plot( y_cp_v , '--' , label = 'y_cp')\n",
    "# plt.plot(y_exp_n, '--', label = 'y_exp')\n",
    "# plt.xlim(abs_lim)\n",
    "plt.ylim((-0.05, max(np.max(y_hat_t), np.max(y_cp_t), \\\n",
    "                     np.max(y_hat_v), np.max(y_cp_v))))\n",
    "plt.title(f\"Validation plot for index {ind}\")\n",
    "plt.suptitle(\"Intensity\")\n",
    "plt.legend(prop=fontP)\n",
    "plt.show()\n",
    "\n",
    "# plt.savefig('figures/'+'intensity_phase_only'+'.png')\n",
    "\n",
    "# 'amp_'+str(PARAMS['amp_reg'])+'std_'+str(PARAMS['std_reg'])+"
   ]
  },
  {
   "cell_type": "code",
   "execution_count": 109,
   "id": "adapted-execution",
   "metadata": {},
   "outputs": [
    {
     "name": "stdout",
     "output_type": "stream",
     "text": [
      "1949.3333425816288 231.4162343806579\n"
     ]
    }
   ],
   "source": [
    "SNR_po = (y_cp_po_v[198:201]**2).mean() / (((y_cp_po_v[202:]**2).mean()+(y_cp_po_v[:197]**2).mean())/2) \n",
    "SNR_amp = (y_cp_v[198:201]**2).mean() / (((y_cp_v[202:]**2).mean()+(y_cp_v[:197]**2).mean())/2) \n",
    "\n",
    "print(SNR_amp, SNR_po)"
   ]
  },
  {
   "cell_type": "markdown",
   "id": "derived-disabled",
   "metadata": {},
   "source": [
    "## Speckle size computation"
   ]
  },
  {
   "cell_type": "code",
   "execution_count": 77,
   "id": "arabic-martial",
   "metadata": {},
   "outputs": [
    {
     "name": "stdout",
     "output_type": "stream",
     "text": [
      "(797,)\n"
     ]
    }
   ],
   "source": [
    "# plane wave constant phase = 0, amplitude of 1\n",
    "x_plane = np.ones((399,1))\n",
    "# x_plane = np.random.random(399) + 1j * np.random.random(399) \n",
    "# speckle pattern \n",
    "# y_ref = np.abs((T_v@x_hat_v))\n",
    "y_ref = np.abs((T_v@x_plane))\n",
    "#autocorrelation of the speckle pattern\n",
    "y_ref_ac = np.correlate(y_ref.squeeze(), y_ref.squeeze(), mode=\"full\")\n",
    "print(y_ref_ac.shape)"
   ]
  },
  {
   "cell_type": "code",
   "execution_count": 78,
   "id": "superior-inside",
   "metadata": {},
   "outputs": [
    {
     "data": {
      "application/javascript": [
       "/* Put everything inside the global mpl namespace */\n",
       "/* global mpl */\n",
       "window.mpl = {};\n",
       "\n",
       "mpl.get_websocket_type = function () {\n",
       "    if (typeof WebSocket !== 'undefined') {\n",
       "        return WebSocket;\n",
       "    } else if (typeof MozWebSocket !== 'undefined') {\n",
       "        return MozWebSocket;\n",
       "    } else {\n",
       "        alert(\n",
       "            'Your browser does not have WebSocket support. ' +\n",
       "                'Please try Chrome, Safari or Firefox ≥ 6. ' +\n",
       "                'Firefox 4 and 5 are also supported but you ' +\n",
       "                'have to enable WebSockets in about:config.'\n",
       "        );\n",
       "    }\n",
       "};\n",
       "\n",
       "mpl.figure = function (figure_id, websocket, ondownload, parent_element) {\n",
       "    this.id = figure_id;\n",
       "\n",
       "    this.ws = websocket;\n",
       "\n",
       "    this.supports_binary = this.ws.binaryType !== undefined;\n",
       "\n",
       "    if (!this.supports_binary) {\n",
       "        var warnings = document.getElementById('mpl-warnings');\n",
       "        if (warnings) {\n",
       "            warnings.style.display = 'block';\n",
       "            warnings.textContent =\n",
       "                'This browser does not support binary websocket messages. ' +\n",
       "                'Performance may be slow.';\n",
       "        }\n",
       "    }\n",
       "\n",
       "    this.imageObj = new Image();\n",
       "\n",
       "    this.context = undefined;\n",
       "    this.message = undefined;\n",
       "    this.canvas = undefined;\n",
       "    this.rubberband_canvas = undefined;\n",
       "    this.rubberband_context = undefined;\n",
       "    this.format_dropdown = undefined;\n",
       "\n",
       "    this.image_mode = 'full';\n",
       "\n",
       "    this.root = document.createElement('div');\n",
       "    this.root.setAttribute('style', 'display: inline-block');\n",
       "    this._root_extra_style(this.root);\n",
       "\n",
       "    parent_element.appendChild(this.root);\n",
       "\n",
       "    this._init_header(this);\n",
       "    this._init_canvas(this);\n",
       "    this._init_toolbar(this);\n",
       "\n",
       "    var fig = this;\n",
       "\n",
       "    this.waiting = false;\n",
       "\n",
       "    this.ws.onopen = function () {\n",
       "        fig.send_message('supports_binary', { value: fig.supports_binary });\n",
       "        fig.send_message('send_image_mode', {});\n",
       "        if (fig.ratio !== 1) {\n",
       "            fig.send_message('set_dpi_ratio', { dpi_ratio: fig.ratio });\n",
       "        }\n",
       "        fig.send_message('refresh', {});\n",
       "    };\n",
       "\n",
       "    this.imageObj.onload = function () {\n",
       "        if (fig.image_mode === 'full') {\n",
       "            // Full images could contain transparency (where diff images\n",
       "            // almost always do), so we need to clear the canvas so that\n",
       "            // there is no ghosting.\n",
       "            fig.context.clearRect(0, 0, fig.canvas.width, fig.canvas.height);\n",
       "        }\n",
       "        fig.context.drawImage(fig.imageObj, 0, 0);\n",
       "    };\n",
       "\n",
       "    this.imageObj.onunload = function () {\n",
       "        fig.ws.close();\n",
       "    };\n",
       "\n",
       "    this.ws.onmessage = this._make_on_message_function(this);\n",
       "\n",
       "    this.ondownload = ondownload;\n",
       "};\n",
       "\n",
       "mpl.figure.prototype._init_header = function () {\n",
       "    var titlebar = document.createElement('div');\n",
       "    titlebar.classList =\n",
       "        'ui-dialog-titlebar ui-widget-header ui-corner-all ui-helper-clearfix';\n",
       "    var titletext = document.createElement('div');\n",
       "    titletext.classList = 'ui-dialog-title';\n",
       "    titletext.setAttribute(\n",
       "        'style',\n",
       "        'width: 100%; text-align: center; padding: 3px;'\n",
       "    );\n",
       "    titlebar.appendChild(titletext);\n",
       "    this.root.appendChild(titlebar);\n",
       "    this.header = titletext;\n",
       "};\n",
       "\n",
       "mpl.figure.prototype._canvas_extra_style = function (_canvas_div) {};\n",
       "\n",
       "mpl.figure.prototype._root_extra_style = function (_canvas_div) {};\n",
       "\n",
       "mpl.figure.prototype._init_canvas = function () {\n",
       "    var fig = this;\n",
       "\n",
       "    var canvas_div = (this.canvas_div = document.createElement('div'));\n",
       "    canvas_div.setAttribute(\n",
       "        'style',\n",
       "        'border: 1px solid #ddd;' +\n",
       "            'box-sizing: content-box;' +\n",
       "            'clear: both;' +\n",
       "            'min-height: 1px;' +\n",
       "            'min-width: 1px;' +\n",
       "            'outline: 0;' +\n",
       "            'overflow: hidden;' +\n",
       "            'position: relative;' +\n",
       "            'resize: both;'\n",
       "    );\n",
       "\n",
       "    function on_keyboard_event_closure(name) {\n",
       "        return function (event) {\n",
       "            return fig.key_event(event, name);\n",
       "        };\n",
       "    }\n",
       "\n",
       "    canvas_div.addEventListener(\n",
       "        'keydown',\n",
       "        on_keyboard_event_closure('key_press')\n",
       "    );\n",
       "    canvas_div.addEventListener(\n",
       "        'keyup',\n",
       "        on_keyboard_event_closure('key_release')\n",
       "    );\n",
       "\n",
       "    this._canvas_extra_style(canvas_div);\n",
       "    this.root.appendChild(canvas_div);\n",
       "\n",
       "    var canvas = (this.canvas = document.createElement('canvas'));\n",
       "    canvas.classList.add('mpl-canvas');\n",
       "    canvas.setAttribute('style', 'box-sizing: content-box;');\n",
       "\n",
       "    this.context = canvas.getContext('2d');\n",
       "\n",
       "    var backingStore =\n",
       "        this.context.backingStorePixelRatio ||\n",
       "        this.context.webkitBackingStorePixelRatio ||\n",
       "        this.context.mozBackingStorePixelRatio ||\n",
       "        this.context.msBackingStorePixelRatio ||\n",
       "        this.context.oBackingStorePixelRatio ||\n",
       "        this.context.backingStorePixelRatio ||\n",
       "        1;\n",
       "\n",
       "    this.ratio = (window.devicePixelRatio || 1) / backingStore;\n",
       "    if (this.ratio !== 1) {\n",
       "        fig.send_message('set_dpi_ratio', { dpi_ratio: this.ratio });\n",
       "    }\n",
       "\n",
       "    var rubberband_canvas = (this.rubberband_canvas = document.createElement(\n",
       "        'canvas'\n",
       "    ));\n",
       "    rubberband_canvas.setAttribute(\n",
       "        'style',\n",
       "        'box-sizing: content-box; position: absolute; left: 0; top: 0; z-index: 1;'\n",
       "    );\n",
       "\n",
       "    var resizeObserver = new ResizeObserver(function (entries) {\n",
       "        var nentries = entries.length;\n",
       "        for (var i = 0; i < nentries; i++) {\n",
       "            var entry = entries[i];\n",
       "            var width, height;\n",
       "            if (entry.contentBoxSize) {\n",
       "                if (entry.contentBoxSize instanceof Array) {\n",
       "                    // Chrome 84 implements new version of spec.\n",
       "                    width = entry.contentBoxSize[0].inlineSize;\n",
       "                    height = entry.contentBoxSize[0].blockSize;\n",
       "                } else {\n",
       "                    // Firefox implements old version of spec.\n",
       "                    width = entry.contentBoxSize.inlineSize;\n",
       "                    height = entry.contentBoxSize.blockSize;\n",
       "                }\n",
       "            } else {\n",
       "                // Chrome <84 implements even older version of spec.\n",
       "                width = entry.contentRect.width;\n",
       "                height = entry.contentRect.height;\n",
       "            }\n",
       "\n",
       "            // Keep the size of the canvas and rubber band canvas in sync with\n",
       "            // the canvas container.\n",
       "            if (entry.devicePixelContentBoxSize) {\n",
       "                // Chrome 84 implements new version of spec.\n",
       "                canvas.setAttribute(\n",
       "                    'width',\n",
       "                    entry.devicePixelContentBoxSize[0].inlineSize\n",
       "                );\n",
       "                canvas.setAttribute(\n",
       "                    'height',\n",
       "                    entry.devicePixelContentBoxSize[0].blockSize\n",
       "                );\n",
       "            } else {\n",
       "                canvas.setAttribute('width', width * fig.ratio);\n",
       "                canvas.setAttribute('height', height * fig.ratio);\n",
       "            }\n",
       "            canvas.setAttribute(\n",
       "                'style',\n",
       "                'width: ' + width + 'px; height: ' + height + 'px;'\n",
       "            );\n",
       "\n",
       "            rubberband_canvas.setAttribute('width', width);\n",
       "            rubberband_canvas.setAttribute('height', height);\n",
       "\n",
       "            // And update the size in Python. We ignore the initial 0/0 size\n",
       "            // that occurs as the element is placed into the DOM, which should\n",
       "            // otherwise not happen due to the minimum size styling.\n",
       "            if (width != 0 && height != 0) {\n",
       "                fig.request_resize(width, height);\n",
       "            }\n",
       "        }\n",
       "    });\n",
       "    resizeObserver.observe(canvas_div);\n",
       "\n",
       "    function on_mouse_event_closure(name) {\n",
       "        return function (event) {\n",
       "            return fig.mouse_event(event, name);\n",
       "        };\n",
       "    }\n",
       "\n",
       "    rubberband_canvas.addEventListener(\n",
       "        'mousedown',\n",
       "        on_mouse_event_closure('button_press')\n",
       "    );\n",
       "    rubberband_canvas.addEventListener(\n",
       "        'mouseup',\n",
       "        on_mouse_event_closure('button_release')\n",
       "    );\n",
       "    // Throttle sequential mouse events to 1 every 20ms.\n",
       "    rubberband_canvas.addEventListener(\n",
       "        'mousemove',\n",
       "        on_mouse_event_closure('motion_notify')\n",
       "    );\n",
       "\n",
       "    rubberband_canvas.addEventListener(\n",
       "        'mouseenter',\n",
       "        on_mouse_event_closure('figure_enter')\n",
       "    );\n",
       "    rubberband_canvas.addEventListener(\n",
       "        'mouseleave',\n",
       "        on_mouse_event_closure('figure_leave')\n",
       "    );\n",
       "\n",
       "    canvas_div.addEventListener('wheel', function (event) {\n",
       "        if (event.deltaY < 0) {\n",
       "            event.step = 1;\n",
       "        } else {\n",
       "            event.step = -1;\n",
       "        }\n",
       "        on_mouse_event_closure('scroll')(event);\n",
       "    });\n",
       "\n",
       "    canvas_div.appendChild(canvas);\n",
       "    canvas_div.appendChild(rubberband_canvas);\n",
       "\n",
       "    this.rubberband_context = rubberband_canvas.getContext('2d');\n",
       "    this.rubberband_context.strokeStyle = '#000000';\n",
       "\n",
       "    this._resize_canvas = function (width, height, forward) {\n",
       "        if (forward) {\n",
       "            canvas_div.style.width = width + 'px';\n",
       "            canvas_div.style.height = height + 'px';\n",
       "        }\n",
       "    };\n",
       "\n",
       "    // Disable right mouse context menu.\n",
       "    this.rubberband_canvas.addEventListener('contextmenu', function (_e) {\n",
       "        event.preventDefault();\n",
       "        return false;\n",
       "    });\n",
       "\n",
       "    function set_focus() {\n",
       "        canvas.focus();\n",
       "        canvas_div.focus();\n",
       "    }\n",
       "\n",
       "    window.setTimeout(set_focus, 100);\n",
       "};\n",
       "\n",
       "mpl.figure.prototype._init_toolbar = function () {\n",
       "    var fig = this;\n",
       "\n",
       "    var toolbar = document.createElement('div');\n",
       "    toolbar.classList = 'mpl-toolbar';\n",
       "    this.root.appendChild(toolbar);\n",
       "\n",
       "    function on_click_closure(name) {\n",
       "        return function (_event) {\n",
       "            return fig.toolbar_button_onclick(name);\n",
       "        };\n",
       "    }\n",
       "\n",
       "    function on_mouseover_closure(tooltip) {\n",
       "        return function (event) {\n",
       "            if (!event.currentTarget.disabled) {\n",
       "                return fig.toolbar_button_onmouseover(tooltip);\n",
       "            }\n",
       "        };\n",
       "    }\n",
       "\n",
       "    fig.buttons = {};\n",
       "    var buttonGroup = document.createElement('div');\n",
       "    buttonGroup.classList = 'mpl-button-group';\n",
       "    for (var toolbar_ind in mpl.toolbar_items) {\n",
       "        var name = mpl.toolbar_items[toolbar_ind][0];\n",
       "        var tooltip = mpl.toolbar_items[toolbar_ind][1];\n",
       "        var image = mpl.toolbar_items[toolbar_ind][2];\n",
       "        var method_name = mpl.toolbar_items[toolbar_ind][3];\n",
       "\n",
       "        if (!name) {\n",
       "            /* Instead of a spacer, we start a new button group. */\n",
       "            if (buttonGroup.hasChildNodes()) {\n",
       "                toolbar.appendChild(buttonGroup);\n",
       "            }\n",
       "            buttonGroup = document.createElement('div');\n",
       "            buttonGroup.classList = 'mpl-button-group';\n",
       "            continue;\n",
       "        }\n",
       "\n",
       "        var button = (fig.buttons[name] = document.createElement('button'));\n",
       "        button.classList = 'mpl-widget';\n",
       "        button.setAttribute('role', 'button');\n",
       "        button.setAttribute('aria-disabled', 'false');\n",
       "        button.addEventListener('click', on_click_closure(method_name));\n",
       "        button.addEventListener('mouseover', on_mouseover_closure(tooltip));\n",
       "\n",
       "        var icon_img = document.createElement('img');\n",
       "        icon_img.src = '_images/' + image + '.png';\n",
       "        icon_img.srcset = '_images/' + image + '_large.png 2x';\n",
       "        icon_img.alt = tooltip;\n",
       "        button.appendChild(icon_img);\n",
       "\n",
       "        buttonGroup.appendChild(button);\n",
       "    }\n",
       "\n",
       "    if (buttonGroup.hasChildNodes()) {\n",
       "        toolbar.appendChild(buttonGroup);\n",
       "    }\n",
       "\n",
       "    var fmt_picker = document.createElement('select');\n",
       "    fmt_picker.classList = 'mpl-widget';\n",
       "    toolbar.appendChild(fmt_picker);\n",
       "    this.format_dropdown = fmt_picker;\n",
       "\n",
       "    for (var ind in mpl.extensions) {\n",
       "        var fmt = mpl.extensions[ind];\n",
       "        var option = document.createElement('option');\n",
       "        option.selected = fmt === mpl.default_extension;\n",
       "        option.innerHTML = fmt;\n",
       "        fmt_picker.appendChild(option);\n",
       "    }\n",
       "\n",
       "    var status_bar = document.createElement('span');\n",
       "    status_bar.classList = 'mpl-message';\n",
       "    toolbar.appendChild(status_bar);\n",
       "    this.message = status_bar;\n",
       "};\n",
       "\n",
       "mpl.figure.prototype.request_resize = function (x_pixels, y_pixels) {\n",
       "    // Request matplotlib to resize the figure. Matplotlib will then trigger a resize in the client,\n",
       "    // which will in turn request a refresh of the image.\n",
       "    this.send_message('resize', { width: x_pixels, height: y_pixels });\n",
       "};\n",
       "\n",
       "mpl.figure.prototype.send_message = function (type, properties) {\n",
       "    properties['type'] = type;\n",
       "    properties['figure_id'] = this.id;\n",
       "    this.ws.send(JSON.stringify(properties));\n",
       "};\n",
       "\n",
       "mpl.figure.prototype.send_draw_message = function () {\n",
       "    if (!this.waiting) {\n",
       "        this.waiting = true;\n",
       "        this.ws.send(JSON.stringify({ type: 'draw', figure_id: this.id }));\n",
       "    }\n",
       "};\n",
       "\n",
       "mpl.figure.prototype.handle_save = function (fig, _msg) {\n",
       "    var format_dropdown = fig.format_dropdown;\n",
       "    var format = format_dropdown.options[format_dropdown.selectedIndex].value;\n",
       "    fig.ondownload(fig, format);\n",
       "};\n",
       "\n",
       "mpl.figure.prototype.handle_resize = function (fig, msg) {\n",
       "    var size = msg['size'];\n",
       "    if (size[0] !== fig.canvas.width || size[1] !== fig.canvas.height) {\n",
       "        fig._resize_canvas(size[0], size[1], msg['forward']);\n",
       "        fig.send_message('refresh', {});\n",
       "    }\n",
       "};\n",
       "\n",
       "mpl.figure.prototype.handle_rubberband = function (fig, msg) {\n",
       "    var x0 = msg['x0'] / fig.ratio;\n",
       "    var y0 = (fig.canvas.height - msg['y0']) / fig.ratio;\n",
       "    var x1 = msg['x1'] / fig.ratio;\n",
       "    var y1 = (fig.canvas.height - msg['y1']) / fig.ratio;\n",
       "    x0 = Math.floor(x0) + 0.5;\n",
       "    y0 = Math.floor(y0) + 0.5;\n",
       "    x1 = Math.floor(x1) + 0.5;\n",
       "    y1 = Math.floor(y1) + 0.5;\n",
       "    var min_x = Math.min(x0, x1);\n",
       "    var min_y = Math.min(y0, y1);\n",
       "    var width = Math.abs(x1 - x0);\n",
       "    var height = Math.abs(y1 - y0);\n",
       "\n",
       "    fig.rubberband_context.clearRect(\n",
       "        0,\n",
       "        0,\n",
       "        fig.canvas.width / fig.ratio,\n",
       "        fig.canvas.height / fig.ratio\n",
       "    );\n",
       "\n",
       "    fig.rubberband_context.strokeRect(min_x, min_y, width, height);\n",
       "};\n",
       "\n",
       "mpl.figure.prototype.handle_figure_label = function (fig, msg) {\n",
       "    // Updates the figure title.\n",
       "    fig.header.textContent = msg['label'];\n",
       "};\n",
       "\n",
       "mpl.figure.prototype.handle_cursor = function (fig, msg) {\n",
       "    var cursor = msg['cursor'];\n",
       "    switch (cursor) {\n",
       "        case 0:\n",
       "            cursor = 'pointer';\n",
       "            break;\n",
       "        case 1:\n",
       "            cursor = 'default';\n",
       "            break;\n",
       "        case 2:\n",
       "            cursor = 'crosshair';\n",
       "            break;\n",
       "        case 3:\n",
       "            cursor = 'move';\n",
       "            break;\n",
       "    }\n",
       "    fig.rubberband_canvas.style.cursor = cursor;\n",
       "};\n",
       "\n",
       "mpl.figure.prototype.handle_message = function (fig, msg) {\n",
       "    fig.message.textContent = msg['message'];\n",
       "};\n",
       "\n",
       "mpl.figure.prototype.handle_draw = function (fig, _msg) {\n",
       "    // Request the server to send over a new figure.\n",
       "    fig.send_draw_message();\n",
       "};\n",
       "\n",
       "mpl.figure.prototype.handle_image_mode = function (fig, msg) {\n",
       "    fig.image_mode = msg['mode'];\n",
       "};\n",
       "\n",
       "mpl.figure.prototype.handle_history_buttons = function (fig, msg) {\n",
       "    for (var key in msg) {\n",
       "        if (!(key in fig.buttons)) {\n",
       "            continue;\n",
       "        }\n",
       "        fig.buttons[key].disabled = !msg[key];\n",
       "        fig.buttons[key].setAttribute('aria-disabled', !msg[key]);\n",
       "    }\n",
       "};\n",
       "\n",
       "mpl.figure.prototype.handle_navigate_mode = function (fig, msg) {\n",
       "    if (msg['mode'] === 'PAN') {\n",
       "        fig.buttons['Pan'].classList.add('active');\n",
       "        fig.buttons['Zoom'].classList.remove('active');\n",
       "    } else if (msg['mode'] === 'ZOOM') {\n",
       "        fig.buttons['Pan'].classList.remove('active');\n",
       "        fig.buttons['Zoom'].classList.add('active');\n",
       "    } else {\n",
       "        fig.buttons['Pan'].classList.remove('active');\n",
       "        fig.buttons['Zoom'].classList.remove('active');\n",
       "    }\n",
       "};\n",
       "\n",
       "mpl.figure.prototype.updated_canvas_event = function () {\n",
       "    // Called whenever the canvas gets updated.\n",
       "    this.send_message('ack', {});\n",
       "};\n",
       "\n",
       "// A function to construct a web socket function for onmessage handling.\n",
       "// Called in the figure constructor.\n",
       "mpl.figure.prototype._make_on_message_function = function (fig) {\n",
       "    return function socket_on_message(evt) {\n",
       "        if (evt.data instanceof Blob) {\n",
       "            /* FIXME: We get \"Resource interpreted as Image but\n",
       "             * transferred with MIME type text/plain:\" errors on\n",
       "             * Chrome.  But how to set the MIME type?  It doesn't seem\n",
       "             * to be part of the websocket stream */\n",
       "            evt.data.type = 'image/png';\n",
       "\n",
       "            /* Free the memory for the previous frames */\n",
       "            if (fig.imageObj.src) {\n",
       "                (window.URL || window.webkitURL).revokeObjectURL(\n",
       "                    fig.imageObj.src\n",
       "                );\n",
       "            }\n",
       "\n",
       "            fig.imageObj.src = (window.URL || window.webkitURL).createObjectURL(\n",
       "                evt.data\n",
       "            );\n",
       "            fig.updated_canvas_event();\n",
       "            fig.waiting = false;\n",
       "            return;\n",
       "        } else if (\n",
       "            typeof evt.data === 'string' &&\n",
       "            evt.data.slice(0, 21) === 'data:image/png;base64'\n",
       "        ) {\n",
       "            fig.imageObj.src = evt.data;\n",
       "            fig.updated_canvas_event();\n",
       "            fig.waiting = false;\n",
       "            return;\n",
       "        }\n",
       "\n",
       "        var msg = JSON.parse(evt.data);\n",
       "        var msg_type = msg['type'];\n",
       "\n",
       "        // Call the  \"handle_{type}\" callback, which takes\n",
       "        // the figure and JSON message as its only arguments.\n",
       "        try {\n",
       "            var callback = fig['handle_' + msg_type];\n",
       "        } catch (e) {\n",
       "            console.log(\n",
       "                \"No handler for the '\" + msg_type + \"' message type: \",\n",
       "                msg\n",
       "            );\n",
       "            return;\n",
       "        }\n",
       "\n",
       "        if (callback) {\n",
       "            try {\n",
       "                // console.log(\"Handling '\" + msg_type + \"' message: \", msg);\n",
       "                callback(fig, msg);\n",
       "            } catch (e) {\n",
       "                console.log(\n",
       "                    \"Exception inside the 'handler_\" + msg_type + \"' callback:\",\n",
       "                    e,\n",
       "                    e.stack,\n",
       "                    msg\n",
       "                );\n",
       "            }\n",
       "        }\n",
       "    };\n",
       "};\n",
       "\n",
       "// from http://stackoverflow.com/questions/1114465/getting-mouse-location-in-canvas\n",
       "mpl.findpos = function (e) {\n",
       "    //this section is from http://www.quirksmode.org/js/events_properties.html\n",
       "    var targ;\n",
       "    if (!e) {\n",
       "        e = window.event;\n",
       "    }\n",
       "    if (e.target) {\n",
       "        targ = e.target;\n",
       "    } else if (e.srcElement) {\n",
       "        targ = e.srcElement;\n",
       "    }\n",
       "    if (targ.nodeType === 3) {\n",
       "        // defeat Safari bug\n",
       "        targ = targ.parentNode;\n",
       "    }\n",
       "\n",
       "    // pageX,Y are the mouse positions relative to the document\n",
       "    var boundingRect = targ.getBoundingClientRect();\n",
       "    var x = e.pageX - (boundingRect.left + document.body.scrollLeft);\n",
       "    var y = e.pageY - (boundingRect.top + document.body.scrollTop);\n",
       "\n",
       "    return { x: x, y: y };\n",
       "};\n",
       "\n",
       "/*\n",
       " * return a copy of an object with only non-object keys\n",
       " * we need this to avoid circular references\n",
       " * http://stackoverflow.com/a/24161582/3208463\n",
       " */\n",
       "function simpleKeys(original) {\n",
       "    return Object.keys(original).reduce(function (obj, key) {\n",
       "        if (typeof original[key] !== 'object') {\n",
       "            obj[key] = original[key];\n",
       "        }\n",
       "        return obj;\n",
       "    }, {});\n",
       "}\n",
       "\n",
       "mpl.figure.prototype.mouse_event = function (event, name) {\n",
       "    var canvas_pos = mpl.findpos(event);\n",
       "\n",
       "    if (name === 'button_press') {\n",
       "        this.canvas.focus();\n",
       "        this.canvas_div.focus();\n",
       "    }\n",
       "\n",
       "    var x = canvas_pos.x * this.ratio;\n",
       "    var y = canvas_pos.y * this.ratio;\n",
       "\n",
       "    this.send_message(name, {\n",
       "        x: x,\n",
       "        y: y,\n",
       "        button: event.button,\n",
       "        step: event.step,\n",
       "        guiEvent: simpleKeys(event),\n",
       "    });\n",
       "\n",
       "    /* This prevents the web browser from automatically changing to\n",
       "     * the text insertion cursor when the button is pressed.  We want\n",
       "     * to control all of the cursor setting manually through the\n",
       "     * 'cursor' event from matplotlib */\n",
       "    event.preventDefault();\n",
       "    return false;\n",
       "};\n",
       "\n",
       "mpl.figure.prototype._key_event_extra = function (_event, _name) {\n",
       "    // Handle any extra behaviour associated with a key event\n",
       "};\n",
       "\n",
       "mpl.figure.prototype.key_event = function (event, name) {\n",
       "    // Prevent repeat events\n",
       "    if (name === 'key_press') {\n",
       "        if (event.which === this._key) {\n",
       "            return;\n",
       "        } else {\n",
       "            this._key = event.which;\n",
       "        }\n",
       "    }\n",
       "    if (name === 'key_release') {\n",
       "        this._key = null;\n",
       "    }\n",
       "\n",
       "    var value = '';\n",
       "    if (event.ctrlKey && event.which !== 17) {\n",
       "        value += 'ctrl+';\n",
       "    }\n",
       "    if (event.altKey && event.which !== 18) {\n",
       "        value += 'alt+';\n",
       "    }\n",
       "    if (event.shiftKey && event.which !== 16) {\n",
       "        value += 'shift+';\n",
       "    }\n",
       "\n",
       "    value += 'k';\n",
       "    value += event.which.toString();\n",
       "\n",
       "    this._key_event_extra(event, name);\n",
       "\n",
       "    this.send_message(name, { key: value, guiEvent: simpleKeys(event) });\n",
       "    return false;\n",
       "};\n",
       "\n",
       "mpl.figure.prototype.toolbar_button_onclick = function (name) {\n",
       "    if (name === 'download') {\n",
       "        this.handle_save(this, null);\n",
       "    } else {\n",
       "        this.send_message('toolbar_button', { name: name });\n",
       "    }\n",
       "};\n",
       "\n",
       "mpl.figure.prototype.toolbar_button_onmouseover = function (tooltip) {\n",
       "    this.message.textContent = tooltip;\n",
       "};\n",
       "mpl.toolbar_items = [[\"Home\", \"Reset original view\", \"fa fa-home icon-home\", \"home\"], [\"Back\", \"Back to previous view\", \"fa fa-arrow-left icon-arrow-left\", \"back\"], [\"Forward\", \"Forward to next view\", \"fa fa-arrow-right icon-arrow-right\", \"forward\"], [\"\", \"\", \"\", \"\"], [\"Pan\", \"Left button pans, Right button zooms\\nx/y fixes axis, CTRL fixes aspect\", \"fa fa-arrows icon-move\", \"pan\"], [\"Zoom\", \"Zoom to rectangle\\nx/y fixes axis, CTRL fixes aspect\", \"fa fa-square-o icon-check-empty\", \"zoom\"], [\"\", \"\", \"\", \"\"], [\"Download\", \"Download plot\", \"fa fa-floppy-o icon-save\", \"download\"]];\n",
       "\n",
       "mpl.extensions = [\"eps\", \"jpeg\", \"pdf\", \"png\", \"ps\", \"raw\", \"svg\", \"tif\"];\n",
       "\n",
       "mpl.default_extension = \"png\";/* global mpl */\n",
       "\n",
       "var comm_websocket_adapter = function (comm) {\n",
       "    // Create a \"websocket\"-like object which calls the given IPython comm\n",
       "    // object with the appropriate methods. Currently this is a non binary\n",
       "    // socket, so there is still some room for performance tuning.\n",
       "    var ws = {};\n",
       "\n",
       "    ws.close = function () {\n",
       "        comm.close();\n",
       "    };\n",
       "    ws.send = function (m) {\n",
       "        //console.log('sending', m);\n",
       "        comm.send(m);\n",
       "    };\n",
       "    // Register the callback with on_msg.\n",
       "    comm.on_msg(function (msg) {\n",
       "        //console.log('receiving', msg['content']['data'], msg);\n",
       "        // Pass the mpl event to the overridden (by mpl) onmessage function.\n",
       "        ws.onmessage(msg['content']['data']);\n",
       "    });\n",
       "    return ws;\n",
       "};\n",
       "\n",
       "mpl.mpl_figure_comm = function (comm, msg) {\n",
       "    // This is the function which gets called when the mpl process\n",
       "    // starts-up an IPython Comm through the \"matplotlib\" channel.\n",
       "\n",
       "    var id = msg.content.data.id;\n",
       "    // Get hold of the div created by the display call when the Comm\n",
       "    // socket was opened in Python.\n",
       "    var element = document.getElementById(id);\n",
       "    var ws_proxy = comm_websocket_adapter(comm);\n",
       "\n",
       "    function ondownload(figure, _format) {\n",
       "        window.open(figure.canvas.toDataURL());\n",
       "    }\n",
       "\n",
       "    var fig = new mpl.figure(id, ws_proxy, ondownload, element);\n",
       "\n",
       "    // Call onopen now - mpl needs it, as it is assuming we've passed it a real\n",
       "    // web socket which is closed, not our websocket->open comm proxy.\n",
       "    ws_proxy.onopen();\n",
       "\n",
       "    fig.parent_element = element;\n",
       "    fig.cell_info = mpl.find_output_cell(\"<div id='\" + id + \"'></div>\");\n",
       "    if (!fig.cell_info) {\n",
       "        console.error('Failed to find cell for figure', id, fig);\n",
       "        return;\n",
       "    }\n",
       "    fig.cell_info[0].output_area.element.one(\n",
       "        'cleared',\n",
       "        { fig: fig },\n",
       "        fig._remove_fig_handler\n",
       "    );\n",
       "};\n",
       "\n",
       "mpl.figure.prototype.handle_close = function (fig, msg) {\n",
       "    var width = fig.canvas.width / fig.ratio;\n",
       "    fig.cell_info[0].output_area.element.off(\n",
       "        'cleared',\n",
       "        fig._remove_fig_handler\n",
       "    );\n",
       "\n",
       "    // Update the output cell to use the data from the current canvas.\n",
       "    fig.push_to_output();\n",
       "    var dataURL = fig.canvas.toDataURL();\n",
       "    // Re-enable the keyboard manager in IPython - without this line, in FF,\n",
       "    // the notebook keyboard shortcuts fail.\n",
       "    IPython.keyboard_manager.enable();\n",
       "    fig.parent_element.innerHTML =\n",
       "        '<img src=\"' + dataURL + '\" width=\"' + width + '\">';\n",
       "    fig.close_ws(fig, msg);\n",
       "};\n",
       "\n",
       "mpl.figure.prototype.close_ws = function (fig, msg) {\n",
       "    fig.send_message('closing', msg);\n",
       "    // fig.ws.close()\n",
       "};\n",
       "\n",
       "mpl.figure.prototype.push_to_output = function (_remove_interactive) {\n",
       "    // Turn the data on the canvas into data in the output cell.\n",
       "    var width = this.canvas.width / this.ratio;\n",
       "    var dataURL = this.canvas.toDataURL();\n",
       "    this.cell_info[1]['text/html'] =\n",
       "        '<img src=\"' + dataURL + '\" width=\"' + width + '\">';\n",
       "};\n",
       "\n",
       "mpl.figure.prototype.updated_canvas_event = function () {\n",
       "    // Tell IPython that the notebook contents must change.\n",
       "    IPython.notebook.set_dirty(true);\n",
       "    this.send_message('ack', {});\n",
       "    var fig = this;\n",
       "    // Wait a second, then push the new image to the DOM so\n",
       "    // that it is saved nicely (might be nice to debounce this).\n",
       "    setTimeout(function () {\n",
       "        fig.push_to_output();\n",
       "    }, 1000);\n",
       "};\n",
       "\n",
       "mpl.figure.prototype._init_toolbar = function () {\n",
       "    var fig = this;\n",
       "\n",
       "    var toolbar = document.createElement('div');\n",
       "    toolbar.classList = 'btn-toolbar';\n",
       "    this.root.appendChild(toolbar);\n",
       "\n",
       "    function on_click_closure(name) {\n",
       "        return function (_event) {\n",
       "            return fig.toolbar_button_onclick(name);\n",
       "        };\n",
       "    }\n",
       "\n",
       "    function on_mouseover_closure(tooltip) {\n",
       "        return function (event) {\n",
       "            if (!event.currentTarget.disabled) {\n",
       "                return fig.toolbar_button_onmouseover(tooltip);\n",
       "            }\n",
       "        };\n",
       "    }\n",
       "\n",
       "    fig.buttons = {};\n",
       "    var buttonGroup = document.createElement('div');\n",
       "    buttonGroup.classList = 'btn-group';\n",
       "    var button;\n",
       "    for (var toolbar_ind in mpl.toolbar_items) {\n",
       "        var name = mpl.toolbar_items[toolbar_ind][0];\n",
       "        var tooltip = mpl.toolbar_items[toolbar_ind][1];\n",
       "        var image = mpl.toolbar_items[toolbar_ind][2];\n",
       "        var method_name = mpl.toolbar_items[toolbar_ind][3];\n",
       "\n",
       "        if (!name) {\n",
       "            /* Instead of a spacer, we start a new button group. */\n",
       "            if (buttonGroup.hasChildNodes()) {\n",
       "                toolbar.appendChild(buttonGroup);\n",
       "            }\n",
       "            buttonGroup = document.createElement('div');\n",
       "            buttonGroup.classList = 'btn-group';\n",
       "            continue;\n",
       "        }\n",
       "\n",
       "        button = fig.buttons[name] = document.createElement('button');\n",
       "        button.classList = 'btn btn-default';\n",
       "        button.href = '#';\n",
       "        button.title = name;\n",
       "        button.innerHTML = '<i class=\"fa ' + image + ' fa-lg\"></i>';\n",
       "        button.addEventListener('click', on_click_closure(method_name));\n",
       "        button.addEventListener('mouseover', on_mouseover_closure(tooltip));\n",
       "        buttonGroup.appendChild(button);\n",
       "    }\n",
       "\n",
       "    if (buttonGroup.hasChildNodes()) {\n",
       "        toolbar.appendChild(buttonGroup);\n",
       "    }\n",
       "\n",
       "    // Add the status bar.\n",
       "    var status_bar = document.createElement('span');\n",
       "    status_bar.classList = 'mpl-message pull-right';\n",
       "    toolbar.appendChild(status_bar);\n",
       "    this.message = status_bar;\n",
       "\n",
       "    // Add the close button to the window.\n",
       "    var buttongrp = document.createElement('div');\n",
       "    buttongrp.classList = 'btn-group inline pull-right';\n",
       "    button = document.createElement('button');\n",
       "    button.classList = 'btn btn-mini btn-primary';\n",
       "    button.href = '#';\n",
       "    button.title = 'Stop Interaction';\n",
       "    button.innerHTML = '<i class=\"fa fa-power-off icon-remove icon-large\"></i>';\n",
       "    button.addEventListener('click', function (_evt) {\n",
       "        fig.handle_close(fig, {});\n",
       "    });\n",
       "    button.addEventListener(\n",
       "        'mouseover',\n",
       "        on_mouseover_closure('Stop Interaction')\n",
       "    );\n",
       "    buttongrp.appendChild(button);\n",
       "    var titlebar = this.root.querySelector('.ui-dialog-titlebar');\n",
       "    titlebar.insertBefore(buttongrp, titlebar.firstChild);\n",
       "};\n",
       "\n",
       "mpl.figure.prototype._remove_fig_handler = function (event) {\n",
       "    var fig = event.data.fig;\n",
       "    fig.close_ws(fig, {});\n",
       "};\n",
       "\n",
       "mpl.figure.prototype._root_extra_style = function (el) {\n",
       "    el.style.boxSizing = 'content-box'; // override notebook setting of border-box.\n",
       "};\n",
       "\n",
       "mpl.figure.prototype._canvas_extra_style = function (el) {\n",
       "    // this is important to make the div 'focusable\n",
       "    el.setAttribute('tabindex', 0);\n",
       "    // reach out to IPython and tell the keyboard manager to turn it's self\n",
       "    // off when our div gets focus\n",
       "\n",
       "    // location in version 3\n",
       "    if (IPython.notebook.keyboard_manager) {\n",
       "        IPython.notebook.keyboard_manager.register_events(el);\n",
       "    } else {\n",
       "        // location in version 2\n",
       "        IPython.keyboard_manager.register_events(el);\n",
       "    }\n",
       "};\n",
       "\n",
       "mpl.figure.prototype._key_event_extra = function (event, _name) {\n",
       "    var manager = IPython.notebook.keyboard_manager;\n",
       "    if (!manager) {\n",
       "        manager = IPython.keyboard_manager;\n",
       "    }\n",
       "\n",
       "    // Check for shift+enter\n",
       "    if (event.shiftKey && event.which === 13) {\n",
       "        this.canvas_div.blur();\n",
       "        // select the cell after this one\n",
       "        var index = IPython.notebook.find_cell_index(this.cell_info[0]);\n",
       "        IPython.notebook.select(index + 1);\n",
       "    }\n",
       "};\n",
       "\n",
       "mpl.figure.prototype.handle_save = function (fig, _msg) {\n",
       "    fig.ondownload(fig, null);\n",
       "};\n",
       "\n",
       "mpl.find_output_cell = function (html_output) {\n",
       "    // Return the cell and output element which can be found *uniquely* in the notebook.\n",
       "    // Note - this is a bit hacky, but it is done because the \"notebook_saving.Notebook\"\n",
       "    // IPython event is triggered only after the cells have been serialised, which for\n",
       "    // our purposes (turning an active figure into a static one), is too late.\n",
       "    var cells = IPython.notebook.get_cells();\n",
       "    var ncells = cells.length;\n",
       "    for (var i = 0; i < ncells; i++) {\n",
       "        var cell = cells[i];\n",
       "        if (cell.cell_type === 'code') {\n",
       "            for (var j = 0; j < cell.output_area.outputs.length; j++) {\n",
       "                var data = cell.output_area.outputs[j];\n",
       "                if (data.data) {\n",
       "                    // IPython >= 3 moved mimebundle to data attribute of output\n",
       "                    data = data.data;\n",
       "                }\n",
       "                if (data['text/html'] === html_output) {\n",
       "                    return [cell, data, j];\n",
       "                }\n",
       "            }\n",
       "        }\n",
       "    }\n",
       "};\n",
       "\n",
       "// Register the function which deals with the matplotlib target/channel.\n",
       "// The kernel may be null if the page has been refreshed.\n",
       "if (IPython.notebook.kernel !== null) {\n",
       "    IPython.notebook.kernel.comm_manager.register_target(\n",
       "        'matplotlib',\n",
       "        mpl.mpl_figure_comm\n",
       "    );\n",
       "}\n"
      ],
      "text/plain": [
       "<IPython.core.display.Javascript object>"
      ]
     },
     "metadata": {},
     "output_type": "display_data"
    },
    {
     "data": {
      "text/html": [
       "<img src=\"data:image/png;base64,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\" width=\"719.9999843944206\">"
      ],
      "text/plain": [
       "<IPython.core.display.HTML object>"
      ]
     },
     "metadata": {},
     "output_type": "display_data"
    },
    {
     "data": {
      "text/plain": [
       "Text(0.5, 1.0, 'Train plot for index 0')"
      ]
     },
     "execution_count": 78,
     "metadata": {},
     "output_type": "execute_result"
    }
   ],
   "source": [
    "abs_lim = (380,420)\n",
    "\n",
    "%matplotlib notebook\n",
    "plt.figure(figsize=(10,5))\n",
    "fontP = FontProperties()\n",
    "fontP.set_size('small')\n",
    "plt.plot(y_ref_ac , label = 'y_ref')\n",
    "plt.legend(prop=fontP)\n",
    "# plt.xlim(abs_lim)\n",
    "plt.title(f\"Train plot for index {ind}\")"
   ]
  },
  {
   "cell_type": "markdown",
   "id": "standing-sherman",
   "metadata": {},
   "source": [
    "## Computation of the reference intensity for enhancement coef"
   ]
  },
  {
   "cell_type": "code",
   "execution_count": 79,
   "id": "requested-recognition",
   "metadata": {},
   "outputs": [],
   "source": [
    "I_ref_ar = []\n",
    "ind = 9\n",
    "for ind in range(10):\n",
    "    R_space, T_space = rt_val.__getitem__(ind)  \n",
    "    t = T_space.numpy().squeeze()\n",
    "    y = np.abs((t@x_plane))\n",
    "    I_ref_ar.append((y**2).mean())"
   ]
  },
  {
   "cell_type": "code",
   "execution_count": 80,
   "id": "collective-healthcare",
   "metadata": {
    "scrolled": true
   },
   "outputs": [
    {
     "name": "stdout",
     "output_type": "stream",
     "text": [
      "0.036025670871840276\n"
     ]
    }
   ],
   "source": [
    "print(sum(I_ref_ar)/len(I_ref_ar))\n"
   ]
  },
  {
   "cell_type": "markdown",
   "id": "focal-bouquet",
   "metadata": {},
   "source": [
    "## Amplitude + phase control enhancement coef"
   ]
  },
  {
   "cell_type": "code",
   "execution_count": 81,
   "id": "graphic-retro",
   "metadata": {},
   "outputs": [
    {
     "name": "stdout",
     "output_type": "stream",
     "text": [
      "210.57459186895585\n"
     ]
    }
   ],
   "source": [
    "I_ref = sum(I_ref_ar) / len(I_ref_ar)\n",
    "I_in_opt = (np.abs(x_hat_v) ** 2).mean()\n",
    "I_ref_in = (np.abs(x_plane) ** 2).mean()\n",
    "I_tar = (y_hat_v_r[199]**2).mean()\n",
    "eta = (I_tar * I_ref_in) / (I_ref * I_in_opt)\n",
    "print(eta)"
   ]
  },
  {
   "cell_type": "code",
   "execution_count": 44,
   "id": "efficient-anaheim",
   "metadata": {},
   "outputs": [
    {
     "data": {
      "text/plain": [
       "{'batch_size': 16,\n",
       " 'learning_rate': 0.001,\n",
       " 'max_epochs': 120,\n",
       " 'mat_size': 399,\n",
       " 'amp_reg': 0.001,\n",
       " 'std_reg': 5}"
      ]
     },
     "execution_count": 44,
     "metadata": {},
     "output_type": "execute_result"
    }
   ],
   "source": [
    "PARAMS"
   ]
  },
  {
   "cell_type": "code",
   "execution_count": 82,
   "id": "indian-junction",
   "metadata": {},
   "outputs": [
    {
     "data": {
      "text/plain": [
       "965.7379414013277"
      ]
     },
     "execution_count": 82,
     "metadata": {},
     "output_type": "execute_result"
    }
   ],
   "source": [
    "#SNR\n",
    "(y_hat_v_r[198:201]**2).mean() / (((y_hat_v_r[202:]**2).mean()+(y_hat_v_r[:197]**2).mean())/2) "
   ]
  },
  {
   "cell_type": "code",
   "execution_count": 50,
   "id": "toxic-frost",
   "metadata": {},
   "outputs": [
    {
     "data": {
      "text/plain": [
       "(5,)"
      ]
     },
     "execution_count": 50,
     "metadata": {},
     "output_type": "execute_result"
    }
   ],
   "source": [
    "y_hat_v_r[197:202].shape"
   ]
  },
  {
   "cell_type": "markdown",
   "id": "characteristic-melissa",
   "metadata": {},
   "source": [
    "### Comparison between SLM and detector planes close and far to the sample\n",
    "<br>\n",
    "\n",
    "#### SLM and camera close to the sample\n",
    "\n",
    "<figure class=\"image\">\n",
    "  <img src='https://www.dropbox.com/s/vggvgltzotkp2iz/close1.png?dl=0&raw=1' alt=\"{{ include.description }}\">\n",
    "</figure>\n",
    "\n",
    "<br>\n",
    "\n",
    "#### SLM and camera far from to the sample \n",
    "\n",
    "<br>\n",
    "\n",
    "\n",
    "<figure class=\"image\">\n",
    "  <img src='https://www.dropbox.com/s/ufdkttp87uu6uco/farr.png?dl=0&raw=1' alt=\"{{ include.description }}\">\n",
    "</figure>\n"
   ]
  },
  {
   "cell_type": "markdown",
   "id": "hindu-identification",
   "metadata": {},
   "source": [
    "### Amplitude coefficient and SNR (ballistic regime, sample far from SLM and CCD) \n",
    "\n"
   ]
  },
  {
   "cell_type": "markdown",
   "id": "increased-discrimination",
   "metadata": {},
   "source": [
    "* **Situation 1 :** phase and amplitude modulation\n",
    "Situation 1 is described above. We expect to obtain an $$SNR = \\frac{I^{foc}}{I^{back}} $$ equal to the number of degrees of freedom $N=399$\n",
    "<br>\n",
    "\n",
    "* **Situation 2 :** phase only modulation (experimental setup of the SLM)\n",
    "Situation 2 is investigated because we know that in the multiple scattering regime, a trivial solution to a focus spot in output is to have a high input field ampltitude opposite to the focus spot. This creates a diffusive halo of size $L$ opposite to the sample.\n",
    "\n",
    "The model output is therefore $f(R)=\\exp(j.angle(\\hat{E^{in}}))$. We expect to observe an SNR equal to 78\\% of the SNR. $$ SNR_{phase only} = \\frac{\\pi}{4} SNR$$ of the amplitude and phase modulation\n",
    "\n",
    "<br>\n",
    "\n",
    "* **Situation 3 :** phase and amplitude modulation BUT amplitude of 1 in the loss function\n",
    "This time we do not constrain the incident field's amplitude but use an incident field of amplitude 1 in the loss function.\n",
    "$$loss =  \\frac{<|E^{in}|^2>}{|E_{p_t}^{out}|^2} $$ with $E_{p_t}^{out} = \\exp(j.angle(E_{p_t}^{out}))$\n",
    "\n",
    "<br>\n",
    "\n",
    "* **Situation 4 :** penalized loss\n",
    "\n",
    "$$loss = \\frac{<|E^{in}|^2>}{|E_{p_t}^{out}|^2} + \\epsilon_1 \\textbf{||}\\textbf{1}_n - |\\hat{E^{in}}|\\textbf{||} + \\epsilon_2 std(|\\hat{E^{in}}|)$$\n",
    "\n",
    "<br>"
   ]
  },
  {
   "cell_type": "markdown",
   "id": "synthetic-dealer",
   "metadata": {},
   "source": [
    "\n",
    "<figure class=\"image\">\n",
    "  <img src='figures/intensity_amp_and_phase.png' alt=\"{{ include.description }}\">\n",
    "</figure>"
   ]
  }
 ],
 "metadata": {
  "kernelspec": {
   "display_name": "Python 3",
   "language": "python",
   "name": "python3"
  },
  "language_info": {
   "codemirror_mode": {
    "name": "ipython",
    "version": 3
   },
   "file_extension": ".py",
   "mimetype": "text/x-python",
   "name": "python",
   "nbconvert_exporter": "python",
   "pygments_lexer": "ipython3",
   "version": "3.8.5"
  }
 },
 "nbformat": 4,
 "nbformat_minor": 5
}
