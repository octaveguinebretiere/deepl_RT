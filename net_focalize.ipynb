{
 "cells": [
  {
   "cell_type": "code",
   "execution_count": 1,
   "id": "mediterranean-designation",
   "metadata": {},
   "outputs": [],
   "source": [
    "import torch\n",
    "from torch import nn\n",
    "from torch.nn import functional as F\n",
    "from torch.utils.data import DataLoader, TensorDataset\n",
    "from torch.utils.data import random_split\n",
    "from torchvision import transforms\n",
    "import pytorch_lightning as pl\n",
    "from pytorch_lightning import loggers as pl_loggers\n",
    "from pytorch_lightning.metrics.functional import accuracy\n",
    "from pytorch_lightning.callbacks import ModelCheckpoint\n",
    "from pytorch_lightning.callbacks.early_stopping import EarlyStopping\n",
    "\n",
    "import numpy as np\n",
    "import matplotlib.pyplot as plt\n",
    "\n",
    "import sys\n",
    "sys.path.append('./complexPyTorch')\n",
    "\n",
    "from complexLayers import ComplexConv2d, ComplexLinear, NaiveComplexBatchNorm2d , ComplexMaxPool2d , ComplexBatchNorm2d , ComplexDropout2d\n",
    "from complexLayers import ComplexReLU\n",
    "from complexFunctions import complex_relu , complex_matmul , complex_avg_pool2d"
   ]
  },
  {
   "cell_type": "markdown",
   "id": "pretty-conditioning",
   "metadata": {},
   "source": [
    "## Simulation description\n",
    "\n",
    "## Description of the simulation \n",
    "\n",
    "* Illumination of a thin multiply scattering medium  \n",
    "* SLM used for wavefront manipulation\n",
    "* CCD camera for detecting the speckle \n",
    "* The SLM and the detector are located very close to the scattering sample  \n",
    "* Total internal reflexion inside the waveguide is assumed\n",
    "\n",
    "<img src='https://www.dropbox.com/s/yd0vdfme95zi4y4/dessin.png?dl=0&raw=1' width=700>"
   ]
  },
  {
   "cell_type": "code",
   "execution_count": 2,
   "id": "sought-blood",
   "metadata": {},
   "outputs": [
    {
     "name": "stdout",
     "output_type": "stream",
     "text": [
      "torch.Size([192, 1999, 1999])\n"
     ]
    }
   ],
   "source": [
    "def bin2arr(path, Nmodes, Nconf):\n",
    "    return torch.from_numpy(np.fromfile(path, dtype=np.float64).reshape(Nconf,Nmodes,Nmodes)).type(torch.float32)\n",
    "\n",
    "N_confs = 192\n",
    "N_modes = 387\n",
    "\n",
    "t_re = bin2arr('../RGF/t_re.res', N_modes, N_confs)  \n",
    "t_im = bin2arr('../RGF/t_im.res', N_modes, N_confs)\n",
    "r_re = bin2arr('../RGF/r_re.res', N_modes, N_confs)\n",
    "r_im = bin2arr('../RGF/r_im.res', N_modes, N_confs) \n",
    "\n",
    "# combine real and imaginary part to get complex tensors\n",
    "# + send them to the GPU\n",
    "pt_r_modes = (r_re +1j*r_im)\n",
    "pt_t_modes = (t_re +1j*t_im)\n",
    "# print(pt_r_modes.shape)\n",
    "\n",
    "# change of basis matrix from mode to space\n",
    "M0 = torch.from_numpy(np.loadtxt('../RGF/ModeToSpace_Nmodes=387_Nspace=1999.dat')).type(torch.complex64)\n",
    "# change of basis matrix from space to mode\n",
    "M1 = torch.from_numpy(np.loadtxt('../RGF/SpaceToMode_Nmodes=387_Nspace=1999.dat')).type(torch.complex64)\n",
    "\n",
    "# convert matrices to pixel basis\n",
    "pt_r_space = M0@pt_r_modes@M1\n",
    "pt_t_space = M0@pt_t_modes@M1\n",
    "\n",
    "print(pt_r_space.shape)"
   ]
  },
  {
   "cell_type": "markdown",
   "id": "rolled-tampa",
   "metadata": {},
   "source": [
    "#### Average pooling is performed on the transmission and reception matrices in space "
   ]
  },
  {
   "cell_type": "code",
   "execution_count": 3,
   "id": "mathematical-university",
   "metadata": {},
   "outputs": [
    {
     "name": "stdout",
     "output_type": "stream",
     "text": [
      "torch.Size([192, 399, 399])\n"
     ]
    }
   ],
   "source": [
    "T_space_av = complex_avg_pool2d(pt_t_space, \n",
    "                                kernel_size = 5,\n",
    "                                stride = 5\n",
    "                                )\n",
    "\n",
    "R_space_av = complex_avg_pool2d(pt_r_space, \n",
    "                                kernel_size = 5,\n",
    "                                stride = 5\n",
    "                                )\n",
    "\n",
    "print(T_space_av.shape)"
   ]
  },
  {
   "cell_type": "code",
   "execution_count": 4,
   "id": "attractive-italian",
   "metadata": {},
   "outputs": [
    {
     "name": "stdout",
     "output_type": "stream",
     "text": [
      "399\n"
     ]
    }
   ],
   "source": [
    "# parameters\n",
    "PARAMS = {\n",
    "    'batch_size':16,\n",
    "    'learning_rate': 1e-3,\n",
    "    'max_epochs':40,\n",
    "    'mat_size':R_space_av.shape[-1]\n",
    "    }\n",
    "print(PARAMS['mat_size'])"
   ]
  },
  {
   "cell_type": "code",
   "execution_count": 5,
   "id": "adopted-georgia",
   "metadata": {},
   "outputs": [
    {
     "name": "stdout",
     "output_type": "stream",
     "text": [
      "3\n"
     ]
    }
   ],
   "source": [
    "def size_after_conv(N, kernel_size, stride, num_conv_layer):\n",
    "    \"\"\"\n",
    "        function returning the size of H,W after a \n",
    "        convolutional layer with kernel_size and stride\n",
    "    \"\"\"\n",
    "    \n",
    "    for i in range(num_conv_layer):\n",
    "        N = int((N-(kernel_size-1)-1)/stride)+1\n",
    "        \n",
    "    return N\n",
    "\n",
    "print((size_after_conv(N = PARAMS['mat_size'], kernel_size = 5, \n",
    "                 stride = 2, num_conv_layer = 6)))"
   ]
  },
  {
   "cell_type": "markdown",
   "id": "norwegian-decline",
   "metadata": {},
   "source": [
    "## Creating a focal spot from scattered light (R and T matrices)\n",
    "\n",
    "\n",
    "\n",
    "### Objective : finding the correct wave phase pattern to apply to the beam incident on the sample to do single-point focusing on the detector \n",
    "\n",
    "To do it : optimizing the shape of the wavefront incident. We want to find the wavefront which creates a focal spot from scattered light at the **middle pixel**. An SLM is used for wavefront manipulation (see Figure above)\n",
    "\n"
   ]
  },
  {
   "cell_type": "markdown",
   "id": "three-kazakhstan",
   "metadata": {},
   "source": [
    "Since the propagation in the medium is assumed to be linear, the field observed at the p-th pixel (behind the scattering medium) is the linear superposition of contributions emitted from individual source elements (SLM pixels) :\n",
    "\n",
    "\\begin{equation*}\n",
    "E_{p}^{out} = \\sum_{n=1}^{N_{SLM}} t_{pn}E_{n}^{in}\n",
    "\\label{eq:light_prop} \\tag{1}\n",
    "\\end{equation*}\n",
    "\n",
    "where $n$ is a pixel on the SLM while m is the camera pixel index.\n",
    "\n",
    "$t_{pn}$ is the medium's complex-valued transmission matrix at the $p$-th row and $n$-th column, it describes the linear relation between the incident and scattered field. \n",
    "\n",
    "Then, adopting a matrix formulation of $\\eqref{eq:light_prop}$, we get : $\\textbf{E}^{out}=T.\\textbf{E}^{in}$, with $T$ the complex-valued transmission matrix.\n",
    "\n",
    "The input and output fields are respectiviley expressed at the SLM plane and the camera plane.\n",
    "\n",
    "\n",
    "We want to find the incident fields that focuses the light at the middle of the detector only from the reflection matrix. Hence, our model $f$ outputs the incident field $E^{in}$ from the reflection matrix $R$ only : \n",
    "$$\\hat{E}^{in} = f(R)$$ \n",
    "\n",
    "\n",
    "In terms of pixels it means that we want to maximise the intensity at the pixel $p_t$ in the middle : $\\underset{w}{\\arg\\max} |E_{p_t}^{out}|^2$ with $w$ the wieghts of the trained model. $E^{out}$ is obtained thanks to the transmission matrix\n",
    "\n",
    "\n",
    "During each epoch of the training, we compute the loss function $loss = \\frac{|E^{out}|^2}{|E_{p_t}^{out}|^2}$ and update the weights of the model so that the function is minimized.\n",
    "\n",
    "During each epoch, the model is also passed on validation data (unseen data) to detect overfitting.\n",
    "\n"
   ]
  },
  {
   "cell_type": "markdown",
   "id": "atlantic-angle",
   "metadata": {},
   "source": [
    "## Scalable model\n",
    "\n",
    "Here we do not intend to learn the incident light field to focus on a single point on the detector of a single scattering meidum. INSTEAD, we build a model to learn the incident light field of **any** scattering medium. To do so, we learn the latter mapping by training on multiple scattering media (192) with different microstructures while having the same macroscopic parameter. This is done to have a scalable model."
   ]
  },
  {
   "cell_type": "markdown",
   "id": "plain-diabetes",
   "metadata": {},
   "source": [
    "## Network Architecture\n",
    "<img src='https://www.dropbox.com/s/vtq5zl5ykrbpuqr/nn-11.png?dl=0&raw=1' width=700>"
   ]
  },
  {
   "cell_type": "code",
   "execution_count": 9,
   "id": "british-information",
   "metadata": {},
   "outputs": [],
   "source": [
    "class Lit_net_1(pl.LightningModule):\n",
    "    def __init__(self, mat_size):\n",
    "        super().__init__()\n",
    "        \n",
    "        ## Convolutional layers\n",
    "        \n",
    "        \n",
    "        self.conv1 = ComplexConv2d(in_channels = 1, \n",
    "                                   out_channels = 20, \n",
    "                                   kernel_size = 3, \n",
    "                                   padding = 1,\n",
    "                                   )\n",
    "        \n",
    "\n",
    "        \n",
    "        self.conv2 = ComplexConv2d(in_channels = 20, \n",
    "                                   out_channels = 50, \n",
    "                                   kernel_size = 3, \n",
    "                                   padding = 1,\n",
    "                                   )\n",
    "        \n",
    "        self.conv3 = ComplexConv2d(in_channels = 50, \n",
    "                                   out_channels = 100, \n",
    "                                   kernel_size = 3, \n",
    "                                   padding = 1,\n",
    "                                   )\n",
    "        \n",
    "        self.conv4 = ComplexConv2d(in_channels = 100, \n",
    "                                   out_channels = 150, \n",
    "                                   kernel_size = 3, \n",
    "                                   padding = 1,\n",
    "                                   )\n",
    "        \n",
    "        self.conv5 = ComplexConv2d(in_channels = 150, \n",
    "                                   out_channels = 150, \n",
    "                                   kernel_size = 3, \n",
    "                                   padding = 1,\n",
    "                                   )\n",
    "        \n",
    "        # batch normalization\n",
    "        self.bn  = ComplexBatchNorm2d(20) \n",
    "        \n",
    "        # pool layers\n",
    "        self.pool = ComplexMaxPool2d(kernel_size = 5, stride=2)\n",
    "\n",
    "        # non linearity\n",
    "        self.activfunc_a = ComplexReLU()\n",
    "\n",
    "        # fully connected layers - at the end\n",
    "        flattened_dim = 150 * (size_after_conv(N = PARAMS['mat_size'],\n",
    "                                               kernel_size = 5, \n",
    "                                               stride = 2, \n",
    "                                               num_conv_layer = 6\n",
    "                                               ))**2\n",
    "        self.fc1 = ComplexLinear(flattened_dim, 1024)\n",
    "        \n",
    "        self.dropout = ComplexDropout2d(p = 0.3)\n",
    " \n",
    "        self.fc2 = ComplexLinear(1024, mat_size)\n",
    "\n",
    "    def forward(self, x):\n",
    "        \n",
    "        x = self.activfunc_a(self.conv1(x))\n",
    "        x = self.pool(x)\n",
    "\n",
    "        x = self.bn(x)\n",
    "    \n",
    "        x = self.activfunc_a(self.conv2(x))\n",
    "        x = self.pool(x)\n",
    "        \n",
    "        x = self.activfunc_a(self.conv3(x)) \n",
    "        x = self.pool(x)\n",
    "        \n",
    "        x = self.dropout(x)\n",
    "        \n",
    "        x = self.activfunc_a(self.conv4(x)) \n",
    "        x = self.pool(x)\n",
    "        \n",
    "        x = self.activfunc_a(self.conv5(x)) \n",
    "        x = self.pool(x)\n",
    "        \n",
    "        x = self.activfunc_a(self.conv5(x)) \n",
    "        x = self.pool(x)\n",
    "        \n",
    "        x = x.view(x.size(0), -1)\n",
    "        \n",
    "        x = self.fc1(x)\n",
    "        \n",
    "        x = self.dropout(x)\n",
    "        \n",
    "        x = self.fc2(x)\n",
    "        \n",
    "        return x\n",
    "\n",
    "    def configure_optimizers(self):\n",
    "        optimizer = torch.optim.Adam(self.parameters(), lr=PARAMS['learning_rate'])\n",
    "        return optimizer\n",
    "\n",
    "    def training_step(self, train_batch, batch_idx):\n",
    "        r, t = train_batch\n",
    "\n",
    "        r = r.type(torch.complex64)\n",
    "        self.input_shape = r.shape\n",
    "        \n",
    "        x_hat = self.forward(r) \n",
    "\n",
    "        x_hat = torch.unsqueeze(x_hat,dim=2)\n",
    "\n",
    "        t = torch.squeeze(t)\n",
    "        \n",
    "        y = complex_matmul(t,x_hat)\n",
    "\n",
    "        loss = (((torch.norm(y.abs(), dim=1))**2) / \\\n",
    "                ((y[:,int((y.shape[1])/2)].abs())**2)).mean()\n",
    "        \n",
    "        self.log('train_loss', loss)\n",
    "        \n",
    "        return {'loss':loss}\n",
    "\n",
    "    def validation_step(self, val_batch, batch_idx):\n",
    "        \n",
    "        return self.training_step(val_batch, batch_idx)\n",
    "    \n",
    "    def validation_epoch_end(self, outputs):\n",
    "        \n",
    "        #  the function is called after  every epoch is completed\n",
    "        \n",
    "        if(self.current_epoch==1):\n",
    "            sample_input=torch.rand(self.input_shape).type(torch.complex64)\n",
    "\n",
    "        # calculating average loss \n",
    "        avg_val_loss = torch.stack([x['loss'] for x in outputs]).mean()\n",
    "        \n",
    "        self.log('avg_val_loss', avg_val_loss)\n",
    "        \n",
    "        return {'val_loss': avg_val_loss} # for early stopping \n",
    "    \n",
    "    def training_epoch_end(self,outputs):\n",
    "        #  the function is called after every epoch is completed\n",
    "        \n",
    "        if(self.current_epoch==1):\n",
    "            sample_input=torch.rand(self.input_shape).type(torch.complex64)\n",
    "\n",
    "        # calculating average loss \n",
    "        avg_train_loss = torch.stack([x['loss'] for x in outputs]).mean()\n",
    "        \n",
    "        self.log('avg_train_loss', avg_train_loss)\n",
    "\n"
   ]
  },
  {
   "cell_type": "code",
   "execution_count": 19,
   "id": "widespread-yorkshire",
   "metadata": {
    "scrolled": false
   },
   "outputs": [
    {
     "name": "stderr",
     "output_type": "stream",
     "text": [
      "NeptuneLogger will work in online mode\n",
      "/opt/miniconda/py3/envs/py38/lib/python3.8/site-packages/pytorch_lightning/utilities/distributed.py:50: UserWarning: Checkpoint directory ../check_p/ exists and is not empty.\n",
      "  warnings.warn(*args, **kwargs)\n",
      "GPU available: True, used: True\n",
      "TPU available: None, using: 0 TPU cores\n",
      "LOCAL_RANK: 0 - CUDA_VISIBLE_DEVICES: [0,1,2,3]\n",
      "\n",
      "   | Name        | Type               | Params\n",
      "----------------------------------------------------\n",
      "0  | conv1       | ComplexConv2d      | 400   \n",
      "1  | conv2       | ComplexConv2d      | 18.1 K\n",
      "2  | conv3       | ComplexConv2d      | 90.2 K\n",
      "3  | conv4       | ComplexConv2d      | 270 K \n",
      "4  | conv5       | ComplexConv2d      | 405 K \n",
      "5  | bn          | ComplexBatchNorm2d | 100   \n",
      "6  | pool        | ComplexMaxPool2d   | 0     \n",
      "7  | activfunc_a | ComplexReLU        | 0     \n",
      "8  | fc1         | ComplexLinear      | 2.8 M \n",
      "9  | dropout     | ComplexDropout2d   | 0     \n",
      "10 | fc2         | ComplexLinear      | 817 K \n",
      "----------------------------------------------------\n",
      "4.4 M     Trainable params\n",
      "0         Non-trainable params\n",
      "4.4 M     Total params\n"
     ]
    },
    {
     "data": {
      "application/vnd.jupyter.widget-view+json": {
       "model_id": "bbea6a4296724706bcac074a6429aa46",
       "version_major": 2,
       "version_minor": 0
      },
      "text/plain": [
       "Validation sanity check: 0it [00:00, ?it/s]"
      ]
     },
     "metadata": {},
     "output_type": "display_data"
    },
    {
     "name": "stderr",
     "output_type": "stream",
     "text": [
      "/opt/miniconda/py3/envs/py38/lib/python3.8/site-packages/pytorch_lightning/utilities/distributed.py:50: UserWarning: The validation_epoch_end should not return anything as of 9.1. To log, use self.log(...) or self.write(...) directly in the LightningModule\n",
      "  warnings.warn(*args, **kwargs)\n",
      "psutil is not installed. You will not be able to abort this experiment from the UI.\n",
      "psutil is not installed. Hardware metrics will not be collected.\n"
     ]
    },
    {
     "name": "stdout",
     "output_type": "stream",
     "text": [
      "https://ui.neptune.ai/octaveg5/testRT/e/TES-247\n"
     ]
    },
    {
     "data": {
      "application/vnd.jupyter.widget-view+json": {
       "model_id": "18cd968e8ca94331994761246c6c8311",
       "version_major": 2,
       "version_minor": 0
      },
      "text/plain": [
       "Training: 0it [00:00, ?it/s]"
      ]
     },
     "metadata": {},
     "output_type": "display_data"
    },
    {
     "data": {
      "application/vnd.jupyter.widget-view+json": {
       "model_id": "",
       "version_major": 2,
       "version_minor": 0
      },
      "text/plain": [
       "Validating: 0it [00:00, ?it/s]"
      ]
     },
     "metadata": {},
     "output_type": "display_data"
    },
    {
     "data": {
      "application/vnd.jupyter.widget-view+json": {
       "model_id": "",
       "version_major": 2,
       "version_minor": 0
      },
      "text/plain": [
       "Validating: 0it [00:00, ?it/s]"
      ]
     },
     "metadata": {},
     "output_type": "display_data"
    },
    {
     "data": {
      "application/vnd.jupyter.widget-view+json": {
       "model_id": "",
       "version_major": 2,
       "version_minor": 0
      },
      "text/plain": [
       "Validating: 0it [00:00, ?it/s]"
      ]
     },
     "metadata": {},
     "output_type": "display_data"
    },
    {
     "data": {
      "application/vnd.jupyter.widget-view+json": {
       "model_id": "",
       "version_major": 2,
       "version_minor": 0
      },
      "text/plain": [
       "Validating: 0it [00:00, ?it/s]"
      ]
     },
     "metadata": {},
     "output_type": "display_data"
    },
    {
     "data": {
      "application/vnd.jupyter.widget-view+json": {
       "model_id": "",
       "version_major": 2,
       "version_minor": 0
      },
      "text/plain": [
       "Validating: 0it [00:00, ?it/s]"
      ]
     },
     "metadata": {},
     "output_type": "display_data"
    },
    {
     "data": {
      "application/vnd.jupyter.widget-view+json": {
       "model_id": "",
       "version_major": 2,
       "version_minor": 0
      },
      "text/plain": [
       "Validating: 0it [00:00, ?it/s]"
      ]
     },
     "metadata": {},
     "output_type": "display_data"
    },
    {
     "data": {
      "application/vnd.jupyter.widget-view+json": {
       "model_id": "",
       "version_major": 2,
       "version_minor": 0
      },
      "text/plain": [
       "Validating: 0it [00:00, ?it/s]"
      ]
     },
     "metadata": {},
     "output_type": "display_data"
    },
    {
     "data": {
      "application/vnd.jupyter.widget-view+json": {
       "model_id": "",
       "version_major": 2,
       "version_minor": 0
      },
      "text/plain": [
       "Validating: 0it [00:00, ?it/s]"
      ]
     },
     "metadata": {},
     "output_type": "display_data"
    },
    {
     "data": {
      "application/vnd.jupyter.widget-view+json": {
       "model_id": "",
       "version_major": 2,
       "version_minor": 0
      },
      "text/plain": [
       "Validating: 0it [00:00, ?it/s]"
      ]
     },
     "metadata": {},
     "output_type": "display_data"
    },
    {
     "data": {
      "application/vnd.jupyter.widget-view+json": {
       "model_id": "",
       "version_major": 2,
       "version_minor": 0
      },
      "text/plain": [
       "Validating: 0it [00:00, ?it/s]"
      ]
     },
     "metadata": {},
     "output_type": "display_data"
    },
    {
     "data": {
      "application/vnd.jupyter.widget-view+json": {
       "model_id": "",
       "version_major": 2,
       "version_minor": 0
      },
      "text/plain": [
       "Validating: 0it [00:00, ?it/s]"
      ]
     },
     "metadata": {},
     "output_type": "display_data"
    },
    {
     "data": {
      "application/vnd.jupyter.widget-view+json": {
       "model_id": "",
       "version_major": 2,
       "version_minor": 0
      },
      "text/plain": [
       "Validating: 0it [00:00, ?it/s]"
      ]
     },
     "metadata": {},
     "output_type": "display_data"
    },
    {
     "data": {
      "application/vnd.jupyter.widget-view+json": {
       "model_id": "",
       "version_major": 2,
       "version_minor": 0
      },
      "text/plain": [
       "Validating: 0it [00:00, ?it/s]"
      ]
     },
     "metadata": {},
     "output_type": "display_data"
    },
    {
     "data": {
      "application/vnd.jupyter.widget-view+json": {
       "model_id": "",
       "version_major": 2,
       "version_minor": 0
      },
      "text/plain": [
       "Validating: 0it [00:00, ?it/s]"
      ]
     },
     "metadata": {},
     "output_type": "display_data"
    },
    {
     "data": {
      "application/vnd.jupyter.widget-view+json": {
       "model_id": "",
       "version_major": 2,
       "version_minor": 0
      },
      "text/plain": [
       "Validating: 0it [00:00, ?it/s]"
      ]
     },
     "metadata": {},
     "output_type": "display_data"
    },
    {
     "data": {
      "application/vnd.jupyter.widget-view+json": {
       "model_id": "",
       "version_major": 2,
       "version_minor": 0
      },
      "text/plain": [
       "Validating: 0it [00:00, ?it/s]"
      ]
     },
     "metadata": {},
     "output_type": "display_data"
    },
    {
     "data": {
      "application/vnd.jupyter.widget-view+json": {
       "model_id": "",
       "version_major": 2,
       "version_minor": 0
      },
      "text/plain": [
       "Validating: 0it [00:00, ?it/s]"
      ]
     },
     "metadata": {},
     "output_type": "display_data"
    },
    {
     "data": {
      "application/vnd.jupyter.widget-view+json": {
       "model_id": "",
       "version_major": 2,
       "version_minor": 0
      },
      "text/plain": [
       "Validating: 0it [00:00, ?it/s]"
      ]
     },
     "metadata": {},
     "output_type": "display_data"
    },
    {
     "data": {
      "application/vnd.jupyter.widget-view+json": {
       "model_id": "",
       "version_major": 2,
       "version_minor": 0
      },
      "text/plain": [
       "Validating: 0it [00:00, ?it/s]"
      ]
     },
     "metadata": {},
     "output_type": "display_data"
    },
    {
     "data": {
      "application/vnd.jupyter.widget-view+json": {
       "model_id": "",
       "version_major": 2,
       "version_minor": 0
      },
      "text/plain": [
       "Validating: 0it [00:00, ?it/s]"
      ]
     },
     "metadata": {},
     "output_type": "display_data"
    },
    {
     "data": {
      "application/vnd.jupyter.widget-view+json": {
       "model_id": "",
       "version_major": 2,
       "version_minor": 0
      },
      "text/plain": [
       "Validating: 0it [00:00, ?it/s]"
      ]
     },
     "metadata": {},
     "output_type": "display_data"
    },
    {
     "data": {
      "application/vnd.jupyter.widget-view+json": {
       "model_id": "",
       "version_major": 2,
       "version_minor": 0
      },
      "text/plain": [
       "Validating: 0it [00:00, ?it/s]"
      ]
     },
     "metadata": {},
     "output_type": "display_data"
    },
    {
     "data": {
      "application/vnd.jupyter.widget-view+json": {
       "model_id": "",
       "version_major": 2,
       "version_minor": 0
      },
      "text/plain": [
       "Validating: 0it [00:00, ?it/s]"
      ]
     },
     "metadata": {},
     "output_type": "display_data"
    },
    {
     "data": {
      "application/vnd.jupyter.widget-view+json": {
       "model_id": "",
       "version_major": 2,
       "version_minor": 0
      },
      "text/plain": [
       "Validating: 0it [00:00, ?it/s]"
      ]
     },
     "metadata": {},
     "output_type": "display_data"
    },
    {
     "data": {
      "application/vnd.jupyter.widget-view+json": {
       "model_id": "",
       "version_major": 2,
       "version_minor": 0
      },
      "text/plain": [
       "Validating: 0it [00:00, ?it/s]"
      ]
     },
     "metadata": {},
     "output_type": "display_data"
    },
    {
     "data": {
      "application/vnd.jupyter.widget-view+json": {
       "model_id": "",
       "version_major": 2,
       "version_minor": 0
      },
      "text/plain": [
       "Validating: 0it [00:00, ?it/s]"
      ]
     },
     "metadata": {},
     "output_type": "display_data"
    },
    {
     "data": {
      "application/vnd.jupyter.widget-view+json": {
       "model_id": "",
       "version_major": 2,
       "version_minor": 0
      },
      "text/plain": [
       "Validating: 0it [00:00, ?it/s]"
      ]
     },
     "metadata": {},
     "output_type": "display_data"
    },
    {
     "data": {
      "application/vnd.jupyter.widget-view+json": {
       "model_id": "",
       "version_major": 2,
       "version_minor": 0
      },
      "text/plain": [
       "Validating: 0it [00:00, ?it/s]"
      ]
     },
     "metadata": {},
     "output_type": "display_data"
    },
    {
     "data": {
      "application/vnd.jupyter.widget-view+json": {
       "model_id": "",
       "version_major": 2,
       "version_minor": 0
      },
      "text/plain": [
       "Validating: 0it [00:00, ?it/s]"
      ]
     },
     "metadata": {},
     "output_type": "display_data"
    },
    {
     "data": {
      "application/vnd.jupyter.widget-view+json": {
       "model_id": "",
       "version_major": 2,
       "version_minor": 0
      },
      "text/plain": [
       "Validating: 0it [00:00, ?it/s]"
      ]
     },
     "metadata": {},
     "output_type": "display_data"
    },
    {
     "data": {
      "application/vnd.jupyter.widget-view+json": {
       "model_id": "",
       "version_major": 2,
       "version_minor": 0
      },
      "text/plain": [
       "Validating: 0it [00:00, ?it/s]"
      ]
     },
     "metadata": {},
     "output_type": "display_data"
    },
    {
     "data": {
      "application/vnd.jupyter.widget-view+json": {
       "model_id": "",
       "version_major": 2,
       "version_minor": 0
      },
      "text/plain": [
       "Validating: 0it [00:00, ?it/s]"
      ]
     },
     "metadata": {},
     "output_type": "display_data"
    },
    {
     "data": {
      "application/vnd.jupyter.widget-view+json": {
       "model_id": "",
       "version_major": 2,
       "version_minor": 0
      },
      "text/plain": [
       "Validating: 0it [00:00, ?it/s]"
      ]
     },
     "metadata": {},
     "output_type": "display_data"
    },
    {
     "data": {
      "application/vnd.jupyter.widget-view+json": {
       "model_id": "",
       "version_major": 2,
       "version_minor": 0
      },
      "text/plain": [
       "Validating: 0it [00:00, ?it/s]"
      ]
     },
     "metadata": {},
     "output_type": "display_data"
    },
    {
     "data": {
      "application/vnd.jupyter.widget-view+json": {
       "model_id": "",
       "version_major": 2,
       "version_minor": 0
      },
      "text/plain": [
       "Validating: 0it [00:00, ?it/s]"
      ]
     },
     "metadata": {},
     "output_type": "display_data"
    },
    {
     "name": "stderr",
     "output_type": "stream",
     "text": [
      "Exception ignored in: <function _MultiProcessingDataLoaderIter.__del__ at 0x7fb5984924c0>\n",
      "Traceback (most recent call last):\n",
      "  File \"/opt/miniconda/py3/envs/py38/lib/python3.8/site-packages/torch/utils/data/dataloader.py\", line 1203, in __del__\n",
      "    self._shutdown_workers()\n",
      "  File \"/opt/miniconda/py3/envs/py38/lib/python3.8/site-packages/torch/utils/data/dataloader.py\", line 1177, in _shutdown_workers\n",
      "    w.join(timeout=_utils.MP_STATUS_CHECK_INTERVAL)\n",
      "Exception ignored in:   File \"/opt/miniconda/py3/envs/py38/lib/python3.8/multiprocessing/process.py\", line 147, in join\n",
      "<function _MultiProcessingDataLoaderIter.__del__ at 0x7fb5984924c0>    \n",
      "assert self._parent_pid == os.getpid(), 'can only join a child process'Traceback (most recent call last):\n",
      "\n",
      "  File \"/opt/miniconda/py3/envs/py38/lib/python3.8/site-packages/torch/utils/data/dataloader.py\", line 1203, in __del__\n",
      "AssertionError: can only join a child process    \n",
      "self._shutdown_workers()\n",
      "  File \"/opt/miniconda/py3/envs/py38/lib/python3.8/site-packages/torch/utils/data/dataloader.py\", line 1177, in _shutdown_workers\n",
      "    w.join(timeout=_utils.MP_STATUS_CHECK_INTERVAL)\n",
      "  File \"/opt/miniconda/py3/envs/py38/lib/python3.8/multiprocessing/process.py\", line 147, in join\n",
      "    assert self._parent_pid == os.getpid(), 'can only join a child process'\n",
      "AssertionError: can only join a child process\n"
     ]
    },
    {
     "data": {
      "application/vnd.jupyter.widget-view+json": {
       "model_id": "",
       "version_major": 2,
       "version_minor": 0
      },
      "text/plain": [
       "Validating: 0it [00:00, ?it/s]"
      ]
     },
     "metadata": {},
     "output_type": "display_data"
    },
    {
     "data": {
      "application/vnd.jupyter.widget-view+json": {
       "model_id": "",
       "version_major": 2,
       "version_minor": 0
      },
      "text/plain": [
       "Validating: 0it [00:00, ?it/s]"
      ]
     },
     "metadata": {},
     "output_type": "display_data"
    },
    {
     "data": {
      "application/vnd.jupyter.widget-view+json": {
       "model_id": "",
       "version_major": 2,
       "version_minor": 0
      },
      "text/plain": [
       "Validating: 0it [00:00, ?it/s]"
      ]
     },
     "metadata": {},
     "output_type": "display_data"
    },
    {
     "data": {
      "application/vnd.jupyter.widget-view+json": {
       "model_id": "",
       "version_major": 2,
       "version_minor": 0
      },
      "text/plain": [
       "Validating: 0it [00:00, ?it/s]"
      ]
     },
     "metadata": {},
     "output_type": "display_data"
    },
    {
     "data": {
      "application/vnd.jupyter.widget-view+json": {
       "model_id": "",
       "version_major": 2,
       "version_minor": 0
      },
      "text/plain": [
       "Validating: 0it [00:00, ?it/s]"
      ]
     },
     "metadata": {},
     "output_type": "display_data"
    },
    {
     "name": "stdout",
     "output_type": "stream",
     "text": [
      "FINISHED TRAINING\n"
     ]
    }
   ],
   "source": [
    "# pt_r = pt_r_modes[:,None,...]\n",
    "# pt_t = pt_t_modes[:,None,...]\n",
    "\n",
    "pt_r = R_space_av[:,None,...]\n",
    "pt_t = T_space_av[:,None,...]\n",
    "\n",
    "r_dataset = TensorDataset(pt_r,pt_t)\n",
    "\n",
    "\n",
    "N_tot = pt_r.shape[0]\n",
    "test_fraction = 0.8\n",
    "N_train = int(0.8 * N_tot)\n",
    "N_val = N_tot - N_train\n",
    "\n",
    "rt_train, rt_val = random_split(r_dataset, [N_train, N_val])\n",
    "\n",
    "train_loader = DataLoader(rt_train, \n",
    "                          batch_size=PARAMS['batch_size'], \n",
    "                          num_workers=8)\n",
    "val_loader = DataLoader(rt_val, \n",
    "                        batch_size=PARAMS['batch_size'],\n",
    "                        num_workers=8)\n",
    "\n",
    "# model\n",
    "model = Lit_net_1(mat_size=PARAMS['mat_size'])\n",
    "\n",
    "\n",
    "\n",
    "tb_logger = pl_loggers.TensorBoardLogger('logs/')\n",
    "\n",
    "\n",
    "neptune_logger = pl_loggers.neptune.NeptuneLogger(\n",
    "    api_key=\"eyJhcGlfYWRkcmVzcyI6Imh0dHBzOi8vdWkubmVwdHVuZS5haSIsImFwaV91cmwiOiJodHRwczovL3VpLm5lcHR1bmUuYWkiLCJhcGlfa2V5IjoiNGE0ODg3N2ItN2EwMi00OTk5LWExMTYtNWE2NjVhNjhmNzY5In0=\",\n",
    "    project_name=\"octaveg5/testRT\",\n",
    "    params=PARAMS # save relevant paramters\n",
    "    )\n",
    "\n",
    "\n",
    "\n",
    "checkpoint_callback = ModelCheckpoint(\n",
    "    monitor='val_loss',\n",
    "    dirpath='../check_p/',\n",
    "    filename='sample-TR-conjugate-focalize-tr-{epoch:02d}-{val_loss:.1f}',\n",
    "    save_top_k=1,\n",
    "    mode='min',\n",
    ")\n",
    "\n",
    "early_stop_callback = EarlyStopping(\n",
    "   monitor='val_loss',\n",
    "   min_delta=0.005,\n",
    "   patience=3,\n",
    "   verbose=True,\n",
    "   mode='min'\n",
    ")\n",
    "\n",
    "# training\n",
    "trainer = pl.Trainer(\n",
    "    gpus=[1],\n",
    "    progress_bar_refresh_rate=80,\n",
    "    max_epochs=PARAMS['max_epochs'],\n",
    "    logger = neptune_logger,\n",
    "#     logger=False,\n",
    "    callbacks=[checkpoint_callback,early_stop_callback],\n",
    "#     callbacks=False,\n",
    "    )\n",
    "trainer.fit(model, train_loader, val_loader)\n",
    "\n",
    "print(\"FINISHED TRAINING\")"
   ]
  },
  {
   "cell_type": "code",
   "execution_count": 20,
   "id": "recreational-nirvana",
   "metadata": {},
   "outputs": [
    {
     "data": {
      "text/plain": [
       "<All keys matched successfully>"
      ]
     },
     "execution_count": 20,
     "metadata": {},
     "output_type": "execute_result"
    }
   ],
   "source": [
    "model = Lit_net_1(mat_size = PARAMS['mat_size'])\n",
    "\n",
    "checkpoint = torch.load('../check_p/sample-TR-conjugate-focalize-tr-epoch=39-val_loss=1.3.ckpt')\n",
    "\n",
    "model.load_state_dict(checkpoint['state_dict'])\n"
   ]
  },
  {
   "cell_type": "code",
   "execution_count": 21,
   "id": "unsigned-arrow",
   "metadata": {},
   "outputs": [],
   "source": [
    "ind = 0\n",
    "R_space_val, T_space_val = rt_val.__getitem__(ind)\n",
    "R_space_train, T_space_train = rt_train.__getitem__(ind)"
   ]
  },
  {
   "cell_type": "code",
   "execution_count": 22,
   "id": "removable-union",
   "metadata": {},
   "outputs": [],
   "source": [
    "x_hat_v = model(R_space_val[:, None, ...]).squeeze()\n",
    "x_hat_t = model(R_space_train[:, None, ...]).squeeze()"
   ]
  },
  {
   "cell_type": "markdown",
   "id": "deluxe-spirituality",
   "metadata": {},
   "source": [
    "In order to evaluate the model's performance we apply our model to unseen data and compare it to the ground-truth incident field which is derived as follow :\n",
    "\n",
    "We want to find $E^{in}$ so that $E^{out}$ is maximized at the middle pixel $p_t$. \n",
    "\n",
    "From equation (1), $$E_p^{out} = \\sum_{n=1}^{N_{SLM}} t_{pn}E_{n}^{in} = \\sum_{n=1}^{N_{SLM}} |t_{pn}|e^{\\textit{j}arg(t_{pn})}|E_{n}^{in}|e^{\\textit{j}arg(E_{n}^{in})}$$\n",
    "\n",
    "in order to maximize this quantity at output pixel $p_t$ we need : $arg({t_{p_tn}})=-arg(E_{n}^{in})$. And for an arbitrarily chosen output pixel $p \\neq p_t$, the output field is a sum of random phasors (see Figure (a) above). Therefore, the ground-truth incident field is $E_n^{in} = (t_{p_tn})^{*}$ the complex-conjugate of the $p_t$-th transmission matrix row.\n",
    "\n",
    "$$E_p^{out} = \\sum_{n=1}^{N_{SLM}} |t_{pn}||E_{n}^{in}|e^{\\textit{j}(arg(t_{pn})-arg(t_{p_tn}))}$$\n",
    "\n",
    "$$E_{p_t}^{out} = \\sum_{n=1}^{N_{SLM}} |t_{pn}||E_{n}^{in}|$$\n",
    "\n",
    "See Figure for an illustration."
   ]
  },
  {
   "cell_type": "markdown",
   "id": "immune-custody",
   "metadata": {},
   "source": [
    "<img src='https://www.dropbox.com/s/4tq0okfm5gizhnf/dessin3.png?dl=0&raw=1' width=500>"
   ]
  },
  {
   "cell_type": "code",
   "execution_count": 23,
   "id": "emotional-nothing",
   "metadata": {
    "scrolled": true
   },
   "outputs": [
    {
     "data": {
      "image/png": "[encoded data removed]",
      "text/plain": [
       "<Figure size 576x360 with 2 Axes>"
      ]
     },
     "metadata": {
      "needs_background": "light"
     },
     "output_type": "display_data"
    }
   ],
   "source": [
    "T_av_v_np = T_space_val.numpy().squeeze()\n",
    "T_av_t_np = T_space_train.numpy().squeeze()\n",
    "\n",
    "T_dag_v_np = T_space_val.transpose(2,1).conj().numpy().squeeze()\n",
    "T_dag_t_np = T_space_train.transpose(2,1).conj().numpy().squeeze()\n",
    "\n",
    "x_cp_v = T_dag_v_np[... , T_dag_v_np.shape[-1]//2]\n",
    "x_cp_t = T_dag_t_np[... , T_dag_t_np.shape[-1]//2]\n",
    "\n",
    "x_hat_v_np = x_hat_v.cpu().detach().numpy()\n",
    "x_hat_t_np = x_hat_t.cpu().detach().numpy()\n",
    "\n",
    "x_cp_v_abs = np.abs(x_cp_v)\n",
    "\n",
    "\n",
    "%matplotlib inline\n",
    "plt.figure(figsize=(8,5))\n",
    "plt.subplot(121)\n",
    "plt.plot(np.abs(x_hat_t_np)/np.linalg.norm(x_hat_t_np), \n",
    "          label = 'x_hat_np')\n",
    "plt.plot(np.abs(x_cp_t)/np.linalg.norm(x_cp_t), '--', \n",
    "          label = 'x_cp')\n",
    "plt.title(f\"Train plot for index {ind}\")\n",
    "plt.legend()\n",
    "plt.subplot(122)\n",
    "plt.plot(np.abs(x_hat_v_np)/np.linalg.norm(x_hat_v_np),\n",
    "         label = 'x_hat_np')\n",
    "plt.plot(np.abs(x_cp_v)/np.linalg.norm(x_cp_v), '--',\n",
    "         label = 'x_cp')\n",
    "plt.title(f\"Validation plot for index {ind}\")\n",
    "plt.legend()\n",
    "plt.suptitle(\"Prediction X matrix\")\n",
    "plt.tight_layout()\n",
    "plt.show()"
   ]
  },
  {
   "cell_type": "code",
   "execution_count": 25,
   "id": "regulation-george",
   "metadata": {
    "scrolled": true
   },
   "outputs": [
    {
     "data": {
      "image/png": "[encoded data removed]",
      "text/plain": [
       "<Figure size 576x360 with 2 Axes>"
      ]
     },
     "metadata": {
      "needs_background": "light"
     },
     "output_type": "display_data"
    }
   ],
   "source": [
    "from matplotlib.font_manager import FontProperties\n",
    "%matplotlib inline\n",
    "\n",
    "y_hat_v_np_r = np.abs((T_av_v_np@x_hat_v_np))\n",
    "y_hat_t_np_r = np.abs((T_av_t_np@x_hat_t_np))\n",
    "# \n",
    "y_hat_v_np = y_hat_v_np_r/np.linalg.norm(y_hat_v_np_r)\n",
    "y_hat_t_np = y_hat_t_np_r/np.linalg.norm(y_hat_t_np_r)\n",
    "\n",
    "y_cp_v_np_r = np.abs(T_av_v_np@x_cp_v)\n",
    "y_cp_t_np_r = np.abs(T_av_t_np@x_cp_v)\n",
    "\n",
    "y_cp_v_np = y_cp_v_np_r/np.linalg.norm(y_cp_v_np_r)\n",
    "y_cp_t_np = y_cp_t_np_r/np.linalg.norm(y_cp_t_np_r)\n",
    "\n",
    "x_exp = np.array([1 if i == T_dag_v_np.shape[-1]//2 else 0 for i in range(T_dag_v_np.shape[-1])])\n",
    "y_exp = np.abs(T_av_v_np@x_exp)\n",
    "y_exp_n = y_exp/np.linalg.norm(y_exp)\n",
    "\n",
    "abs_lim = (150,250)\n",
    "\n",
    "plt.figure(figsize=(8,5))\n",
    "fontP = FontProperties()\n",
    "fontP.set_size('small')\n",
    "plt.subplot(121)\n",
    "plt.plot(y_hat_t_np , label = 'y_hat_np')\n",
    "plt.plot(y_cp_t_np, '--' , label = 'y_cp_np')\n",
    "plt.plot(y_exp_n, '--', label = 'y_exp')\n",
    "# plt.xlim(abs_lim)\n",
    "plt.ylim((-0.05, max(np.max(y_hat_t_np), np.max(y_cp_t_np), \\\n",
    "                     np.max(y_hat_v_np), np.max(y_cp_v_np))))\n",
    "plt.legend(prop=fontP)\n",
    "plt.title(f\"Train plot for index {ind}\")\n",
    "plt.subplot(122)\n",
    "plt.plot( y_hat_v_np , label = 'y_hat_np')\n",
    "plt.plot( y_cp_v_np , '--' , label = 'y_cp_np')\n",
    "plt.plot(y_exp_n, '--', label = 'y_exp')\n",
    "# plt.xlim(abs_lim)\n",
    "plt.ylim((-0.05, max(np.max(y_hat_t_np), np.max(y_cp_t_np), \\\n",
    "                     np.max(y_hat_v_np), np.max(y_cp_v_np))))\n",
    "plt.title(f\"Validation plot for index {ind}\")\n",
    "plt.suptitle(\"Intensity\")\n",
    "plt.legend(prop=fontP)\n",
    "plt.show()"
   ]
  },
  {
   "cell_type": "code",
   "execution_count": 32,
   "id": "great-hearts",
   "metadata": {},
   "outputs": [
    {
     "name": "stdout",
     "output_type": "stream",
     "text": [
      "/automount/nfs/curie/bme/oguinebr/DL_RT/deep_speckle\r\n"
     ]
    }
   ],
   "source": [
    "!pwd"
   ]
  },
  {
   "cell_type": "code",
   "execution_count": null,
   "id": "based-possession",
   "metadata": {},
   "outputs": [],
   "source": []
  }
 ],
 "metadata": {
  "kernelspec": {
   "display_name": "Python 3",
   "language": "python",
   "name": "python3"
  },
  "language_info": {
   "codemirror_mode": {
    "name": "ipython",
    "version": 3
   },
   "file_extension": ".py",
   "mimetype": "text/x-python",
   "name": "python",
   "nbconvert_exporter": "python",
   "pygments_lexer": "ipython3",
   "version": "3.8.5"
  }
 },
 "nbformat": 4,
 "nbformat_minor": 5
}
